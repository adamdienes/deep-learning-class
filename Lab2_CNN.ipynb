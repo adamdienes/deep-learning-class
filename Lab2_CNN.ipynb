{
  "nbformat": 4,
  "nbformat_minor": 0,
  "metadata": {
    "colab": {
      "provenance": []
    },
    "kernelspec": {
      "name": "python3",
      "display_name": "Python 3"
    },
    "accelerator": "GPU",
    "widgets": {
      "application/vnd.jupyter.widget-state+json": {
        "7f48effde3b7440a92dbbe767cdf5973": {
          "model_module": "@jupyter-widgets/controls",
          "model_name": "HBoxModel",
          "model_module_version": "1.5.0",
          "state": {
            "_dom_classes": [],
            "_model_module": "@jupyter-widgets/controls",
            "_model_module_version": "1.5.0",
            "_model_name": "HBoxModel",
            "_view_count": null,
            "_view_module": "@jupyter-widgets/controls",
            "_view_module_version": "1.5.0",
            "_view_name": "HBoxView",
            "box_style": "",
            "children": [
              "IPY_MODEL_093e38bb71354575a40f42d0438bbabc",
              "IPY_MODEL_9f157927b6824c0388d5ec92a26ae96b",
              "IPY_MODEL_26e13c81aa1a409e81eba24bb6964c10"
            ],
            "layout": "IPY_MODEL_a74201a67e4842dfa255ac88391852d7"
          }
        },
        "093e38bb71354575a40f42d0438bbabc": {
          "model_module": "@jupyter-widgets/controls",
          "model_name": "HTMLModel",
          "model_module_version": "1.5.0",
          "state": {
            "_dom_classes": [],
            "_model_module": "@jupyter-widgets/controls",
            "_model_module_version": "1.5.0",
            "_model_name": "HTMLModel",
            "_view_count": null,
            "_view_module": "@jupyter-widgets/controls",
            "_view_module_version": "1.5.0",
            "_view_name": "HTMLView",
            "description": "",
            "description_tooltip": null,
            "layout": "IPY_MODEL_506e791f3eac403a915a1d5523cbb758",
            "placeholder": "​",
            "style": "IPY_MODEL_271e00f6cc394d1d8fc6b2876feaebbd",
            "value": "Epochs: 100%"
          }
        },
        "9f157927b6824c0388d5ec92a26ae96b": {
          "model_module": "@jupyter-widgets/controls",
          "model_name": "FloatProgressModel",
          "model_module_version": "1.5.0",
          "state": {
            "_dom_classes": [],
            "_model_module": "@jupyter-widgets/controls",
            "_model_module_version": "1.5.0",
            "_model_name": "FloatProgressModel",
            "_view_count": null,
            "_view_module": "@jupyter-widgets/controls",
            "_view_module_version": "1.5.0",
            "_view_name": "ProgressView",
            "bar_style": "success",
            "description": "",
            "description_tooltip": null,
            "layout": "IPY_MODEL_82d1c915bb7e41fcbcc31e29bfc55c00",
            "max": 8,
            "min": 0,
            "orientation": "horizontal",
            "style": "IPY_MODEL_d6aa53ad4b4a4d27ac24ae8bbf5851a5",
            "value": 8
          }
        },
        "26e13c81aa1a409e81eba24bb6964c10": {
          "model_module": "@jupyter-widgets/controls",
          "model_name": "HTMLModel",
          "model_module_version": "1.5.0",
          "state": {
            "_dom_classes": [],
            "_model_module": "@jupyter-widgets/controls",
            "_model_module_version": "1.5.0",
            "_model_name": "HTMLModel",
            "_view_count": null,
            "_view_module": "@jupyter-widgets/controls",
            "_view_module_version": "1.5.0",
            "_view_name": "HTMLView",
            "description": "",
            "description_tooltip": null,
            "layout": "IPY_MODEL_5fe098d3b81c404f878cd6ac1655a33c",
            "placeholder": "​",
            "style": "IPY_MODEL_85cb1566edd54ed7b679e561f230a50e",
            "value": " 8/8 [00:44&lt;00:00,  5.62s/it]"
          }
        },
        "a74201a67e4842dfa255ac88391852d7": {
          "model_module": "@jupyter-widgets/base",
          "model_name": "LayoutModel",
          "model_module_version": "1.2.0",
          "state": {
            "_model_module": "@jupyter-widgets/base",
            "_model_module_version": "1.2.0",
            "_model_name": "LayoutModel",
            "_view_count": null,
            "_view_module": "@jupyter-widgets/base",
            "_view_module_version": "1.2.0",
            "_view_name": "LayoutView",
            "align_content": null,
            "align_items": null,
            "align_self": null,
            "border": null,
            "bottom": null,
            "display": null,
            "flex": null,
            "flex_flow": null,
            "grid_area": null,
            "grid_auto_columns": null,
            "grid_auto_flow": null,
            "grid_auto_rows": null,
            "grid_column": null,
            "grid_gap": null,
            "grid_row": null,
            "grid_template_areas": null,
            "grid_template_columns": null,
            "grid_template_rows": null,
            "height": null,
            "justify_content": null,
            "justify_items": null,
            "left": null,
            "margin": null,
            "max_height": null,
            "max_width": null,
            "min_height": null,
            "min_width": null,
            "object_fit": null,
            "object_position": null,
            "order": null,
            "overflow": null,
            "overflow_x": null,
            "overflow_y": null,
            "padding": null,
            "right": null,
            "top": null,
            "visibility": null,
            "width": null
          }
        },
        "506e791f3eac403a915a1d5523cbb758": {
          "model_module": "@jupyter-widgets/base",
          "model_name": "LayoutModel",
          "model_module_version": "1.2.0",
          "state": {
            "_model_module": "@jupyter-widgets/base",
            "_model_module_version": "1.2.0",
            "_model_name": "LayoutModel",
            "_view_count": null,
            "_view_module": "@jupyter-widgets/base",
            "_view_module_version": "1.2.0",
            "_view_name": "LayoutView",
            "align_content": null,
            "align_items": null,
            "align_self": null,
            "border": null,
            "bottom": null,
            "display": null,
            "flex": null,
            "flex_flow": null,
            "grid_area": null,
            "grid_auto_columns": null,
            "grid_auto_flow": null,
            "grid_auto_rows": null,
            "grid_column": null,
            "grid_gap": null,
            "grid_row": null,
            "grid_template_areas": null,
            "grid_template_columns": null,
            "grid_template_rows": null,
            "height": null,
            "justify_content": null,
            "justify_items": null,
            "left": null,
            "margin": null,
            "max_height": null,
            "max_width": null,
            "min_height": null,
            "min_width": null,
            "object_fit": null,
            "object_position": null,
            "order": null,
            "overflow": null,
            "overflow_x": null,
            "overflow_y": null,
            "padding": null,
            "right": null,
            "top": null,
            "visibility": null,
            "width": null
          }
        },
        "271e00f6cc394d1d8fc6b2876feaebbd": {
          "model_module": "@jupyter-widgets/controls",
          "model_name": "DescriptionStyleModel",
          "model_module_version": "1.5.0",
          "state": {
            "_model_module": "@jupyter-widgets/controls",
            "_model_module_version": "1.5.0",
            "_model_name": "DescriptionStyleModel",
            "_view_count": null,
            "_view_module": "@jupyter-widgets/base",
            "_view_module_version": "1.2.0",
            "_view_name": "StyleView",
            "description_width": ""
          }
        },
        "82d1c915bb7e41fcbcc31e29bfc55c00": {
          "model_module": "@jupyter-widgets/base",
          "model_name": "LayoutModel",
          "model_module_version": "1.2.0",
          "state": {
            "_model_module": "@jupyter-widgets/base",
            "_model_module_version": "1.2.0",
            "_model_name": "LayoutModel",
            "_view_count": null,
            "_view_module": "@jupyter-widgets/base",
            "_view_module_version": "1.2.0",
            "_view_name": "LayoutView",
            "align_content": null,
            "align_items": null,
            "align_self": null,
            "border": null,
            "bottom": null,
            "display": null,
            "flex": null,
            "flex_flow": null,
            "grid_area": null,
            "grid_auto_columns": null,
            "grid_auto_flow": null,
            "grid_auto_rows": null,
            "grid_column": null,
            "grid_gap": null,
            "grid_row": null,
            "grid_template_areas": null,
            "grid_template_columns": null,
            "grid_template_rows": null,
            "height": null,
            "justify_content": null,
            "justify_items": null,
            "left": null,
            "margin": null,
            "max_height": null,
            "max_width": null,
            "min_height": null,
            "min_width": null,
            "object_fit": null,
            "object_position": null,
            "order": null,
            "overflow": null,
            "overflow_x": null,
            "overflow_y": null,
            "padding": null,
            "right": null,
            "top": null,
            "visibility": null,
            "width": null
          }
        },
        "d6aa53ad4b4a4d27ac24ae8bbf5851a5": {
          "model_module": "@jupyter-widgets/controls",
          "model_name": "ProgressStyleModel",
          "model_module_version": "1.5.0",
          "state": {
            "_model_module": "@jupyter-widgets/controls",
            "_model_module_version": "1.5.0",
            "_model_name": "ProgressStyleModel",
            "_view_count": null,
            "_view_module": "@jupyter-widgets/base",
            "_view_module_version": "1.2.0",
            "_view_name": "StyleView",
            "bar_color": null,
            "description_width": ""
          }
        },
        "5fe098d3b81c404f878cd6ac1655a33c": {
          "model_module": "@jupyter-widgets/base",
          "model_name": "LayoutModel",
          "model_module_version": "1.2.0",
          "state": {
            "_model_module": "@jupyter-widgets/base",
            "_model_module_version": "1.2.0",
            "_model_name": "LayoutModel",
            "_view_count": null,
            "_view_module": "@jupyter-widgets/base",
            "_view_module_version": "1.2.0",
            "_view_name": "LayoutView",
            "align_content": null,
            "align_items": null,
            "align_self": null,
            "border": null,
            "bottom": null,
            "display": null,
            "flex": null,
            "flex_flow": null,
            "grid_area": null,
            "grid_auto_columns": null,
            "grid_auto_flow": null,
            "grid_auto_rows": null,
            "grid_column": null,
            "grid_gap": null,
            "grid_row": null,
            "grid_template_areas": null,
            "grid_template_columns": null,
            "grid_template_rows": null,
            "height": null,
            "justify_content": null,
            "justify_items": null,
            "left": null,
            "margin": null,
            "max_height": null,
            "max_width": null,
            "min_height": null,
            "min_width": null,
            "object_fit": null,
            "object_position": null,
            "order": null,
            "overflow": null,
            "overflow_x": null,
            "overflow_y": null,
            "padding": null,
            "right": null,
            "top": null,
            "visibility": null,
            "width": null
          }
        },
        "85cb1566edd54ed7b679e561f230a50e": {
          "model_module": "@jupyter-widgets/controls",
          "model_name": "DescriptionStyleModel",
          "model_module_version": "1.5.0",
          "state": {
            "_model_module": "@jupyter-widgets/controls",
            "_model_module_version": "1.5.0",
            "_model_name": "DescriptionStyleModel",
            "_view_count": null,
            "_view_module": "@jupyter-widgets/base",
            "_view_module_version": "1.2.0",
            "_view_name": "StyleView",
            "description_width": ""
          }
        },
        "b714d3a922904bc491c327246a7d9f17": {
          "model_module": "@jupyter-widgets/controls",
          "model_name": "HBoxModel",
          "model_module_version": "1.5.0",
          "state": {
            "_dom_classes": [],
            "_model_module": "@jupyter-widgets/controls",
            "_model_module_version": "1.5.0",
            "_model_name": "HBoxModel",
            "_view_count": null,
            "_view_module": "@jupyter-widgets/controls",
            "_view_module_version": "1.5.0",
            "_view_name": "HBoxView",
            "box_style": "",
            "children": [
              "IPY_MODEL_56b716aae4f94344aa0baabeafce691a",
              "IPY_MODEL_592147b2f8f84f60a0bcd7a37f0bceff",
              "IPY_MODEL_51bb0ffb8c3d4d18a74678713311366a"
            ],
            "layout": "IPY_MODEL_af00ef02a37644d9990adea67043d0f1"
          }
        },
        "56b716aae4f94344aa0baabeafce691a": {
          "model_module": "@jupyter-widgets/controls",
          "model_name": "HTMLModel",
          "model_module_version": "1.5.0",
          "state": {
            "_dom_classes": [],
            "_model_module": "@jupyter-widgets/controls",
            "_model_module_version": "1.5.0",
            "_model_name": "HTMLModel",
            "_view_count": null,
            "_view_module": "@jupyter-widgets/controls",
            "_view_module_version": "1.5.0",
            "_view_name": "HTMLView",
            "description": "",
            "description_tooltip": null,
            "layout": "IPY_MODEL_4c046fa31b4b48d3ba7b6850a2b86d5b",
            "placeholder": "​",
            "style": "IPY_MODEL_37d611d4374c41068eefb6c85fcb5d2a",
            "value": "Samples: 100%"
          }
        },
        "592147b2f8f84f60a0bcd7a37f0bceff": {
          "model_module": "@jupyter-widgets/controls",
          "model_name": "FloatProgressModel",
          "model_module_version": "1.5.0",
          "state": {
            "_dom_classes": [],
            "_model_module": "@jupyter-widgets/controls",
            "_model_module_version": "1.5.0",
            "_model_name": "FloatProgressModel",
            "_view_count": null,
            "_view_module": "@jupyter-widgets/controls",
            "_view_module_version": "1.5.0",
            "_view_name": "ProgressView",
            "bar_style": "success",
            "description": "",
            "description_tooltip": null,
            "layout": "IPY_MODEL_5451f4a541ad401ea2bb56f2aee1e488",
            "max": 2000,
            "min": 0,
            "orientation": "horizontal",
            "style": "IPY_MODEL_0a61f6b8a4e8497bace5cb363ada6acd",
            "value": 2000
          }
        },
        "51bb0ffb8c3d4d18a74678713311366a": {
          "model_module": "@jupyter-widgets/controls",
          "model_name": "HTMLModel",
          "model_module_version": "1.5.0",
          "state": {
            "_dom_classes": [],
            "_model_module": "@jupyter-widgets/controls",
            "_model_module_version": "1.5.0",
            "_model_name": "HTMLModel",
            "_view_count": null,
            "_view_module": "@jupyter-widgets/controls",
            "_view_module_version": "1.5.0",
            "_view_name": "HTMLView",
            "description": "",
            "description_tooltip": null,
            "layout": "IPY_MODEL_d6d814dd2e674f109cbb24bc45420fed",
            "placeholder": "​",
            "style": "IPY_MODEL_ce0a1b5524b4428baed4ce884c17df8a",
            "value": " 2000/2000 [00:06&lt;00:00, 418.86it/s]"
          }
        },
        "af00ef02a37644d9990adea67043d0f1": {
          "model_module": "@jupyter-widgets/base",
          "model_name": "LayoutModel",
          "model_module_version": "1.2.0",
          "state": {
            "_model_module": "@jupyter-widgets/base",
            "_model_module_version": "1.2.0",
            "_model_name": "LayoutModel",
            "_view_count": null,
            "_view_module": "@jupyter-widgets/base",
            "_view_module_version": "1.2.0",
            "_view_name": "LayoutView",
            "align_content": null,
            "align_items": null,
            "align_self": null,
            "border": null,
            "bottom": null,
            "display": null,
            "flex": null,
            "flex_flow": null,
            "grid_area": null,
            "grid_auto_columns": null,
            "grid_auto_flow": null,
            "grid_auto_rows": null,
            "grid_column": null,
            "grid_gap": null,
            "grid_row": null,
            "grid_template_areas": null,
            "grid_template_columns": null,
            "grid_template_rows": null,
            "height": null,
            "justify_content": null,
            "justify_items": null,
            "left": null,
            "margin": null,
            "max_height": null,
            "max_width": null,
            "min_height": null,
            "min_width": null,
            "object_fit": null,
            "object_position": null,
            "order": null,
            "overflow": null,
            "overflow_x": null,
            "overflow_y": null,
            "padding": null,
            "right": null,
            "top": null,
            "visibility": null,
            "width": null
          }
        },
        "4c046fa31b4b48d3ba7b6850a2b86d5b": {
          "model_module": "@jupyter-widgets/base",
          "model_name": "LayoutModel",
          "model_module_version": "1.2.0",
          "state": {
            "_model_module": "@jupyter-widgets/base",
            "_model_module_version": "1.2.0",
            "_model_name": "LayoutModel",
            "_view_count": null,
            "_view_module": "@jupyter-widgets/base",
            "_view_module_version": "1.2.0",
            "_view_name": "LayoutView",
            "align_content": null,
            "align_items": null,
            "align_self": null,
            "border": null,
            "bottom": null,
            "display": null,
            "flex": null,
            "flex_flow": null,
            "grid_area": null,
            "grid_auto_columns": null,
            "grid_auto_flow": null,
            "grid_auto_rows": null,
            "grid_column": null,
            "grid_gap": null,
            "grid_row": null,
            "grid_template_areas": null,
            "grid_template_columns": null,
            "grid_template_rows": null,
            "height": null,
            "justify_content": null,
            "justify_items": null,
            "left": null,
            "margin": null,
            "max_height": null,
            "max_width": null,
            "min_height": null,
            "min_width": null,
            "object_fit": null,
            "object_position": null,
            "order": null,
            "overflow": null,
            "overflow_x": null,
            "overflow_y": null,
            "padding": null,
            "right": null,
            "top": null,
            "visibility": null,
            "width": null
          }
        },
        "37d611d4374c41068eefb6c85fcb5d2a": {
          "model_module": "@jupyter-widgets/controls",
          "model_name": "DescriptionStyleModel",
          "model_module_version": "1.5.0",
          "state": {
            "_model_module": "@jupyter-widgets/controls",
            "_model_module_version": "1.5.0",
            "_model_name": "DescriptionStyleModel",
            "_view_count": null,
            "_view_module": "@jupyter-widgets/base",
            "_view_module_version": "1.2.0",
            "_view_name": "StyleView",
            "description_width": ""
          }
        },
        "5451f4a541ad401ea2bb56f2aee1e488": {
          "model_module": "@jupyter-widgets/base",
          "model_name": "LayoutModel",
          "model_module_version": "1.2.0",
          "state": {
            "_model_module": "@jupyter-widgets/base",
            "_model_module_version": "1.2.0",
            "_model_name": "LayoutModel",
            "_view_count": null,
            "_view_module": "@jupyter-widgets/base",
            "_view_module_version": "1.2.0",
            "_view_name": "LayoutView",
            "align_content": null,
            "align_items": null,
            "align_self": null,
            "border": null,
            "bottom": null,
            "display": null,
            "flex": null,
            "flex_flow": null,
            "grid_area": null,
            "grid_auto_columns": null,
            "grid_auto_flow": null,
            "grid_auto_rows": null,
            "grid_column": null,
            "grid_gap": null,
            "grid_row": null,
            "grid_template_areas": null,
            "grid_template_columns": null,
            "grid_template_rows": null,
            "height": null,
            "justify_content": null,
            "justify_items": null,
            "left": null,
            "margin": null,
            "max_height": null,
            "max_width": null,
            "min_height": null,
            "min_width": null,
            "object_fit": null,
            "object_position": null,
            "order": null,
            "overflow": null,
            "overflow_x": null,
            "overflow_y": null,
            "padding": null,
            "right": null,
            "top": null,
            "visibility": null,
            "width": null
          }
        },
        "0a61f6b8a4e8497bace5cb363ada6acd": {
          "model_module": "@jupyter-widgets/controls",
          "model_name": "ProgressStyleModel",
          "model_module_version": "1.5.0",
          "state": {
            "_model_module": "@jupyter-widgets/controls",
            "_model_module_version": "1.5.0",
            "_model_name": "ProgressStyleModel",
            "_view_count": null,
            "_view_module": "@jupyter-widgets/base",
            "_view_module_version": "1.2.0",
            "_view_name": "StyleView",
            "bar_color": null,
            "description_width": ""
          }
        },
        "d6d814dd2e674f109cbb24bc45420fed": {
          "model_module": "@jupyter-widgets/base",
          "model_name": "LayoutModel",
          "model_module_version": "1.2.0",
          "state": {
            "_model_module": "@jupyter-widgets/base",
            "_model_module_version": "1.2.0",
            "_model_name": "LayoutModel",
            "_view_count": null,
            "_view_module": "@jupyter-widgets/base",
            "_view_module_version": "1.2.0",
            "_view_name": "LayoutView",
            "align_content": null,
            "align_items": null,
            "align_self": null,
            "border": null,
            "bottom": null,
            "display": null,
            "flex": null,
            "flex_flow": null,
            "grid_area": null,
            "grid_auto_columns": null,
            "grid_auto_flow": null,
            "grid_auto_rows": null,
            "grid_column": null,
            "grid_gap": null,
            "grid_row": null,
            "grid_template_areas": null,
            "grid_template_columns": null,
            "grid_template_rows": null,
            "height": null,
            "justify_content": null,
            "justify_items": null,
            "left": null,
            "margin": null,
            "max_height": null,
            "max_width": null,
            "min_height": null,
            "min_width": null,
            "object_fit": null,
            "object_position": null,
            "order": null,
            "overflow": null,
            "overflow_x": null,
            "overflow_y": null,
            "padding": null,
            "right": null,
            "top": null,
            "visibility": null,
            "width": null
          }
        },
        "ce0a1b5524b4428baed4ce884c17df8a": {
          "model_module": "@jupyter-widgets/controls",
          "model_name": "DescriptionStyleModel",
          "model_module_version": "1.5.0",
          "state": {
            "_model_module": "@jupyter-widgets/controls",
            "_model_module_version": "1.5.0",
            "_model_name": "DescriptionStyleModel",
            "_view_count": null,
            "_view_module": "@jupyter-widgets/base",
            "_view_module_version": "1.2.0",
            "_view_name": "StyleView",
            "description_width": ""
          }
        },
        "e15146583b8b4c90b3d84eb76f4ded0b": {
          "model_module": "@jupyter-widgets/controls",
          "model_name": "HBoxModel",
          "model_module_version": "1.5.0",
          "state": {
            "_dom_classes": [],
            "_model_module": "@jupyter-widgets/controls",
            "_model_module_version": "1.5.0",
            "_model_name": "HBoxModel",
            "_view_count": null,
            "_view_module": "@jupyter-widgets/controls",
            "_view_module_version": "1.5.0",
            "_view_name": "HBoxView",
            "box_style": "",
            "children": [
              "IPY_MODEL_4838eb9c939c48cdbd5f7c0327a81d44",
              "IPY_MODEL_e6b4f1acd3ff477b9534e7f524c34b01",
              "IPY_MODEL_4e82a0e772864110816252b8813f889d"
            ],
            "layout": "IPY_MODEL_a103684d30f94c92a21b3d3e784cac04"
          }
        },
        "4838eb9c939c48cdbd5f7c0327a81d44": {
          "model_module": "@jupyter-widgets/controls",
          "model_name": "HTMLModel",
          "model_module_version": "1.5.0",
          "state": {
            "_dom_classes": [],
            "_model_module": "@jupyter-widgets/controls",
            "_model_module_version": "1.5.0",
            "_model_name": "HTMLModel",
            "_view_count": null,
            "_view_module": "@jupyter-widgets/controls",
            "_view_module_version": "1.5.0",
            "_view_name": "HTMLView",
            "description": "",
            "description_tooltip": null,
            "layout": "IPY_MODEL_928ff89566074c30aa43aa469b77ea67",
            "placeholder": "​",
            "style": "IPY_MODEL_c1caee890c9f47298509fb2104c0ed1c",
            "value": "Samples: 100%"
          }
        },
        "e6b4f1acd3ff477b9534e7f524c34b01": {
          "model_module": "@jupyter-widgets/controls",
          "model_name": "FloatProgressModel",
          "model_module_version": "1.5.0",
          "state": {
            "_dom_classes": [],
            "_model_module": "@jupyter-widgets/controls",
            "_model_module_version": "1.5.0",
            "_model_name": "FloatProgressModel",
            "_view_count": null,
            "_view_module": "@jupyter-widgets/controls",
            "_view_module_version": "1.5.0",
            "_view_name": "ProgressView",
            "bar_style": "success",
            "description": "",
            "description_tooltip": null,
            "layout": "IPY_MODEL_087e4cec1ffa4074b439f92267715667",
            "max": 2000,
            "min": 0,
            "orientation": "horizontal",
            "style": "IPY_MODEL_d7fc84e7a15846df8e049c9f2f358c66",
            "value": 2000
          }
        },
        "4e82a0e772864110816252b8813f889d": {
          "model_module": "@jupyter-widgets/controls",
          "model_name": "HTMLModel",
          "model_module_version": "1.5.0",
          "state": {
            "_dom_classes": [],
            "_model_module": "@jupyter-widgets/controls",
            "_model_module_version": "1.5.0",
            "_model_name": "HTMLModel",
            "_view_count": null,
            "_view_module": "@jupyter-widgets/controls",
            "_view_module_version": "1.5.0",
            "_view_name": "HTMLView",
            "description": "",
            "description_tooltip": null,
            "layout": "IPY_MODEL_9e93c25878f349ddbdafd59edf409414",
            "placeholder": "​",
            "style": "IPY_MODEL_4882fcba7794421c9088424e525293fc",
            "value": " 2000/2000 [00:05&lt;00:00, 409.72it/s]"
          }
        },
        "a103684d30f94c92a21b3d3e784cac04": {
          "model_module": "@jupyter-widgets/base",
          "model_name": "LayoutModel",
          "model_module_version": "1.2.0",
          "state": {
            "_model_module": "@jupyter-widgets/base",
            "_model_module_version": "1.2.0",
            "_model_name": "LayoutModel",
            "_view_count": null,
            "_view_module": "@jupyter-widgets/base",
            "_view_module_version": "1.2.0",
            "_view_name": "LayoutView",
            "align_content": null,
            "align_items": null,
            "align_self": null,
            "border": null,
            "bottom": null,
            "display": null,
            "flex": null,
            "flex_flow": null,
            "grid_area": null,
            "grid_auto_columns": null,
            "grid_auto_flow": null,
            "grid_auto_rows": null,
            "grid_column": null,
            "grid_gap": null,
            "grid_row": null,
            "grid_template_areas": null,
            "grid_template_columns": null,
            "grid_template_rows": null,
            "height": null,
            "justify_content": null,
            "justify_items": null,
            "left": null,
            "margin": null,
            "max_height": null,
            "max_width": null,
            "min_height": null,
            "min_width": null,
            "object_fit": null,
            "object_position": null,
            "order": null,
            "overflow": null,
            "overflow_x": null,
            "overflow_y": null,
            "padding": null,
            "right": null,
            "top": null,
            "visibility": null,
            "width": null
          }
        },
        "928ff89566074c30aa43aa469b77ea67": {
          "model_module": "@jupyter-widgets/base",
          "model_name": "LayoutModel",
          "model_module_version": "1.2.0",
          "state": {
            "_model_module": "@jupyter-widgets/base",
            "_model_module_version": "1.2.0",
            "_model_name": "LayoutModel",
            "_view_count": null,
            "_view_module": "@jupyter-widgets/base",
            "_view_module_version": "1.2.0",
            "_view_name": "LayoutView",
            "align_content": null,
            "align_items": null,
            "align_self": null,
            "border": null,
            "bottom": null,
            "display": null,
            "flex": null,
            "flex_flow": null,
            "grid_area": null,
            "grid_auto_columns": null,
            "grid_auto_flow": null,
            "grid_auto_rows": null,
            "grid_column": null,
            "grid_gap": null,
            "grid_row": null,
            "grid_template_areas": null,
            "grid_template_columns": null,
            "grid_template_rows": null,
            "height": null,
            "justify_content": null,
            "justify_items": null,
            "left": null,
            "margin": null,
            "max_height": null,
            "max_width": null,
            "min_height": null,
            "min_width": null,
            "object_fit": null,
            "object_position": null,
            "order": null,
            "overflow": null,
            "overflow_x": null,
            "overflow_y": null,
            "padding": null,
            "right": null,
            "top": null,
            "visibility": null,
            "width": null
          }
        },
        "c1caee890c9f47298509fb2104c0ed1c": {
          "model_module": "@jupyter-widgets/controls",
          "model_name": "DescriptionStyleModel",
          "model_module_version": "1.5.0",
          "state": {
            "_model_module": "@jupyter-widgets/controls",
            "_model_module_version": "1.5.0",
            "_model_name": "DescriptionStyleModel",
            "_view_count": null,
            "_view_module": "@jupyter-widgets/base",
            "_view_module_version": "1.2.0",
            "_view_name": "StyleView",
            "description_width": ""
          }
        },
        "087e4cec1ffa4074b439f92267715667": {
          "model_module": "@jupyter-widgets/base",
          "model_name": "LayoutModel",
          "model_module_version": "1.2.0",
          "state": {
            "_model_module": "@jupyter-widgets/base",
            "_model_module_version": "1.2.0",
            "_model_name": "LayoutModel",
            "_view_count": null,
            "_view_module": "@jupyter-widgets/base",
            "_view_module_version": "1.2.0",
            "_view_name": "LayoutView",
            "align_content": null,
            "align_items": null,
            "align_self": null,
            "border": null,
            "bottom": null,
            "display": null,
            "flex": null,
            "flex_flow": null,
            "grid_area": null,
            "grid_auto_columns": null,
            "grid_auto_flow": null,
            "grid_auto_rows": null,
            "grid_column": null,
            "grid_gap": null,
            "grid_row": null,
            "grid_template_areas": null,
            "grid_template_columns": null,
            "grid_template_rows": null,
            "height": null,
            "justify_content": null,
            "justify_items": null,
            "left": null,
            "margin": null,
            "max_height": null,
            "max_width": null,
            "min_height": null,
            "min_width": null,
            "object_fit": null,
            "object_position": null,
            "order": null,
            "overflow": null,
            "overflow_x": null,
            "overflow_y": null,
            "padding": null,
            "right": null,
            "top": null,
            "visibility": null,
            "width": null
          }
        },
        "d7fc84e7a15846df8e049c9f2f358c66": {
          "model_module": "@jupyter-widgets/controls",
          "model_name": "ProgressStyleModel",
          "model_module_version": "1.5.0",
          "state": {
            "_model_module": "@jupyter-widgets/controls",
            "_model_module_version": "1.5.0",
            "_model_name": "ProgressStyleModel",
            "_view_count": null,
            "_view_module": "@jupyter-widgets/base",
            "_view_module_version": "1.2.0",
            "_view_name": "StyleView",
            "bar_color": null,
            "description_width": ""
          }
        },
        "9e93c25878f349ddbdafd59edf409414": {
          "model_module": "@jupyter-widgets/base",
          "model_name": "LayoutModel",
          "model_module_version": "1.2.0",
          "state": {
            "_model_module": "@jupyter-widgets/base",
            "_model_module_version": "1.2.0",
            "_model_name": "LayoutModel",
            "_view_count": null,
            "_view_module": "@jupyter-widgets/base",
            "_view_module_version": "1.2.0",
            "_view_name": "LayoutView",
            "align_content": null,
            "align_items": null,
            "align_self": null,
            "border": null,
            "bottom": null,
            "display": null,
            "flex": null,
            "flex_flow": null,
            "grid_area": null,
            "grid_auto_columns": null,
            "grid_auto_flow": null,
            "grid_auto_rows": null,
            "grid_column": null,
            "grid_gap": null,
            "grid_row": null,
            "grid_template_areas": null,
            "grid_template_columns": null,
            "grid_template_rows": null,
            "height": null,
            "justify_content": null,
            "justify_items": null,
            "left": null,
            "margin": null,
            "max_height": null,
            "max_width": null,
            "min_height": null,
            "min_width": null,
            "object_fit": null,
            "object_position": null,
            "order": null,
            "overflow": null,
            "overflow_x": null,
            "overflow_y": null,
            "padding": null,
            "right": null,
            "top": null,
            "visibility": null,
            "width": null
          }
        },
        "4882fcba7794421c9088424e525293fc": {
          "model_module": "@jupyter-widgets/controls",
          "model_name": "DescriptionStyleModel",
          "model_module_version": "1.5.0",
          "state": {
            "_model_module": "@jupyter-widgets/controls",
            "_model_module_version": "1.5.0",
            "_model_name": "DescriptionStyleModel",
            "_view_count": null,
            "_view_module": "@jupyter-widgets/base",
            "_view_module_version": "1.2.0",
            "_view_name": "StyleView",
            "description_width": ""
          }
        },
        "6be1217012824e729a91503f9b02e190": {
          "model_module": "@jupyter-widgets/controls",
          "model_name": "HBoxModel",
          "model_module_version": "1.5.0",
          "state": {
            "_dom_classes": [],
            "_model_module": "@jupyter-widgets/controls",
            "_model_module_version": "1.5.0",
            "_model_name": "HBoxModel",
            "_view_count": null,
            "_view_module": "@jupyter-widgets/controls",
            "_view_module_version": "1.5.0",
            "_view_name": "HBoxView",
            "box_style": "",
            "children": [
              "IPY_MODEL_6fef85f7f2ed4fac8fd0558072689704",
              "IPY_MODEL_4375b74377cd43eca9b5bb0de7dd950a",
              "IPY_MODEL_4183b46b0c834ef79ac00866087d8589"
            ],
            "layout": "IPY_MODEL_352050ce40c24997b9bfa20e56cb9645"
          }
        },
        "6fef85f7f2ed4fac8fd0558072689704": {
          "model_module": "@jupyter-widgets/controls",
          "model_name": "HTMLModel",
          "model_module_version": "1.5.0",
          "state": {
            "_dom_classes": [],
            "_model_module": "@jupyter-widgets/controls",
            "_model_module_version": "1.5.0",
            "_model_name": "HTMLModel",
            "_view_count": null,
            "_view_module": "@jupyter-widgets/controls",
            "_view_module_version": "1.5.0",
            "_view_name": "HTMLView",
            "description": "",
            "description_tooltip": null,
            "layout": "IPY_MODEL_b3ab0272e2b544e2b33105f52d736125",
            "placeholder": "​",
            "style": "IPY_MODEL_0fa0c0007504489ebb2189506e8ab1aa",
            "value": "Samples: 100%"
          }
        },
        "4375b74377cd43eca9b5bb0de7dd950a": {
          "model_module": "@jupyter-widgets/controls",
          "model_name": "FloatProgressModel",
          "model_module_version": "1.5.0",
          "state": {
            "_dom_classes": [],
            "_model_module": "@jupyter-widgets/controls",
            "_model_module_version": "1.5.0",
            "_model_name": "FloatProgressModel",
            "_view_count": null,
            "_view_module": "@jupyter-widgets/controls",
            "_view_module_version": "1.5.0",
            "_view_name": "ProgressView",
            "bar_style": "success",
            "description": "",
            "description_tooltip": null,
            "layout": "IPY_MODEL_98dd29450be342c69b947c0deb62b173",
            "max": 2000,
            "min": 0,
            "orientation": "horizontal",
            "style": "IPY_MODEL_26c0525756ce41fdb3bf3a0bec8d15f0",
            "value": 2000
          }
        },
        "4183b46b0c834ef79ac00866087d8589": {
          "model_module": "@jupyter-widgets/controls",
          "model_name": "HTMLModel",
          "model_module_version": "1.5.0",
          "state": {
            "_dom_classes": [],
            "_model_module": "@jupyter-widgets/controls",
            "_model_module_version": "1.5.0",
            "_model_name": "HTMLModel",
            "_view_count": null,
            "_view_module": "@jupyter-widgets/controls",
            "_view_module_version": "1.5.0",
            "_view_name": "HTMLView",
            "description": "",
            "description_tooltip": null,
            "layout": "IPY_MODEL_21884b17e8204f45b64a55c707643fb8",
            "placeholder": "​",
            "style": "IPY_MODEL_6763ebeab76f4a62bfb08ba2f6c45723",
            "value": " 2000/2000 [00:05&lt;00:00, 278.49it/s]"
          }
        },
        "352050ce40c24997b9bfa20e56cb9645": {
          "model_module": "@jupyter-widgets/base",
          "model_name": "LayoutModel",
          "model_module_version": "1.2.0",
          "state": {
            "_model_module": "@jupyter-widgets/base",
            "_model_module_version": "1.2.0",
            "_model_name": "LayoutModel",
            "_view_count": null,
            "_view_module": "@jupyter-widgets/base",
            "_view_module_version": "1.2.0",
            "_view_name": "LayoutView",
            "align_content": null,
            "align_items": null,
            "align_self": null,
            "border": null,
            "bottom": null,
            "display": null,
            "flex": null,
            "flex_flow": null,
            "grid_area": null,
            "grid_auto_columns": null,
            "grid_auto_flow": null,
            "grid_auto_rows": null,
            "grid_column": null,
            "grid_gap": null,
            "grid_row": null,
            "grid_template_areas": null,
            "grid_template_columns": null,
            "grid_template_rows": null,
            "height": null,
            "justify_content": null,
            "justify_items": null,
            "left": null,
            "margin": null,
            "max_height": null,
            "max_width": null,
            "min_height": null,
            "min_width": null,
            "object_fit": null,
            "object_position": null,
            "order": null,
            "overflow": null,
            "overflow_x": null,
            "overflow_y": null,
            "padding": null,
            "right": null,
            "top": null,
            "visibility": null,
            "width": null
          }
        },
        "b3ab0272e2b544e2b33105f52d736125": {
          "model_module": "@jupyter-widgets/base",
          "model_name": "LayoutModel",
          "model_module_version": "1.2.0",
          "state": {
            "_model_module": "@jupyter-widgets/base",
            "_model_module_version": "1.2.0",
            "_model_name": "LayoutModel",
            "_view_count": null,
            "_view_module": "@jupyter-widgets/base",
            "_view_module_version": "1.2.0",
            "_view_name": "LayoutView",
            "align_content": null,
            "align_items": null,
            "align_self": null,
            "border": null,
            "bottom": null,
            "display": null,
            "flex": null,
            "flex_flow": null,
            "grid_area": null,
            "grid_auto_columns": null,
            "grid_auto_flow": null,
            "grid_auto_rows": null,
            "grid_column": null,
            "grid_gap": null,
            "grid_row": null,
            "grid_template_areas": null,
            "grid_template_columns": null,
            "grid_template_rows": null,
            "height": null,
            "justify_content": null,
            "justify_items": null,
            "left": null,
            "margin": null,
            "max_height": null,
            "max_width": null,
            "min_height": null,
            "min_width": null,
            "object_fit": null,
            "object_position": null,
            "order": null,
            "overflow": null,
            "overflow_x": null,
            "overflow_y": null,
            "padding": null,
            "right": null,
            "top": null,
            "visibility": null,
            "width": null
          }
        },
        "0fa0c0007504489ebb2189506e8ab1aa": {
          "model_module": "@jupyter-widgets/controls",
          "model_name": "DescriptionStyleModel",
          "model_module_version": "1.5.0",
          "state": {
            "_model_module": "@jupyter-widgets/controls",
            "_model_module_version": "1.5.0",
            "_model_name": "DescriptionStyleModel",
            "_view_count": null,
            "_view_module": "@jupyter-widgets/base",
            "_view_module_version": "1.2.0",
            "_view_name": "StyleView",
            "description_width": ""
          }
        },
        "98dd29450be342c69b947c0deb62b173": {
          "model_module": "@jupyter-widgets/base",
          "model_name": "LayoutModel",
          "model_module_version": "1.2.0",
          "state": {
            "_model_module": "@jupyter-widgets/base",
            "_model_module_version": "1.2.0",
            "_model_name": "LayoutModel",
            "_view_count": null,
            "_view_module": "@jupyter-widgets/base",
            "_view_module_version": "1.2.0",
            "_view_name": "LayoutView",
            "align_content": null,
            "align_items": null,
            "align_self": null,
            "border": null,
            "bottom": null,
            "display": null,
            "flex": null,
            "flex_flow": null,
            "grid_area": null,
            "grid_auto_columns": null,
            "grid_auto_flow": null,
            "grid_auto_rows": null,
            "grid_column": null,
            "grid_gap": null,
            "grid_row": null,
            "grid_template_areas": null,
            "grid_template_columns": null,
            "grid_template_rows": null,
            "height": null,
            "justify_content": null,
            "justify_items": null,
            "left": null,
            "margin": null,
            "max_height": null,
            "max_width": null,
            "min_height": null,
            "min_width": null,
            "object_fit": null,
            "object_position": null,
            "order": null,
            "overflow": null,
            "overflow_x": null,
            "overflow_y": null,
            "padding": null,
            "right": null,
            "top": null,
            "visibility": null,
            "width": null
          }
        },
        "26c0525756ce41fdb3bf3a0bec8d15f0": {
          "model_module": "@jupyter-widgets/controls",
          "model_name": "ProgressStyleModel",
          "model_module_version": "1.5.0",
          "state": {
            "_model_module": "@jupyter-widgets/controls",
            "_model_module_version": "1.5.0",
            "_model_name": "ProgressStyleModel",
            "_view_count": null,
            "_view_module": "@jupyter-widgets/base",
            "_view_module_version": "1.2.0",
            "_view_name": "StyleView",
            "bar_color": null,
            "description_width": ""
          }
        },
        "21884b17e8204f45b64a55c707643fb8": {
          "model_module": "@jupyter-widgets/base",
          "model_name": "LayoutModel",
          "model_module_version": "1.2.0",
          "state": {
            "_model_module": "@jupyter-widgets/base",
            "_model_module_version": "1.2.0",
            "_model_name": "LayoutModel",
            "_view_count": null,
            "_view_module": "@jupyter-widgets/base",
            "_view_module_version": "1.2.0",
            "_view_name": "LayoutView",
            "align_content": null,
            "align_items": null,
            "align_self": null,
            "border": null,
            "bottom": null,
            "display": null,
            "flex": null,
            "flex_flow": null,
            "grid_area": null,
            "grid_auto_columns": null,
            "grid_auto_flow": null,
            "grid_auto_rows": null,
            "grid_column": null,
            "grid_gap": null,
            "grid_row": null,
            "grid_template_areas": null,
            "grid_template_columns": null,
            "grid_template_rows": null,
            "height": null,
            "justify_content": null,
            "justify_items": null,
            "left": null,
            "margin": null,
            "max_height": null,
            "max_width": null,
            "min_height": null,
            "min_width": null,
            "object_fit": null,
            "object_position": null,
            "order": null,
            "overflow": null,
            "overflow_x": null,
            "overflow_y": null,
            "padding": null,
            "right": null,
            "top": null,
            "visibility": null,
            "width": null
          }
        },
        "6763ebeab76f4a62bfb08ba2f6c45723": {
          "model_module": "@jupyter-widgets/controls",
          "model_name": "DescriptionStyleModel",
          "model_module_version": "1.5.0",
          "state": {
            "_model_module": "@jupyter-widgets/controls",
            "_model_module_version": "1.5.0",
            "_model_name": "DescriptionStyleModel",
            "_view_count": null,
            "_view_module": "@jupyter-widgets/base",
            "_view_module_version": "1.2.0",
            "_view_name": "StyleView",
            "description_width": ""
          }
        },
        "7dcc8333735447279937fa7137c1c66f": {
          "model_module": "@jupyter-widgets/controls",
          "model_name": "HBoxModel",
          "model_module_version": "1.5.0",
          "state": {
            "_dom_classes": [],
            "_model_module": "@jupyter-widgets/controls",
            "_model_module_version": "1.5.0",
            "_model_name": "HBoxModel",
            "_view_count": null,
            "_view_module": "@jupyter-widgets/controls",
            "_view_module_version": "1.5.0",
            "_view_name": "HBoxView",
            "box_style": "",
            "children": [
              "IPY_MODEL_3e65af200aa549999b72f7c9cf6818af",
              "IPY_MODEL_ad891733a2c74138813f7abedbdbc489",
              "IPY_MODEL_3e1db13d74b54ebea0a86899538a1e59"
            ],
            "layout": "IPY_MODEL_9511d667bfc34442be1a6fff200ff4d4"
          }
        },
        "3e65af200aa549999b72f7c9cf6818af": {
          "model_module": "@jupyter-widgets/controls",
          "model_name": "HTMLModel",
          "model_module_version": "1.5.0",
          "state": {
            "_dom_classes": [],
            "_model_module": "@jupyter-widgets/controls",
            "_model_module_version": "1.5.0",
            "_model_name": "HTMLModel",
            "_view_count": null,
            "_view_module": "@jupyter-widgets/controls",
            "_view_module_version": "1.5.0",
            "_view_name": "HTMLView",
            "description": "",
            "description_tooltip": null,
            "layout": "IPY_MODEL_b61deccf64214d859650cb44419b0df3",
            "placeholder": "​",
            "style": "IPY_MODEL_bd4fbe56ce4d4d78a87028021ee256c2",
            "value": "Samples: 100%"
          }
        },
        "ad891733a2c74138813f7abedbdbc489": {
          "model_module": "@jupyter-widgets/controls",
          "model_name": "FloatProgressModel",
          "model_module_version": "1.5.0",
          "state": {
            "_dom_classes": [],
            "_model_module": "@jupyter-widgets/controls",
            "_model_module_version": "1.5.0",
            "_model_name": "FloatProgressModel",
            "_view_count": null,
            "_view_module": "@jupyter-widgets/controls",
            "_view_module_version": "1.5.0",
            "_view_name": "ProgressView",
            "bar_style": "success",
            "description": "",
            "description_tooltip": null,
            "layout": "IPY_MODEL_812010f9881b41e59f940373d690ad18",
            "max": 2000,
            "min": 0,
            "orientation": "horizontal",
            "style": "IPY_MODEL_3defe009fb2b40d389defa992e8ab8b9",
            "value": 2000
          }
        },
        "3e1db13d74b54ebea0a86899538a1e59": {
          "model_module": "@jupyter-widgets/controls",
          "model_name": "HTMLModel",
          "model_module_version": "1.5.0",
          "state": {
            "_dom_classes": [],
            "_model_module": "@jupyter-widgets/controls",
            "_model_module_version": "1.5.0",
            "_model_name": "HTMLModel",
            "_view_count": null,
            "_view_module": "@jupyter-widgets/controls",
            "_view_module_version": "1.5.0",
            "_view_name": "HTMLView",
            "description": "",
            "description_tooltip": null,
            "layout": "IPY_MODEL_548471884ba7480c8cc98a4537616791",
            "placeholder": "​",
            "style": "IPY_MODEL_08b217ca8d444d2d88d121e286b8ccda",
            "value": " 2000/2000 [00:05&lt;00:00, 407.42it/s]"
          }
        },
        "9511d667bfc34442be1a6fff200ff4d4": {
          "model_module": "@jupyter-widgets/base",
          "model_name": "LayoutModel",
          "model_module_version": "1.2.0",
          "state": {
            "_model_module": "@jupyter-widgets/base",
            "_model_module_version": "1.2.0",
            "_model_name": "LayoutModel",
            "_view_count": null,
            "_view_module": "@jupyter-widgets/base",
            "_view_module_version": "1.2.0",
            "_view_name": "LayoutView",
            "align_content": null,
            "align_items": null,
            "align_self": null,
            "border": null,
            "bottom": null,
            "display": null,
            "flex": null,
            "flex_flow": null,
            "grid_area": null,
            "grid_auto_columns": null,
            "grid_auto_flow": null,
            "grid_auto_rows": null,
            "grid_column": null,
            "grid_gap": null,
            "grid_row": null,
            "grid_template_areas": null,
            "grid_template_columns": null,
            "grid_template_rows": null,
            "height": null,
            "justify_content": null,
            "justify_items": null,
            "left": null,
            "margin": null,
            "max_height": null,
            "max_width": null,
            "min_height": null,
            "min_width": null,
            "object_fit": null,
            "object_position": null,
            "order": null,
            "overflow": null,
            "overflow_x": null,
            "overflow_y": null,
            "padding": null,
            "right": null,
            "top": null,
            "visibility": null,
            "width": null
          }
        },
        "b61deccf64214d859650cb44419b0df3": {
          "model_module": "@jupyter-widgets/base",
          "model_name": "LayoutModel",
          "model_module_version": "1.2.0",
          "state": {
            "_model_module": "@jupyter-widgets/base",
            "_model_module_version": "1.2.0",
            "_model_name": "LayoutModel",
            "_view_count": null,
            "_view_module": "@jupyter-widgets/base",
            "_view_module_version": "1.2.0",
            "_view_name": "LayoutView",
            "align_content": null,
            "align_items": null,
            "align_self": null,
            "border": null,
            "bottom": null,
            "display": null,
            "flex": null,
            "flex_flow": null,
            "grid_area": null,
            "grid_auto_columns": null,
            "grid_auto_flow": null,
            "grid_auto_rows": null,
            "grid_column": null,
            "grid_gap": null,
            "grid_row": null,
            "grid_template_areas": null,
            "grid_template_columns": null,
            "grid_template_rows": null,
            "height": null,
            "justify_content": null,
            "justify_items": null,
            "left": null,
            "margin": null,
            "max_height": null,
            "max_width": null,
            "min_height": null,
            "min_width": null,
            "object_fit": null,
            "object_position": null,
            "order": null,
            "overflow": null,
            "overflow_x": null,
            "overflow_y": null,
            "padding": null,
            "right": null,
            "top": null,
            "visibility": null,
            "width": null
          }
        },
        "bd4fbe56ce4d4d78a87028021ee256c2": {
          "model_module": "@jupyter-widgets/controls",
          "model_name": "DescriptionStyleModel",
          "model_module_version": "1.5.0",
          "state": {
            "_model_module": "@jupyter-widgets/controls",
            "_model_module_version": "1.5.0",
            "_model_name": "DescriptionStyleModel",
            "_view_count": null,
            "_view_module": "@jupyter-widgets/base",
            "_view_module_version": "1.2.0",
            "_view_name": "StyleView",
            "description_width": ""
          }
        },
        "812010f9881b41e59f940373d690ad18": {
          "model_module": "@jupyter-widgets/base",
          "model_name": "LayoutModel",
          "model_module_version": "1.2.0",
          "state": {
            "_model_module": "@jupyter-widgets/base",
            "_model_module_version": "1.2.0",
            "_model_name": "LayoutModel",
            "_view_count": null,
            "_view_module": "@jupyter-widgets/base",
            "_view_module_version": "1.2.0",
            "_view_name": "LayoutView",
            "align_content": null,
            "align_items": null,
            "align_self": null,
            "border": null,
            "bottom": null,
            "display": null,
            "flex": null,
            "flex_flow": null,
            "grid_area": null,
            "grid_auto_columns": null,
            "grid_auto_flow": null,
            "grid_auto_rows": null,
            "grid_column": null,
            "grid_gap": null,
            "grid_row": null,
            "grid_template_areas": null,
            "grid_template_columns": null,
            "grid_template_rows": null,
            "height": null,
            "justify_content": null,
            "justify_items": null,
            "left": null,
            "margin": null,
            "max_height": null,
            "max_width": null,
            "min_height": null,
            "min_width": null,
            "object_fit": null,
            "object_position": null,
            "order": null,
            "overflow": null,
            "overflow_x": null,
            "overflow_y": null,
            "padding": null,
            "right": null,
            "top": null,
            "visibility": null,
            "width": null
          }
        },
        "3defe009fb2b40d389defa992e8ab8b9": {
          "model_module": "@jupyter-widgets/controls",
          "model_name": "ProgressStyleModel",
          "model_module_version": "1.5.0",
          "state": {
            "_model_module": "@jupyter-widgets/controls",
            "_model_module_version": "1.5.0",
            "_model_name": "ProgressStyleModel",
            "_view_count": null,
            "_view_module": "@jupyter-widgets/base",
            "_view_module_version": "1.2.0",
            "_view_name": "StyleView",
            "bar_color": null,
            "description_width": ""
          }
        },
        "548471884ba7480c8cc98a4537616791": {
          "model_module": "@jupyter-widgets/base",
          "model_name": "LayoutModel",
          "model_module_version": "1.2.0",
          "state": {
            "_model_module": "@jupyter-widgets/base",
            "_model_module_version": "1.2.0",
            "_model_name": "LayoutModel",
            "_view_count": null,
            "_view_module": "@jupyter-widgets/base",
            "_view_module_version": "1.2.0",
            "_view_name": "LayoutView",
            "align_content": null,
            "align_items": null,
            "align_self": null,
            "border": null,
            "bottom": null,
            "display": null,
            "flex": null,
            "flex_flow": null,
            "grid_area": null,
            "grid_auto_columns": null,
            "grid_auto_flow": null,
            "grid_auto_rows": null,
            "grid_column": null,
            "grid_gap": null,
            "grid_row": null,
            "grid_template_areas": null,
            "grid_template_columns": null,
            "grid_template_rows": null,
            "height": null,
            "justify_content": null,
            "justify_items": null,
            "left": null,
            "margin": null,
            "max_height": null,
            "max_width": null,
            "min_height": null,
            "min_width": null,
            "object_fit": null,
            "object_position": null,
            "order": null,
            "overflow": null,
            "overflow_x": null,
            "overflow_y": null,
            "padding": null,
            "right": null,
            "top": null,
            "visibility": null,
            "width": null
          }
        },
        "08b217ca8d444d2d88d121e286b8ccda": {
          "model_module": "@jupyter-widgets/controls",
          "model_name": "DescriptionStyleModel",
          "model_module_version": "1.5.0",
          "state": {
            "_model_module": "@jupyter-widgets/controls",
            "_model_module_version": "1.5.0",
            "_model_name": "DescriptionStyleModel",
            "_view_count": null,
            "_view_module": "@jupyter-widgets/base",
            "_view_module_version": "1.2.0",
            "_view_name": "StyleView",
            "description_width": ""
          }
        },
        "24487f58503144f9b69d71d2c54f2218": {
          "model_module": "@jupyter-widgets/controls",
          "model_name": "HBoxModel",
          "model_module_version": "1.5.0",
          "state": {
            "_dom_classes": [],
            "_model_module": "@jupyter-widgets/controls",
            "_model_module_version": "1.5.0",
            "_model_name": "HBoxModel",
            "_view_count": null,
            "_view_module": "@jupyter-widgets/controls",
            "_view_module_version": "1.5.0",
            "_view_name": "HBoxView",
            "box_style": "",
            "children": [
              "IPY_MODEL_eb17840b8fd44463a5ec0f88712e9b07",
              "IPY_MODEL_26c4d75d6f434962a71ea7d07fae7212",
              "IPY_MODEL_efc5f201bf7c4aaab98f5734c2e89437"
            ],
            "layout": "IPY_MODEL_1f3835140e444d6dbe2c1f7f2f268c97"
          }
        },
        "eb17840b8fd44463a5ec0f88712e9b07": {
          "model_module": "@jupyter-widgets/controls",
          "model_name": "HTMLModel",
          "model_module_version": "1.5.0",
          "state": {
            "_dom_classes": [],
            "_model_module": "@jupyter-widgets/controls",
            "_model_module_version": "1.5.0",
            "_model_name": "HTMLModel",
            "_view_count": null,
            "_view_module": "@jupyter-widgets/controls",
            "_view_module_version": "1.5.0",
            "_view_name": "HTMLView",
            "description": "",
            "description_tooltip": null,
            "layout": "IPY_MODEL_a137a59c8a5041e5857d40a559fa17f4",
            "placeholder": "​",
            "style": "IPY_MODEL_ee6114e9c7434446a259ec93006e0468",
            "value": "Samples: 100%"
          }
        },
        "26c4d75d6f434962a71ea7d07fae7212": {
          "model_module": "@jupyter-widgets/controls",
          "model_name": "FloatProgressModel",
          "model_module_version": "1.5.0",
          "state": {
            "_dom_classes": [],
            "_model_module": "@jupyter-widgets/controls",
            "_model_module_version": "1.5.0",
            "_model_name": "FloatProgressModel",
            "_view_count": null,
            "_view_module": "@jupyter-widgets/controls",
            "_view_module_version": "1.5.0",
            "_view_name": "ProgressView",
            "bar_style": "success",
            "description": "",
            "description_tooltip": null,
            "layout": "IPY_MODEL_9e29e75269984e0f92ca96557214cd11",
            "max": 2000,
            "min": 0,
            "orientation": "horizontal",
            "style": "IPY_MODEL_40f1de3b812142fba0e2cf7cbee5cdcd",
            "value": 2000
          }
        },
        "efc5f201bf7c4aaab98f5734c2e89437": {
          "model_module": "@jupyter-widgets/controls",
          "model_name": "HTMLModel",
          "model_module_version": "1.5.0",
          "state": {
            "_dom_classes": [],
            "_model_module": "@jupyter-widgets/controls",
            "_model_module_version": "1.5.0",
            "_model_name": "HTMLModel",
            "_view_count": null,
            "_view_module": "@jupyter-widgets/controls",
            "_view_module_version": "1.5.0",
            "_view_name": "HTMLView",
            "description": "",
            "description_tooltip": null,
            "layout": "IPY_MODEL_2611dbcc96e94a56b37cade91a39377d",
            "placeholder": "​",
            "style": "IPY_MODEL_74e6e418b03642b2bf40e3bdaaef794c",
            "value": " 2000/2000 [00:05&lt;00:00, 347.17it/s]"
          }
        },
        "1f3835140e444d6dbe2c1f7f2f268c97": {
          "model_module": "@jupyter-widgets/base",
          "model_name": "LayoutModel",
          "model_module_version": "1.2.0",
          "state": {
            "_model_module": "@jupyter-widgets/base",
            "_model_module_version": "1.2.0",
            "_model_name": "LayoutModel",
            "_view_count": null,
            "_view_module": "@jupyter-widgets/base",
            "_view_module_version": "1.2.0",
            "_view_name": "LayoutView",
            "align_content": null,
            "align_items": null,
            "align_self": null,
            "border": null,
            "bottom": null,
            "display": null,
            "flex": null,
            "flex_flow": null,
            "grid_area": null,
            "grid_auto_columns": null,
            "grid_auto_flow": null,
            "grid_auto_rows": null,
            "grid_column": null,
            "grid_gap": null,
            "grid_row": null,
            "grid_template_areas": null,
            "grid_template_columns": null,
            "grid_template_rows": null,
            "height": null,
            "justify_content": null,
            "justify_items": null,
            "left": null,
            "margin": null,
            "max_height": null,
            "max_width": null,
            "min_height": null,
            "min_width": null,
            "object_fit": null,
            "object_position": null,
            "order": null,
            "overflow": null,
            "overflow_x": null,
            "overflow_y": null,
            "padding": null,
            "right": null,
            "top": null,
            "visibility": null,
            "width": null
          }
        },
        "a137a59c8a5041e5857d40a559fa17f4": {
          "model_module": "@jupyter-widgets/base",
          "model_name": "LayoutModel",
          "model_module_version": "1.2.0",
          "state": {
            "_model_module": "@jupyter-widgets/base",
            "_model_module_version": "1.2.0",
            "_model_name": "LayoutModel",
            "_view_count": null,
            "_view_module": "@jupyter-widgets/base",
            "_view_module_version": "1.2.0",
            "_view_name": "LayoutView",
            "align_content": null,
            "align_items": null,
            "align_self": null,
            "border": null,
            "bottom": null,
            "display": null,
            "flex": null,
            "flex_flow": null,
            "grid_area": null,
            "grid_auto_columns": null,
            "grid_auto_flow": null,
            "grid_auto_rows": null,
            "grid_column": null,
            "grid_gap": null,
            "grid_row": null,
            "grid_template_areas": null,
            "grid_template_columns": null,
            "grid_template_rows": null,
            "height": null,
            "justify_content": null,
            "justify_items": null,
            "left": null,
            "margin": null,
            "max_height": null,
            "max_width": null,
            "min_height": null,
            "min_width": null,
            "object_fit": null,
            "object_position": null,
            "order": null,
            "overflow": null,
            "overflow_x": null,
            "overflow_y": null,
            "padding": null,
            "right": null,
            "top": null,
            "visibility": null,
            "width": null
          }
        },
        "ee6114e9c7434446a259ec93006e0468": {
          "model_module": "@jupyter-widgets/controls",
          "model_name": "DescriptionStyleModel",
          "model_module_version": "1.5.0",
          "state": {
            "_model_module": "@jupyter-widgets/controls",
            "_model_module_version": "1.5.0",
            "_model_name": "DescriptionStyleModel",
            "_view_count": null,
            "_view_module": "@jupyter-widgets/base",
            "_view_module_version": "1.2.0",
            "_view_name": "StyleView",
            "description_width": ""
          }
        },
        "9e29e75269984e0f92ca96557214cd11": {
          "model_module": "@jupyter-widgets/base",
          "model_name": "LayoutModel",
          "model_module_version": "1.2.0",
          "state": {
            "_model_module": "@jupyter-widgets/base",
            "_model_module_version": "1.2.0",
            "_model_name": "LayoutModel",
            "_view_count": null,
            "_view_module": "@jupyter-widgets/base",
            "_view_module_version": "1.2.0",
            "_view_name": "LayoutView",
            "align_content": null,
            "align_items": null,
            "align_self": null,
            "border": null,
            "bottom": null,
            "display": null,
            "flex": null,
            "flex_flow": null,
            "grid_area": null,
            "grid_auto_columns": null,
            "grid_auto_flow": null,
            "grid_auto_rows": null,
            "grid_column": null,
            "grid_gap": null,
            "grid_row": null,
            "grid_template_areas": null,
            "grid_template_columns": null,
            "grid_template_rows": null,
            "height": null,
            "justify_content": null,
            "justify_items": null,
            "left": null,
            "margin": null,
            "max_height": null,
            "max_width": null,
            "min_height": null,
            "min_width": null,
            "object_fit": null,
            "object_position": null,
            "order": null,
            "overflow": null,
            "overflow_x": null,
            "overflow_y": null,
            "padding": null,
            "right": null,
            "top": null,
            "visibility": null,
            "width": null
          }
        },
        "40f1de3b812142fba0e2cf7cbee5cdcd": {
          "model_module": "@jupyter-widgets/controls",
          "model_name": "ProgressStyleModel",
          "model_module_version": "1.5.0",
          "state": {
            "_model_module": "@jupyter-widgets/controls",
            "_model_module_version": "1.5.0",
            "_model_name": "ProgressStyleModel",
            "_view_count": null,
            "_view_module": "@jupyter-widgets/base",
            "_view_module_version": "1.2.0",
            "_view_name": "StyleView",
            "bar_color": null,
            "description_width": ""
          }
        },
        "2611dbcc96e94a56b37cade91a39377d": {
          "model_module": "@jupyter-widgets/base",
          "model_name": "LayoutModel",
          "model_module_version": "1.2.0",
          "state": {
            "_model_module": "@jupyter-widgets/base",
            "_model_module_version": "1.2.0",
            "_model_name": "LayoutModel",
            "_view_count": null,
            "_view_module": "@jupyter-widgets/base",
            "_view_module_version": "1.2.0",
            "_view_name": "LayoutView",
            "align_content": null,
            "align_items": null,
            "align_self": null,
            "border": null,
            "bottom": null,
            "display": null,
            "flex": null,
            "flex_flow": null,
            "grid_area": null,
            "grid_auto_columns": null,
            "grid_auto_flow": null,
            "grid_auto_rows": null,
            "grid_column": null,
            "grid_gap": null,
            "grid_row": null,
            "grid_template_areas": null,
            "grid_template_columns": null,
            "grid_template_rows": null,
            "height": null,
            "justify_content": null,
            "justify_items": null,
            "left": null,
            "margin": null,
            "max_height": null,
            "max_width": null,
            "min_height": null,
            "min_width": null,
            "object_fit": null,
            "object_position": null,
            "order": null,
            "overflow": null,
            "overflow_x": null,
            "overflow_y": null,
            "padding": null,
            "right": null,
            "top": null,
            "visibility": null,
            "width": null
          }
        },
        "74e6e418b03642b2bf40e3bdaaef794c": {
          "model_module": "@jupyter-widgets/controls",
          "model_name": "DescriptionStyleModel",
          "model_module_version": "1.5.0",
          "state": {
            "_model_module": "@jupyter-widgets/controls",
            "_model_module_version": "1.5.0",
            "_model_name": "DescriptionStyleModel",
            "_view_count": null,
            "_view_module": "@jupyter-widgets/base",
            "_view_module_version": "1.2.0",
            "_view_name": "StyleView",
            "description_width": ""
          }
        },
        "b3a9567628154a4bae41f4379fc6c1e6": {
          "model_module": "@jupyter-widgets/controls",
          "model_name": "HBoxModel",
          "model_module_version": "1.5.0",
          "state": {
            "_dom_classes": [],
            "_model_module": "@jupyter-widgets/controls",
            "_model_module_version": "1.5.0",
            "_model_name": "HBoxModel",
            "_view_count": null,
            "_view_module": "@jupyter-widgets/controls",
            "_view_module_version": "1.5.0",
            "_view_name": "HBoxView",
            "box_style": "",
            "children": [
              "IPY_MODEL_56c81d1c3ea04005bb923837590a6f4c",
              "IPY_MODEL_5a4b0ec7dcf24c30bf942c3bc62081ee",
              "IPY_MODEL_6b7bcb1fc3594d6aa12e999d6812200d"
            ],
            "layout": "IPY_MODEL_670680546eee4dcd93f8a6448f828482"
          }
        },
        "56c81d1c3ea04005bb923837590a6f4c": {
          "model_module": "@jupyter-widgets/controls",
          "model_name": "HTMLModel",
          "model_module_version": "1.5.0",
          "state": {
            "_dom_classes": [],
            "_model_module": "@jupyter-widgets/controls",
            "_model_module_version": "1.5.0",
            "_model_name": "HTMLModel",
            "_view_count": null,
            "_view_module": "@jupyter-widgets/controls",
            "_view_module_version": "1.5.0",
            "_view_name": "HTMLView",
            "description": "",
            "description_tooltip": null,
            "layout": "IPY_MODEL_0f8ed99a27ac4d8f9d495e0a1b2f955a",
            "placeholder": "​",
            "style": "IPY_MODEL_d30e6524fdcb431b97c5976234fc3ff8",
            "value": "Samples: 100%"
          }
        },
        "5a4b0ec7dcf24c30bf942c3bc62081ee": {
          "model_module": "@jupyter-widgets/controls",
          "model_name": "FloatProgressModel",
          "model_module_version": "1.5.0",
          "state": {
            "_dom_classes": [],
            "_model_module": "@jupyter-widgets/controls",
            "_model_module_version": "1.5.0",
            "_model_name": "FloatProgressModel",
            "_view_count": null,
            "_view_module": "@jupyter-widgets/controls",
            "_view_module_version": "1.5.0",
            "_view_name": "ProgressView",
            "bar_style": "success",
            "description": "",
            "description_tooltip": null,
            "layout": "IPY_MODEL_acb56423ad7b4a99aa68daf07ee66d51",
            "max": 2000,
            "min": 0,
            "orientation": "horizontal",
            "style": "IPY_MODEL_e667580420404c3daddc06875343bc4b",
            "value": 2000
          }
        },
        "6b7bcb1fc3594d6aa12e999d6812200d": {
          "model_module": "@jupyter-widgets/controls",
          "model_name": "HTMLModel",
          "model_module_version": "1.5.0",
          "state": {
            "_dom_classes": [],
            "_model_module": "@jupyter-widgets/controls",
            "_model_module_version": "1.5.0",
            "_model_name": "HTMLModel",
            "_view_count": null,
            "_view_module": "@jupyter-widgets/controls",
            "_view_module_version": "1.5.0",
            "_view_name": "HTMLView",
            "description": "",
            "description_tooltip": null,
            "layout": "IPY_MODEL_0ce6d7015a5b48a29c98f1823c04c128",
            "placeholder": "​",
            "style": "IPY_MODEL_f3daee0a122d4422bd38060d29be2735",
            "value": " 2000/2000 [00:05&lt;00:00, 412.35it/s]"
          }
        },
        "670680546eee4dcd93f8a6448f828482": {
          "model_module": "@jupyter-widgets/base",
          "model_name": "LayoutModel",
          "model_module_version": "1.2.0",
          "state": {
            "_model_module": "@jupyter-widgets/base",
            "_model_module_version": "1.2.0",
            "_model_name": "LayoutModel",
            "_view_count": null,
            "_view_module": "@jupyter-widgets/base",
            "_view_module_version": "1.2.0",
            "_view_name": "LayoutView",
            "align_content": null,
            "align_items": null,
            "align_self": null,
            "border": null,
            "bottom": null,
            "display": null,
            "flex": null,
            "flex_flow": null,
            "grid_area": null,
            "grid_auto_columns": null,
            "grid_auto_flow": null,
            "grid_auto_rows": null,
            "grid_column": null,
            "grid_gap": null,
            "grid_row": null,
            "grid_template_areas": null,
            "grid_template_columns": null,
            "grid_template_rows": null,
            "height": null,
            "justify_content": null,
            "justify_items": null,
            "left": null,
            "margin": null,
            "max_height": null,
            "max_width": null,
            "min_height": null,
            "min_width": null,
            "object_fit": null,
            "object_position": null,
            "order": null,
            "overflow": null,
            "overflow_x": null,
            "overflow_y": null,
            "padding": null,
            "right": null,
            "top": null,
            "visibility": null,
            "width": null
          }
        },
        "0f8ed99a27ac4d8f9d495e0a1b2f955a": {
          "model_module": "@jupyter-widgets/base",
          "model_name": "LayoutModel",
          "model_module_version": "1.2.0",
          "state": {
            "_model_module": "@jupyter-widgets/base",
            "_model_module_version": "1.2.0",
            "_model_name": "LayoutModel",
            "_view_count": null,
            "_view_module": "@jupyter-widgets/base",
            "_view_module_version": "1.2.0",
            "_view_name": "LayoutView",
            "align_content": null,
            "align_items": null,
            "align_self": null,
            "border": null,
            "bottom": null,
            "display": null,
            "flex": null,
            "flex_flow": null,
            "grid_area": null,
            "grid_auto_columns": null,
            "grid_auto_flow": null,
            "grid_auto_rows": null,
            "grid_column": null,
            "grid_gap": null,
            "grid_row": null,
            "grid_template_areas": null,
            "grid_template_columns": null,
            "grid_template_rows": null,
            "height": null,
            "justify_content": null,
            "justify_items": null,
            "left": null,
            "margin": null,
            "max_height": null,
            "max_width": null,
            "min_height": null,
            "min_width": null,
            "object_fit": null,
            "object_position": null,
            "order": null,
            "overflow": null,
            "overflow_x": null,
            "overflow_y": null,
            "padding": null,
            "right": null,
            "top": null,
            "visibility": null,
            "width": null
          }
        },
        "d30e6524fdcb431b97c5976234fc3ff8": {
          "model_module": "@jupyter-widgets/controls",
          "model_name": "DescriptionStyleModel",
          "model_module_version": "1.5.0",
          "state": {
            "_model_module": "@jupyter-widgets/controls",
            "_model_module_version": "1.5.0",
            "_model_name": "DescriptionStyleModel",
            "_view_count": null,
            "_view_module": "@jupyter-widgets/base",
            "_view_module_version": "1.2.0",
            "_view_name": "StyleView",
            "description_width": ""
          }
        },
        "acb56423ad7b4a99aa68daf07ee66d51": {
          "model_module": "@jupyter-widgets/base",
          "model_name": "LayoutModel",
          "model_module_version": "1.2.0",
          "state": {
            "_model_module": "@jupyter-widgets/base",
            "_model_module_version": "1.2.0",
            "_model_name": "LayoutModel",
            "_view_count": null,
            "_view_module": "@jupyter-widgets/base",
            "_view_module_version": "1.2.0",
            "_view_name": "LayoutView",
            "align_content": null,
            "align_items": null,
            "align_self": null,
            "border": null,
            "bottom": null,
            "display": null,
            "flex": null,
            "flex_flow": null,
            "grid_area": null,
            "grid_auto_columns": null,
            "grid_auto_flow": null,
            "grid_auto_rows": null,
            "grid_column": null,
            "grid_gap": null,
            "grid_row": null,
            "grid_template_areas": null,
            "grid_template_columns": null,
            "grid_template_rows": null,
            "height": null,
            "justify_content": null,
            "justify_items": null,
            "left": null,
            "margin": null,
            "max_height": null,
            "max_width": null,
            "min_height": null,
            "min_width": null,
            "object_fit": null,
            "object_position": null,
            "order": null,
            "overflow": null,
            "overflow_x": null,
            "overflow_y": null,
            "padding": null,
            "right": null,
            "top": null,
            "visibility": null,
            "width": null
          }
        },
        "e667580420404c3daddc06875343bc4b": {
          "model_module": "@jupyter-widgets/controls",
          "model_name": "ProgressStyleModel",
          "model_module_version": "1.5.0",
          "state": {
            "_model_module": "@jupyter-widgets/controls",
            "_model_module_version": "1.5.0",
            "_model_name": "ProgressStyleModel",
            "_view_count": null,
            "_view_module": "@jupyter-widgets/base",
            "_view_module_version": "1.2.0",
            "_view_name": "StyleView",
            "bar_color": null,
            "description_width": ""
          }
        },
        "0ce6d7015a5b48a29c98f1823c04c128": {
          "model_module": "@jupyter-widgets/base",
          "model_name": "LayoutModel",
          "model_module_version": "1.2.0",
          "state": {
            "_model_module": "@jupyter-widgets/base",
            "_model_module_version": "1.2.0",
            "_model_name": "LayoutModel",
            "_view_count": null,
            "_view_module": "@jupyter-widgets/base",
            "_view_module_version": "1.2.0",
            "_view_name": "LayoutView",
            "align_content": null,
            "align_items": null,
            "align_self": null,
            "border": null,
            "bottom": null,
            "display": null,
            "flex": null,
            "flex_flow": null,
            "grid_area": null,
            "grid_auto_columns": null,
            "grid_auto_flow": null,
            "grid_auto_rows": null,
            "grid_column": null,
            "grid_gap": null,
            "grid_row": null,
            "grid_template_areas": null,
            "grid_template_columns": null,
            "grid_template_rows": null,
            "height": null,
            "justify_content": null,
            "justify_items": null,
            "left": null,
            "margin": null,
            "max_height": null,
            "max_width": null,
            "min_height": null,
            "min_width": null,
            "object_fit": null,
            "object_position": null,
            "order": null,
            "overflow": null,
            "overflow_x": null,
            "overflow_y": null,
            "padding": null,
            "right": null,
            "top": null,
            "visibility": null,
            "width": null
          }
        },
        "f3daee0a122d4422bd38060d29be2735": {
          "model_module": "@jupyter-widgets/controls",
          "model_name": "DescriptionStyleModel",
          "model_module_version": "1.5.0",
          "state": {
            "_model_module": "@jupyter-widgets/controls",
            "_model_module_version": "1.5.0",
            "_model_name": "DescriptionStyleModel",
            "_view_count": null,
            "_view_module": "@jupyter-widgets/base",
            "_view_module_version": "1.2.0",
            "_view_name": "StyleView",
            "description_width": ""
          }
        },
        "b9d75106d9fe4bc287267996a5b4fd09": {
          "model_module": "@jupyter-widgets/controls",
          "model_name": "HBoxModel",
          "model_module_version": "1.5.0",
          "state": {
            "_dom_classes": [],
            "_model_module": "@jupyter-widgets/controls",
            "_model_module_version": "1.5.0",
            "_model_name": "HBoxModel",
            "_view_count": null,
            "_view_module": "@jupyter-widgets/controls",
            "_view_module_version": "1.5.0",
            "_view_name": "HBoxView",
            "box_style": "",
            "children": [
              "IPY_MODEL_1564e7769da642c59f78e84c35fd92e7",
              "IPY_MODEL_296c4563d8e24d3caa39a3ac6a44c44f",
              "IPY_MODEL_c1f2929ff90442bd893469c21a0c7875"
            ],
            "layout": "IPY_MODEL_8633eadb4ec046cc8b7cd0521aeca80b"
          }
        },
        "1564e7769da642c59f78e84c35fd92e7": {
          "model_module": "@jupyter-widgets/controls",
          "model_name": "HTMLModel",
          "model_module_version": "1.5.0",
          "state": {
            "_dom_classes": [],
            "_model_module": "@jupyter-widgets/controls",
            "_model_module_version": "1.5.0",
            "_model_name": "HTMLModel",
            "_view_count": null,
            "_view_module": "@jupyter-widgets/controls",
            "_view_module_version": "1.5.0",
            "_view_name": "HTMLView",
            "description": "",
            "description_tooltip": null,
            "layout": "IPY_MODEL_205c31ae93384fcdbcc7899b2f3ad5fc",
            "placeholder": "​",
            "style": "IPY_MODEL_5230ec6c052c4025b7dd2ceddcacb7ae",
            "value": "Samples: 100%"
          }
        },
        "296c4563d8e24d3caa39a3ac6a44c44f": {
          "model_module": "@jupyter-widgets/controls",
          "model_name": "FloatProgressModel",
          "model_module_version": "1.5.0",
          "state": {
            "_dom_classes": [],
            "_model_module": "@jupyter-widgets/controls",
            "_model_module_version": "1.5.0",
            "_model_name": "FloatProgressModel",
            "_view_count": null,
            "_view_module": "@jupyter-widgets/controls",
            "_view_module_version": "1.5.0",
            "_view_name": "ProgressView",
            "bar_style": "success",
            "description": "",
            "description_tooltip": null,
            "layout": "IPY_MODEL_5cad674e50d34ff1b416798c62ed0640",
            "max": 2000,
            "min": 0,
            "orientation": "horizontal",
            "style": "IPY_MODEL_407429513d4342eb95bdcea5895fb924",
            "value": 2000
          }
        },
        "c1f2929ff90442bd893469c21a0c7875": {
          "model_module": "@jupyter-widgets/controls",
          "model_name": "HTMLModel",
          "model_module_version": "1.5.0",
          "state": {
            "_dom_classes": [],
            "_model_module": "@jupyter-widgets/controls",
            "_model_module_version": "1.5.0",
            "_model_name": "HTMLModel",
            "_view_count": null,
            "_view_module": "@jupyter-widgets/controls",
            "_view_module_version": "1.5.0",
            "_view_name": "HTMLView",
            "description": "",
            "description_tooltip": null,
            "layout": "IPY_MODEL_fff03a20f55d4aaeaf7d65319361f853",
            "placeholder": "​",
            "style": "IPY_MODEL_8ebaaa5aca42461f8967218b2498c34b",
            "value": " 2000/2000 [00:05&lt;00:00, 371.93it/s]"
          }
        },
        "8633eadb4ec046cc8b7cd0521aeca80b": {
          "model_module": "@jupyter-widgets/base",
          "model_name": "LayoutModel",
          "model_module_version": "1.2.0",
          "state": {
            "_model_module": "@jupyter-widgets/base",
            "_model_module_version": "1.2.0",
            "_model_name": "LayoutModel",
            "_view_count": null,
            "_view_module": "@jupyter-widgets/base",
            "_view_module_version": "1.2.0",
            "_view_name": "LayoutView",
            "align_content": null,
            "align_items": null,
            "align_self": null,
            "border": null,
            "bottom": null,
            "display": null,
            "flex": null,
            "flex_flow": null,
            "grid_area": null,
            "grid_auto_columns": null,
            "grid_auto_flow": null,
            "grid_auto_rows": null,
            "grid_column": null,
            "grid_gap": null,
            "grid_row": null,
            "grid_template_areas": null,
            "grid_template_columns": null,
            "grid_template_rows": null,
            "height": null,
            "justify_content": null,
            "justify_items": null,
            "left": null,
            "margin": null,
            "max_height": null,
            "max_width": null,
            "min_height": null,
            "min_width": null,
            "object_fit": null,
            "object_position": null,
            "order": null,
            "overflow": null,
            "overflow_x": null,
            "overflow_y": null,
            "padding": null,
            "right": null,
            "top": null,
            "visibility": null,
            "width": null
          }
        },
        "205c31ae93384fcdbcc7899b2f3ad5fc": {
          "model_module": "@jupyter-widgets/base",
          "model_name": "LayoutModel",
          "model_module_version": "1.2.0",
          "state": {
            "_model_module": "@jupyter-widgets/base",
            "_model_module_version": "1.2.0",
            "_model_name": "LayoutModel",
            "_view_count": null,
            "_view_module": "@jupyter-widgets/base",
            "_view_module_version": "1.2.0",
            "_view_name": "LayoutView",
            "align_content": null,
            "align_items": null,
            "align_self": null,
            "border": null,
            "bottom": null,
            "display": null,
            "flex": null,
            "flex_flow": null,
            "grid_area": null,
            "grid_auto_columns": null,
            "grid_auto_flow": null,
            "grid_auto_rows": null,
            "grid_column": null,
            "grid_gap": null,
            "grid_row": null,
            "grid_template_areas": null,
            "grid_template_columns": null,
            "grid_template_rows": null,
            "height": null,
            "justify_content": null,
            "justify_items": null,
            "left": null,
            "margin": null,
            "max_height": null,
            "max_width": null,
            "min_height": null,
            "min_width": null,
            "object_fit": null,
            "object_position": null,
            "order": null,
            "overflow": null,
            "overflow_x": null,
            "overflow_y": null,
            "padding": null,
            "right": null,
            "top": null,
            "visibility": null,
            "width": null
          }
        },
        "5230ec6c052c4025b7dd2ceddcacb7ae": {
          "model_module": "@jupyter-widgets/controls",
          "model_name": "DescriptionStyleModel",
          "model_module_version": "1.5.0",
          "state": {
            "_model_module": "@jupyter-widgets/controls",
            "_model_module_version": "1.5.0",
            "_model_name": "DescriptionStyleModel",
            "_view_count": null,
            "_view_module": "@jupyter-widgets/base",
            "_view_module_version": "1.2.0",
            "_view_name": "StyleView",
            "description_width": ""
          }
        },
        "5cad674e50d34ff1b416798c62ed0640": {
          "model_module": "@jupyter-widgets/base",
          "model_name": "LayoutModel",
          "model_module_version": "1.2.0",
          "state": {
            "_model_module": "@jupyter-widgets/base",
            "_model_module_version": "1.2.0",
            "_model_name": "LayoutModel",
            "_view_count": null,
            "_view_module": "@jupyter-widgets/base",
            "_view_module_version": "1.2.0",
            "_view_name": "LayoutView",
            "align_content": null,
            "align_items": null,
            "align_self": null,
            "border": null,
            "bottom": null,
            "display": null,
            "flex": null,
            "flex_flow": null,
            "grid_area": null,
            "grid_auto_columns": null,
            "grid_auto_flow": null,
            "grid_auto_rows": null,
            "grid_column": null,
            "grid_gap": null,
            "grid_row": null,
            "grid_template_areas": null,
            "grid_template_columns": null,
            "grid_template_rows": null,
            "height": null,
            "justify_content": null,
            "justify_items": null,
            "left": null,
            "margin": null,
            "max_height": null,
            "max_width": null,
            "min_height": null,
            "min_width": null,
            "object_fit": null,
            "object_position": null,
            "order": null,
            "overflow": null,
            "overflow_x": null,
            "overflow_y": null,
            "padding": null,
            "right": null,
            "top": null,
            "visibility": null,
            "width": null
          }
        },
        "407429513d4342eb95bdcea5895fb924": {
          "model_module": "@jupyter-widgets/controls",
          "model_name": "ProgressStyleModel",
          "model_module_version": "1.5.0",
          "state": {
            "_model_module": "@jupyter-widgets/controls",
            "_model_module_version": "1.5.0",
            "_model_name": "ProgressStyleModel",
            "_view_count": null,
            "_view_module": "@jupyter-widgets/base",
            "_view_module_version": "1.2.0",
            "_view_name": "StyleView",
            "bar_color": null,
            "description_width": ""
          }
        },
        "fff03a20f55d4aaeaf7d65319361f853": {
          "model_module": "@jupyter-widgets/base",
          "model_name": "LayoutModel",
          "model_module_version": "1.2.0",
          "state": {
            "_model_module": "@jupyter-widgets/base",
            "_model_module_version": "1.2.0",
            "_model_name": "LayoutModel",
            "_view_count": null,
            "_view_module": "@jupyter-widgets/base",
            "_view_module_version": "1.2.0",
            "_view_name": "LayoutView",
            "align_content": null,
            "align_items": null,
            "align_self": null,
            "border": null,
            "bottom": null,
            "display": null,
            "flex": null,
            "flex_flow": null,
            "grid_area": null,
            "grid_auto_columns": null,
            "grid_auto_flow": null,
            "grid_auto_rows": null,
            "grid_column": null,
            "grid_gap": null,
            "grid_row": null,
            "grid_template_areas": null,
            "grid_template_columns": null,
            "grid_template_rows": null,
            "height": null,
            "justify_content": null,
            "justify_items": null,
            "left": null,
            "margin": null,
            "max_height": null,
            "max_width": null,
            "min_height": null,
            "min_width": null,
            "object_fit": null,
            "object_position": null,
            "order": null,
            "overflow": null,
            "overflow_x": null,
            "overflow_y": null,
            "padding": null,
            "right": null,
            "top": null,
            "visibility": null,
            "width": null
          }
        },
        "8ebaaa5aca42461f8967218b2498c34b": {
          "model_module": "@jupyter-widgets/controls",
          "model_name": "DescriptionStyleModel",
          "model_module_version": "1.5.0",
          "state": {
            "_model_module": "@jupyter-widgets/controls",
            "_model_module_version": "1.5.0",
            "_model_name": "DescriptionStyleModel",
            "_view_count": null,
            "_view_module": "@jupyter-widgets/base",
            "_view_module_version": "1.2.0",
            "_view_name": "StyleView",
            "description_width": ""
          }
        },
        "cca4c51b405643ea82e6ac21b410426a": {
          "model_module": "@jupyter-widgets/controls",
          "model_name": "HBoxModel",
          "model_module_version": "1.5.0",
          "state": {
            "_dom_classes": [],
            "_model_module": "@jupyter-widgets/controls",
            "_model_module_version": "1.5.0",
            "_model_name": "HBoxModel",
            "_view_count": null,
            "_view_module": "@jupyter-widgets/controls",
            "_view_module_version": "1.5.0",
            "_view_name": "HBoxView",
            "box_style": "",
            "children": [
              "IPY_MODEL_901898bfaaaa47e79ed743beb012e8eb",
              "IPY_MODEL_1e41cfabe33540458015d1467eef2f6d",
              "IPY_MODEL_81fe96b5d31b44e687873265504856c8"
            ],
            "layout": "IPY_MODEL_17cbd1ee73264371a9c1a82fdeb83e86"
          }
        },
        "901898bfaaaa47e79ed743beb012e8eb": {
          "model_module": "@jupyter-widgets/controls",
          "model_name": "HTMLModel",
          "model_module_version": "1.5.0",
          "state": {
            "_dom_classes": [],
            "_model_module": "@jupyter-widgets/controls",
            "_model_module_version": "1.5.0",
            "_model_name": "HTMLModel",
            "_view_count": null,
            "_view_module": "@jupyter-widgets/controls",
            "_view_module_version": "1.5.0",
            "_view_name": "HTMLView",
            "description": "",
            "description_tooltip": null,
            "layout": "IPY_MODEL_5e3cbd4152ab49ff8d484c1eab06f503",
            "placeholder": "​",
            "style": "IPY_MODEL_583bc3ddc92c4ff08554b2f163216280",
            "value": "Samples: 100%"
          }
        },
        "1e41cfabe33540458015d1467eef2f6d": {
          "model_module": "@jupyter-widgets/controls",
          "model_name": "FloatProgressModel",
          "model_module_version": "1.5.0",
          "state": {
            "_dom_classes": [],
            "_model_module": "@jupyter-widgets/controls",
            "_model_module_version": "1.5.0",
            "_model_name": "FloatProgressModel",
            "_view_count": null,
            "_view_module": "@jupyter-widgets/controls",
            "_view_module_version": "1.5.0",
            "_view_name": "ProgressView",
            "bar_style": "success",
            "description": "",
            "description_tooltip": null,
            "layout": "IPY_MODEL_cb258f65f4da433fa6dc89264b22b30c",
            "max": 2000,
            "min": 0,
            "orientation": "horizontal",
            "style": "IPY_MODEL_e38f169b01bd4546b59fcb44fbcfe473",
            "value": 2000
          }
        },
        "81fe96b5d31b44e687873265504856c8": {
          "model_module": "@jupyter-widgets/controls",
          "model_name": "HTMLModel",
          "model_module_version": "1.5.0",
          "state": {
            "_dom_classes": [],
            "_model_module": "@jupyter-widgets/controls",
            "_model_module_version": "1.5.0",
            "_model_name": "HTMLModel",
            "_view_count": null,
            "_view_module": "@jupyter-widgets/controls",
            "_view_module_version": "1.5.0",
            "_view_name": "HTMLView",
            "description": "",
            "description_tooltip": null,
            "layout": "IPY_MODEL_a11fe6819b9644cab889e43ab485135f",
            "placeholder": "​",
            "style": "IPY_MODEL_0d8f98be792c4ce487622e00c724ef46",
            "value": " 2000/2000 [00:06&lt;00:00, 361.22it/s]"
          }
        },
        "17cbd1ee73264371a9c1a82fdeb83e86": {
          "model_module": "@jupyter-widgets/base",
          "model_name": "LayoutModel",
          "model_module_version": "1.2.0",
          "state": {
            "_model_module": "@jupyter-widgets/base",
            "_model_module_version": "1.2.0",
            "_model_name": "LayoutModel",
            "_view_count": null,
            "_view_module": "@jupyter-widgets/base",
            "_view_module_version": "1.2.0",
            "_view_name": "LayoutView",
            "align_content": null,
            "align_items": null,
            "align_self": null,
            "border": null,
            "bottom": null,
            "display": null,
            "flex": null,
            "flex_flow": null,
            "grid_area": null,
            "grid_auto_columns": null,
            "grid_auto_flow": null,
            "grid_auto_rows": null,
            "grid_column": null,
            "grid_gap": null,
            "grid_row": null,
            "grid_template_areas": null,
            "grid_template_columns": null,
            "grid_template_rows": null,
            "height": null,
            "justify_content": null,
            "justify_items": null,
            "left": null,
            "margin": null,
            "max_height": null,
            "max_width": null,
            "min_height": null,
            "min_width": null,
            "object_fit": null,
            "object_position": null,
            "order": null,
            "overflow": null,
            "overflow_x": null,
            "overflow_y": null,
            "padding": null,
            "right": null,
            "top": null,
            "visibility": null,
            "width": null
          }
        },
        "5e3cbd4152ab49ff8d484c1eab06f503": {
          "model_module": "@jupyter-widgets/base",
          "model_name": "LayoutModel",
          "model_module_version": "1.2.0",
          "state": {
            "_model_module": "@jupyter-widgets/base",
            "_model_module_version": "1.2.0",
            "_model_name": "LayoutModel",
            "_view_count": null,
            "_view_module": "@jupyter-widgets/base",
            "_view_module_version": "1.2.0",
            "_view_name": "LayoutView",
            "align_content": null,
            "align_items": null,
            "align_self": null,
            "border": null,
            "bottom": null,
            "display": null,
            "flex": null,
            "flex_flow": null,
            "grid_area": null,
            "grid_auto_columns": null,
            "grid_auto_flow": null,
            "grid_auto_rows": null,
            "grid_column": null,
            "grid_gap": null,
            "grid_row": null,
            "grid_template_areas": null,
            "grid_template_columns": null,
            "grid_template_rows": null,
            "height": null,
            "justify_content": null,
            "justify_items": null,
            "left": null,
            "margin": null,
            "max_height": null,
            "max_width": null,
            "min_height": null,
            "min_width": null,
            "object_fit": null,
            "object_position": null,
            "order": null,
            "overflow": null,
            "overflow_x": null,
            "overflow_y": null,
            "padding": null,
            "right": null,
            "top": null,
            "visibility": null,
            "width": null
          }
        },
        "583bc3ddc92c4ff08554b2f163216280": {
          "model_module": "@jupyter-widgets/controls",
          "model_name": "DescriptionStyleModel",
          "model_module_version": "1.5.0",
          "state": {
            "_model_module": "@jupyter-widgets/controls",
            "_model_module_version": "1.5.0",
            "_model_name": "DescriptionStyleModel",
            "_view_count": null,
            "_view_module": "@jupyter-widgets/base",
            "_view_module_version": "1.2.0",
            "_view_name": "StyleView",
            "description_width": ""
          }
        },
        "cb258f65f4da433fa6dc89264b22b30c": {
          "model_module": "@jupyter-widgets/base",
          "model_name": "LayoutModel",
          "model_module_version": "1.2.0",
          "state": {
            "_model_module": "@jupyter-widgets/base",
            "_model_module_version": "1.2.0",
            "_model_name": "LayoutModel",
            "_view_count": null,
            "_view_module": "@jupyter-widgets/base",
            "_view_module_version": "1.2.0",
            "_view_name": "LayoutView",
            "align_content": null,
            "align_items": null,
            "align_self": null,
            "border": null,
            "bottom": null,
            "display": null,
            "flex": null,
            "flex_flow": null,
            "grid_area": null,
            "grid_auto_columns": null,
            "grid_auto_flow": null,
            "grid_auto_rows": null,
            "grid_column": null,
            "grid_gap": null,
            "grid_row": null,
            "grid_template_areas": null,
            "grid_template_columns": null,
            "grid_template_rows": null,
            "height": null,
            "justify_content": null,
            "justify_items": null,
            "left": null,
            "margin": null,
            "max_height": null,
            "max_width": null,
            "min_height": null,
            "min_width": null,
            "object_fit": null,
            "object_position": null,
            "order": null,
            "overflow": null,
            "overflow_x": null,
            "overflow_y": null,
            "padding": null,
            "right": null,
            "top": null,
            "visibility": null,
            "width": null
          }
        },
        "e38f169b01bd4546b59fcb44fbcfe473": {
          "model_module": "@jupyter-widgets/controls",
          "model_name": "ProgressStyleModel",
          "model_module_version": "1.5.0",
          "state": {
            "_model_module": "@jupyter-widgets/controls",
            "_model_module_version": "1.5.0",
            "_model_name": "ProgressStyleModel",
            "_view_count": null,
            "_view_module": "@jupyter-widgets/base",
            "_view_module_version": "1.2.0",
            "_view_name": "StyleView",
            "bar_color": null,
            "description_width": ""
          }
        },
        "a11fe6819b9644cab889e43ab485135f": {
          "model_module": "@jupyter-widgets/base",
          "model_name": "LayoutModel",
          "model_module_version": "1.2.0",
          "state": {
            "_model_module": "@jupyter-widgets/base",
            "_model_module_version": "1.2.0",
            "_model_name": "LayoutModel",
            "_view_count": null,
            "_view_module": "@jupyter-widgets/base",
            "_view_module_version": "1.2.0",
            "_view_name": "LayoutView",
            "align_content": null,
            "align_items": null,
            "align_self": null,
            "border": null,
            "bottom": null,
            "display": null,
            "flex": null,
            "flex_flow": null,
            "grid_area": null,
            "grid_auto_columns": null,
            "grid_auto_flow": null,
            "grid_auto_rows": null,
            "grid_column": null,
            "grid_gap": null,
            "grid_row": null,
            "grid_template_areas": null,
            "grid_template_columns": null,
            "grid_template_rows": null,
            "height": null,
            "justify_content": null,
            "justify_items": null,
            "left": null,
            "margin": null,
            "max_height": null,
            "max_width": null,
            "min_height": null,
            "min_width": null,
            "object_fit": null,
            "object_position": null,
            "order": null,
            "overflow": null,
            "overflow_x": null,
            "overflow_y": null,
            "padding": null,
            "right": null,
            "top": null,
            "visibility": null,
            "width": null
          }
        },
        "0d8f98be792c4ce487622e00c724ef46": {
          "model_module": "@jupyter-widgets/controls",
          "model_name": "DescriptionStyleModel",
          "model_module_version": "1.5.0",
          "state": {
            "_model_module": "@jupyter-widgets/controls",
            "_model_module_version": "1.5.0",
            "_model_name": "DescriptionStyleModel",
            "_view_count": null,
            "_view_module": "@jupyter-widgets/base",
            "_view_module_version": "1.2.0",
            "_view_name": "StyleView",
            "description_width": ""
          }
        },
        "3ba766654eaf4525ba69edc97e6d12a0": {
          "model_module": "@jupyter-widgets/controls",
          "model_name": "HBoxModel",
          "model_module_version": "1.5.0",
          "state": {
            "_dom_classes": [],
            "_model_module": "@jupyter-widgets/controls",
            "_model_module_version": "1.5.0",
            "_model_name": "HBoxModel",
            "_view_count": null,
            "_view_module": "@jupyter-widgets/controls",
            "_view_module_version": "1.5.0",
            "_view_name": "HBoxView",
            "box_style": "",
            "children": [
              "IPY_MODEL_7c028f6e49d044839f1d3bad215f5e39",
              "IPY_MODEL_39643695eef0415ea5e6b24e2493ad60",
              "IPY_MODEL_fd68ab1ac6c4496eaf28ace9ebad5b6a"
            ],
            "layout": "IPY_MODEL_997b06c02a2f497ab5ed5ec9e88f4397"
          }
        },
        "7c028f6e49d044839f1d3bad215f5e39": {
          "model_module": "@jupyter-widgets/controls",
          "model_name": "HTMLModel",
          "model_module_version": "1.5.0",
          "state": {
            "_dom_classes": [],
            "_model_module": "@jupyter-widgets/controls",
            "_model_module_version": "1.5.0",
            "_model_name": "HTMLModel",
            "_view_count": null,
            "_view_module": "@jupyter-widgets/controls",
            "_view_module_version": "1.5.0",
            "_view_name": "HTMLView",
            "description": "",
            "description_tooltip": null,
            "layout": "IPY_MODEL_f38492c147be47f48557a51f63bbf134",
            "placeholder": "​",
            "style": "IPY_MODEL_09235338ad3d4c5784ff4ef5a7aa3bd0",
            "value": "100%"
          }
        },
        "39643695eef0415ea5e6b24e2493ad60": {
          "model_module": "@jupyter-widgets/controls",
          "model_name": "FloatProgressModel",
          "model_module_version": "1.5.0",
          "state": {
            "_dom_classes": [],
            "_model_module": "@jupyter-widgets/controls",
            "_model_module_version": "1.5.0",
            "_model_name": "FloatProgressModel",
            "_view_count": null,
            "_view_module": "@jupyter-widgets/controls",
            "_view_module_version": "1.5.0",
            "_view_name": "ProgressView",
            "bar_style": "success",
            "description": "",
            "description_tooltip": null,
            "layout": "IPY_MODEL_99174fe9ad97472483921dec1d7f69e6",
            "max": 10000,
            "min": 0,
            "orientation": "horizontal",
            "style": "IPY_MODEL_a16fdc0f656440919f424cf902d207be",
            "value": 10000
          }
        },
        "fd68ab1ac6c4496eaf28ace9ebad5b6a": {
          "model_module": "@jupyter-widgets/controls",
          "model_name": "HTMLModel",
          "model_module_version": "1.5.0",
          "state": {
            "_dom_classes": [],
            "_model_module": "@jupyter-widgets/controls",
            "_model_module_version": "1.5.0",
            "_model_name": "HTMLModel",
            "_view_count": null,
            "_view_module": "@jupyter-widgets/controls",
            "_view_module_version": "1.5.0",
            "_view_name": "HTMLView",
            "description": "",
            "description_tooltip": null,
            "layout": "IPY_MODEL_e2f667ce82bb4593818d0a82e311a554",
            "placeholder": "​",
            "style": "IPY_MODEL_240cf912deb541feb67ab559c7c395d7",
            "value": " 10000/10000 [00:10&lt;00:00, 1060.59it/s]"
          }
        },
        "997b06c02a2f497ab5ed5ec9e88f4397": {
          "model_module": "@jupyter-widgets/base",
          "model_name": "LayoutModel",
          "model_module_version": "1.2.0",
          "state": {
            "_model_module": "@jupyter-widgets/base",
            "_model_module_version": "1.2.0",
            "_model_name": "LayoutModel",
            "_view_count": null,
            "_view_module": "@jupyter-widgets/base",
            "_view_module_version": "1.2.0",
            "_view_name": "LayoutView",
            "align_content": null,
            "align_items": null,
            "align_self": null,
            "border": null,
            "bottom": null,
            "display": null,
            "flex": null,
            "flex_flow": null,
            "grid_area": null,
            "grid_auto_columns": null,
            "grid_auto_flow": null,
            "grid_auto_rows": null,
            "grid_column": null,
            "grid_gap": null,
            "grid_row": null,
            "grid_template_areas": null,
            "grid_template_columns": null,
            "grid_template_rows": null,
            "height": null,
            "justify_content": null,
            "justify_items": null,
            "left": null,
            "margin": null,
            "max_height": null,
            "max_width": null,
            "min_height": null,
            "min_width": null,
            "object_fit": null,
            "object_position": null,
            "order": null,
            "overflow": null,
            "overflow_x": null,
            "overflow_y": null,
            "padding": null,
            "right": null,
            "top": null,
            "visibility": null,
            "width": null
          }
        },
        "f38492c147be47f48557a51f63bbf134": {
          "model_module": "@jupyter-widgets/base",
          "model_name": "LayoutModel",
          "model_module_version": "1.2.0",
          "state": {
            "_model_module": "@jupyter-widgets/base",
            "_model_module_version": "1.2.0",
            "_model_name": "LayoutModel",
            "_view_count": null,
            "_view_module": "@jupyter-widgets/base",
            "_view_module_version": "1.2.0",
            "_view_name": "LayoutView",
            "align_content": null,
            "align_items": null,
            "align_self": null,
            "border": null,
            "bottom": null,
            "display": null,
            "flex": null,
            "flex_flow": null,
            "grid_area": null,
            "grid_auto_columns": null,
            "grid_auto_flow": null,
            "grid_auto_rows": null,
            "grid_column": null,
            "grid_gap": null,
            "grid_row": null,
            "grid_template_areas": null,
            "grid_template_columns": null,
            "grid_template_rows": null,
            "height": null,
            "justify_content": null,
            "justify_items": null,
            "left": null,
            "margin": null,
            "max_height": null,
            "max_width": null,
            "min_height": null,
            "min_width": null,
            "object_fit": null,
            "object_position": null,
            "order": null,
            "overflow": null,
            "overflow_x": null,
            "overflow_y": null,
            "padding": null,
            "right": null,
            "top": null,
            "visibility": null,
            "width": null
          }
        },
        "09235338ad3d4c5784ff4ef5a7aa3bd0": {
          "model_module": "@jupyter-widgets/controls",
          "model_name": "DescriptionStyleModel",
          "model_module_version": "1.5.0",
          "state": {
            "_model_module": "@jupyter-widgets/controls",
            "_model_module_version": "1.5.0",
            "_model_name": "DescriptionStyleModel",
            "_view_count": null,
            "_view_module": "@jupyter-widgets/base",
            "_view_module_version": "1.2.0",
            "_view_name": "StyleView",
            "description_width": ""
          }
        },
        "99174fe9ad97472483921dec1d7f69e6": {
          "model_module": "@jupyter-widgets/base",
          "model_name": "LayoutModel",
          "model_module_version": "1.2.0",
          "state": {
            "_model_module": "@jupyter-widgets/base",
            "_model_module_version": "1.2.0",
            "_model_name": "LayoutModel",
            "_view_count": null,
            "_view_module": "@jupyter-widgets/base",
            "_view_module_version": "1.2.0",
            "_view_name": "LayoutView",
            "align_content": null,
            "align_items": null,
            "align_self": null,
            "border": null,
            "bottom": null,
            "display": null,
            "flex": null,
            "flex_flow": null,
            "grid_area": null,
            "grid_auto_columns": null,
            "grid_auto_flow": null,
            "grid_auto_rows": null,
            "grid_column": null,
            "grid_gap": null,
            "grid_row": null,
            "grid_template_areas": null,
            "grid_template_columns": null,
            "grid_template_rows": null,
            "height": null,
            "justify_content": null,
            "justify_items": null,
            "left": null,
            "margin": null,
            "max_height": null,
            "max_width": null,
            "min_height": null,
            "min_width": null,
            "object_fit": null,
            "object_position": null,
            "order": null,
            "overflow": null,
            "overflow_x": null,
            "overflow_y": null,
            "padding": null,
            "right": null,
            "top": null,
            "visibility": null,
            "width": null
          }
        },
        "a16fdc0f656440919f424cf902d207be": {
          "model_module": "@jupyter-widgets/controls",
          "model_name": "ProgressStyleModel",
          "model_module_version": "1.5.0",
          "state": {
            "_model_module": "@jupyter-widgets/controls",
            "_model_module_version": "1.5.0",
            "_model_name": "ProgressStyleModel",
            "_view_count": null,
            "_view_module": "@jupyter-widgets/base",
            "_view_module_version": "1.2.0",
            "_view_name": "StyleView",
            "bar_color": null,
            "description_width": ""
          }
        },
        "e2f667ce82bb4593818d0a82e311a554": {
          "model_module": "@jupyter-widgets/base",
          "model_name": "LayoutModel",
          "model_module_version": "1.2.0",
          "state": {
            "_model_module": "@jupyter-widgets/base",
            "_model_module_version": "1.2.0",
            "_model_name": "LayoutModel",
            "_view_count": null,
            "_view_module": "@jupyter-widgets/base",
            "_view_module_version": "1.2.0",
            "_view_name": "LayoutView",
            "align_content": null,
            "align_items": null,
            "align_self": null,
            "border": null,
            "bottom": null,
            "display": null,
            "flex": null,
            "flex_flow": null,
            "grid_area": null,
            "grid_auto_columns": null,
            "grid_auto_flow": null,
            "grid_auto_rows": null,
            "grid_column": null,
            "grid_gap": null,
            "grid_row": null,
            "grid_template_areas": null,
            "grid_template_columns": null,
            "grid_template_rows": null,
            "height": null,
            "justify_content": null,
            "justify_items": null,
            "left": null,
            "margin": null,
            "max_height": null,
            "max_width": null,
            "min_height": null,
            "min_width": null,
            "object_fit": null,
            "object_position": null,
            "order": null,
            "overflow": null,
            "overflow_x": null,
            "overflow_y": null,
            "padding": null,
            "right": null,
            "top": null,
            "visibility": null,
            "width": null
          }
        },
        "240cf912deb541feb67ab559c7c395d7": {
          "model_module": "@jupyter-widgets/controls",
          "model_name": "DescriptionStyleModel",
          "model_module_version": "1.5.0",
          "state": {
            "_model_module": "@jupyter-widgets/controls",
            "_model_module_version": "1.5.0",
            "_model_name": "DescriptionStyleModel",
            "_view_count": null,
            "_view_module": "@jupyter-widgets/base",
            "_view_module_version": "1.2.0",
            "_view_name": "StyleView",
            "description_width": ""
          }
        },
        "78fe196f9b6b43fd8eb048f78e90d716": {
          "model_module": "@jupyter-widgets/controls",
          "model_name": "HBoxModel",
          "model_module_version": "1.5.0",
          "state": {
            "_dom_classes": [],
            "_model_module": "@jupyter-widgets/controls",
            "_model_module_version": "1.5.0",
            "_model_name": "HBoxModel",
            "_view_count": null,
            "_view_module": "@jupyter-widgets/controls",
            "_view_module_version": "1.5.0",
            "_view_name": "HBoxView",
            "box_style": "",
            "children": [
              "IPY_MODEL_1b94d67ec99641ab87d5cd50d5ceb30b",
              "IPY_MODEL_635539665f344244b03194439af95f9f",
              "IPY_MODEL_6880f53b28aa460a88cdf1519ed204b1"
            ],
            "layout": "IPY_MODEL_065df5e2121244bdba44ee48f769d6fa"
          }
        },
        "1b94d67ec99641ab87d5cd50d5ceb30b": {
          "model_module": "@jupyter-widgets/controls",
          "model_name": "HTMLModel",
          "model_module_version": "1.5.0",
          "state": {
            "_dom_classes": [],
            "_model_module": "@jupyter-widgets/controls",
            "_model_module_version": "1.5.0",
            "_model_name": "HTMLModel",
            "_view_count": null,
            "_view_module": "@jupyter-widgets/controls",
            "_view_module_version": "1.5.0",
            "_view_name": "HTMLView",
            "description": "",
            "description_tooltip": null,
            "layout": "IPY_MODEL_f0708e41cda24d96be9a53f039ac2541",
            "placeholder": "​",
            "style": "IPY_MODEL_2baa00d33f864b20984b1a06b92f1f5c",
            "value": "Epochs:   5%"
          }
        },
        "635539665f344244b03194439af95f9f": {
          "model_module": "@jupyter-widgets/controls",
          "model_name": "FloatProgressModel",
          "model_module_version": "1.5.0",
          "state": {
            "_dom_classes": [],
            "_model_module": "@jupyter-widgets/controls",
            "_model_module_version": "1.5.0",
            "_model_name": "FloatProgressModel",
            "_view_count": null,
            "_view_module": "@jupyter-widgets/controls",
            "_view_module_version": "1.5.0",
            "_view_name": "ProgressView",
            "bar_style": "danger",
            "description": "",
            "description_tooltip": null,
            "layout": "IPY_MODEL_51a397ae56474cfdaddf9f990b884120",
            "max": 20,
            "min": 0,
            "orientation": "horizontal",
            "style": "IPY_MODEL_645dbdf81eae4e98bcbca4339e4ed10d",
            "value": 1
          }
        },
        "6880f53b28aa460a88cdf1519ed204b1": {
          "model_module": "@jupyter-widgets/controls",
          "model_name": "HTMLModel",
          "model_module_version": "1.5.0",
          "state": {
            "_dom_classes": [],
            "_model_module": "@jupyter-widgets/controls",
            "_model_module_version": "1.5.0",
            "_model_name": "HTMLModel",
            "_view_count": null,
            "_view_module": "@jupyter-widgets/controls",
            "_view_module_version": "1.5.0",
            "_view_name": "HTMLView",
            "description": "",
            "description_tooltip": null,
            "layout": "IPY_MODEL_ba11574d44b5482fbc7606638ae1a8b7",
            "placeholder": "​",
            "style": "IPY_MODEL_86a14596fc8044dda0cf4b5e2418955e",
            "value": " 1/20 [00:17&lt;03:19, 10.51s/it]"
          }
        },
        "065df5e2121244bdba44ee48f769d6fa": {
          "model_module": "@jupyter-widgets/base",
          "model_name": "LayoutModel",
          "model_module_version": "1.2.0",
          "state": {
            "_model_module": "@jupyter-widgets/base",
            "_model_module_version": "1.2.0",
            "_model_name": "LayoutModel",
            "_view_count": null,
            "_view_module": "@jupyter-widgets/base",
            "_view_module_version": "1.2.0",
            "_view_name": "LayoutView",
            "align_content": null,
            "align_items": null,
            "align_self": null,
            "border": null,
            "bottom": null,
            "display": null,
            "flex": null,
            "flex_flow": null,
            "grid_area": null,
            "grid_auto_columns": null,
            "grid_auto_flow": null,
            "grid_auto_rows": null,
            "grid_column": null,
            "grid_gap": null,
            "grid_row": null,
            "grid_template_areas": null,
            "grid_template_columns": null,
            "grid_template_rows": null,
            "height": null,
            "justify_content": null,
            "justify_items": null,
            "left": null,
            "margin": null,
            "max_height": null,
            "max_width": null,
            "min_height": null,
            "min_width": null,
            "object_fit": null,
            "object_position": null,
            "order": null,
            "overflow": null,
            "overflow_x": null,
            "overflow_y": null,
            "padding": null,
            "right": null,
            "top": null,
            "visibility": null,
            "width": null
          }
        },
        "f0708e41cda24d96be9a53f039ac2541": {
          "model_module": "@jupyter-widgets/base",
          "model_name": "LayoutModel",
          "model_module_version": "1.2.0",
          "state": {
            "_model_module": "@jupyter-widgets/base",
            "_model_module_version": "1.2.0",
            "_model_name": "LayoutModel",
            "_view_count": null,
            "_view_module": "@jupyter-widgets/base",
            "_view_module_version": "1.2.0",
            "_view_name": "LayoutView",
            "align_content": null,
            "align_items": null,
            "align_self": null,
            "border": null,
            "bottom": null,
            "display": null,
            "flex": null,
            "flex_flow": null,
            "grid_area": null,
            "grid_auto_columns": null,
            "grid_auto_flow": null,
            "grid_auto_rows": null,
            "grid_column": null,
            "grid_gap": null,
            "grid_row": null,
            "grid_template_areas": null,
            "grid_template_columns": null,
            "grid_template_rows": null,
            "height": null,
            "justify_content": null,
            "justify_items": null,
            "left": null,
            "margin": null,
            "max_height": null,
            "max_width": null,
            "min_height": null,
            "min_width": null,
            "object_fit": null,
            "object_position": null,
            "order": null,
            "overflow": null,
            "overflow_x": null,
            "overflow_y": null,
            "padding": null,
            "right": null,
            "top": null,
            "visibility": null,
            "width": null
          }
        },
        "2baa00d33f864b20984b1a06b92f1f5c": {
          "model_module": "@jupyter-widgets/controls",
          "model_name": "DescriptionStyleModel",
          "model_module_version": "1.5.0",
          "state": {
            "_model_module": "@jupyter-widgets/controls",
            "_model_module_version": "1.5.0",
            "_model_name": "DescriptionStyleModel",
            "_view_count": null,
            "_view_module": "@jupyter-widgets/base",
            "_view_module_version": "1.2.0",
            "_view_name": "StyleView",
            "description_width": ""
          }
        },
        "51a397ae56474cfdaddf9f990b884120": {
          "model_module": "@jupyter-widgets/base",
          "model_name": "LayoutModel",
          "model_module_version": "1.2.0",
          "state": {
            "_model_module": "@jupyter-widgets/base",
            "_model_module_version": "1.2.0",
            "_model_name": "LayoutModel",
            "_view_count": null,
            "_view_module": "@jupyter-widgets/base",
            "_view_module_version": "1.2.0",
            "_view_name": "LayoutView",
            "align_content": null,
            "align_items": null,
            "align_self": null,
            "border": null,
            "bottom": null,
            "display": null,
            "flex": null,
            "flex_flow": null,
            "grid_area": null,
            "grid_auto_columns": null,
            "grid_auto_flow": null,
            "grid_auto_rows": null,
            "grid_column": null,
            "grid_gap": null,
            "grid_row": null,
            "grid_template_areas": null,
            "grid_template_columns": null,
            "grid_template_rows": null,
            "height": null,
            "justify_content": null,
            "justify_items": null,
            "left": null,
            "margin": null,
            "max_height": null,
            "max_width": null,
            "min_height": null,
            "min_width": null,
            "object_fit": null,
            "object_position": null,
            "order": null,
            "overflow": null,
            "overflow_x": null,
            "overflow_y": null,
            "padding": null,
            "right": null,
            "top": null,
            "visibility": null,
            "width": null
          }
        },
        "645dbdf81eae4e98bcbca4339e4ed10d": {
          "model_module": "@jupyter-widgets/controls",
          "model_name": "ProgressStyleModel",
          "model_module_version": "1.5.0",
          "state": {
            "_model_module": "@jupyter-widgets/controls",
            "_model_module_version": "1.5.0",
            "_model_name": "ProgressStyleModel",
            "_view_count": null,
            "_view_module": "@jupyter-widgets/base",
            "_view_module_version": "1.2.0",
            "_view_name": "StyleView",
            "bar_color": null,
            "description_width": ""
          }
        },
        "ba11574d44b5482fbc7606638ae1a8b7": {
          "model_module": "@jupyter-widgets/base",
          "model_name": "LayoutModel",
          "model_module_version": "1.2.0",
          "state": {
            "_model_module": "@jupyter-widgets/base",
            "_model_module_version": "1.2.0",
            "_model_name": "LayoutModel",
            "_view_count": null,
            "_view_module": "@jupyter-widgets/base",
            "_view_module_version": "1.2.0",
            "_view_name": "LayoutView",
            "align_content": null,
            "align_items": null,
            "align_self": null,
            "border": null,
            "bottom": null,
            "display": null,
            "flex": null,
            "flex_flow": null,
            "grid_area": null,
            "grid_auto_columns": null,
            "grid_auto_flow": null,
            "grid_auto_rows": null,
            "grid_column": null,
            "grid_gap": null,
            "grid_row": null,
            "grid_template_areas": null,
            "grid_template_columns": null,
            "grid_template_rows": null,
            "height": null,
            "justify_content": null,
            "justify_items": null,
            "left": null,
            "margin": null,
            "max_height": null,
            "max_width": null,
            "min_height": null,
            "min_width": null,
            "object_fit": null,
            "object_position": null,
            "order": null,
            "overflow": null,
            "overflow_x": null,
            "overflow_y": null,
            "padding": null,
            "right": null,
            "top": null,
            "visibility": null,
            "width": null
          }
        },
        "86a14596fc8044dda0cf4b5e2418955e": {
          "model_module": "@jupyter-widgets/controls",
          "model_name": "DescriptionStyleModel",
          "model_module_version": "1.5.0",
          "state": {
            "_model_module": "@jupyter-widgets/controls",
            "_model_module_version": "1.5.0",
            "_model_name": "DescriptionStyleModel",
            "_view_count": null,
            "_view_module": "@jupyter-widgets/base",
            "_view_module_version": "1.2.0",
            "_view_name": "StyleView",
            "description_width": ""
          }
        },
        "818cc9b5a2fa46648aaac6292c753b78": {
          "model_module": "@jupyter-widgets/controls",
          "model_name": "HBoxModel",
          "model_module_version": "1.5.0",
          "state": {
            "_dom_classes": [],
            "_model_module": "@jupyter-widgets/controls",
            "_model_module_version": "1.5.0",
            "_model_name": "HBoxModel",
            "_view_count": null,
            "_view_module": "@jupyter-widgets/controls",
            "_view_module_version": "1.5.0",
            "_view_name": "HBoxView",
            "box_style": "",
            "children": [
              "IPY_MODEL_c758a1a1cf214a0bab7c831f26b30487",
              "IPY_MODEL_0051a1e61fa5417ab1f4687ec8a8bb82",
              "IPY_MODEL_727533f1f3fc4b06a08317a652f36182"
            ],
            "layout": "IPY_MODEL_a56589da3f7849728a77af654d7cecae"
          }
        },
        "c758a1a1cf214a0bab7c831f26b30487": {
          "model_module": "@jupyter-widgets/controls",
          "model_name": "HTMLModel",
          "model_module_version": "1.5.0",
          "state": {
            "_dom_classes": [],
            "_model_module": "@jupyter-widgets/controls",
            "_model_module_version": "1.5.0",
            "_model_name": "HTMLModel",
            "_view_count": null,
            "_view_module": "@jupyter-widgets/controls",
            "_view_module_version": "1.5.0",
            "_view_name": "HTMLView",
            "description": "",
            "description_tooltip": null,
            "layout": "IPY_MODEL_c36a4ee42a8748c897b138a9e07019ce",
            "placeholder": "​",
            "style": "IPY_MODEL_225629e977324b43a7ab57d2d0ad172c",
            "value": "Training Batches: 100%"
          }
        },
        "0051a1e61fa5417ab1f4687ec8a8bb82": {
          "model_module": "@jupyter-widgets/controls",
          "model_name": "FloatProgressModel",
          "model_module_version": "1.5.0",
          "state": {
            "_dom_classes": [],
            "_model_module": "@jupyter-widgets/controls",
            "_model_module_version": "1.5.0",
            "_model_name": "FloatProgressModel",
            "_view_count": null,
            "_view_module": "@jupyter-widgets/controls",
            "_view_module_version": "1.5.0",
            "_view_name": "ProgressView",
            "bar_style": "success",
            "description": "",
            "description_tooltip": null,
            "layout": "IPY_MODEL_870f0200665447609ba45663b5f68e7c",
            "max": 844,
            "min": 0,
            "orientation": "horizontal",
            "style": "IPY_MODEL_f588be35050d41a8af4346859a5895da",
            "value": 844
          }
        },
        "727533f1f3fc4b06a08317a652f36182": {
          "model_module": "@jupyter-widgets/controls",
          "model_name": "HTMLModel",
          "model_module_version": "1.5.0",
          "state": {
            "_dom_classes": [],
            "_model_module": "@jupyter-widgets/controls",
            "_model_module_version": "1.5.0",
            "_model_name": "HTMLModel",
            "_view_count": null,
            "_view_module": "@jupyter-widgets/controls",
            "_view_module_version": "1.5.0",
            "_view_name": "HTMLView",
            "description": "",
            "description_tooltip": null,
            "layout": "IPY_MODEL_c7a3ba2ad07e423b90fdff584adb27de",
            "placeholder": "​",
            "style": "IPY_MODEL_7f6c82b288db44e88c80d9612eea0f9f",
            "value": " 844/844 [00:09&lt;00:00, 95.37it/s]"
          }
        },
        "a56589da3f7849728a77af654d7cecae": {
          "model_module": "@jupyter-widgets/base",
          "model_name": "LayoutModel",
          "model_module_version": "1.2.0",
          "state": {
            "_model_module": "@jupyter-widgets/base",
            "_model_module_version": "1.2.0",
            "_model_name": "LayoutModel",
            "_view_count": null,
            "_view_module": "@jupyter-widgets/base",
            "_view_module_version": "1.2.0",
            "_view_name": "LayoutView",
            "align_content": null,
            "align_items": null,
            "align_self": null,
            "border": null,
            "bottom": null,
            "display": null,
            "flex": null,
            "flex_flow": null,
            "grid_area": null,
            "grid_auto_columns": null,
            "grid_auto_flow": null,
            "grid_auto_rows": null,
            "grid_column": null,
            "grid_gap": null,
            "grid_row": null,
            "grid_template_areas": null,
            "grid_template_columns": null,
            "grid_template_rows": null,
            "height": null,
            "justify_content": null,
            "justify_items": null,
            "left": null,
            "margin": null,
            "max_height": null,
            "max_width": null,
            "min_height": null,
            "min_width": null,
            "object_fit": null,
            "object_position": null,
            "order": null,
            "overflow": null,
            "overflow_x": null,
            "overflow_y": null,
            "padding": null,
            "right": null,
            "top": null,
            "visibility": null,
            "width": null
          }
        },
        "c36a4ee42a8748c897b138a9e07019ce": {
          "model_module": "@jupyter-widgets/base",
          "model_name": "LayoutModel",
          "model_module_version": "1.2.0",
          "state": {
            "_model_module": "@jupyter-widgets/base",
            "_model_module_version": "1.2.0",
            "_model_name": "LayoutModel",
            "_view_count": null,
            "_view_module": "@jupyter-widgets/base",
            "_view_module_version": "1.2.0",
            "_view_name": "LayoutView",
            "align_content": null,
            "align_items": null,
            "align_self": null,
            "border": null,
            "bottom": null,
            "display": null,
            "flex": null,
            "flex_flow": null,
            "grid_area": null,
            "grid_auto_columns": null,
            "grid_auto_flow": null,
            "grid_auto_rows": null,
            "grid_column": null,
            "grid_gap": null,
            "grid_row": null,
            "grid_template_areas": null,
            "grid_template_columns": null,
            "grid_template_rows": null,
            "height": null,
            "justify_content": null,
            "justify_items": null,
            "left": null,
            "margin": null,
            "max_height": null,
            "max_width": null,
            "min_height": null,
            "min_width": null,
            "object_fit": null,
            "object_position": null,
            "order": null,
            "overflow": null,
            "overflow_x": null,
            "overflow_y": null,
            "padding": null,
            "right": null,
            "top": null,
            "visibility": null,
            "width": null
          }
        },
        "225629e977324b43a7ab57d2d0ad172c": {
          "model_module": "@jupyter-widgets/controls",
          "model_name": "DescriptionStyleModel",
          "model_module_version": "1.5.0",
          "state": {
            "_model_module": "@jupyter-widgets/controls",
            "_model_module_version": "1.5.0",
            "_model_name": "DescriptionStyleModel",
            "_view_count": null,
            "_view_module": "@jupyter-widgets/base",
            "_view_module_version": "1.2.0",
            "_view_name": "StyleView",
            "description_width": ""
          }
        },
        "870f0200665447609ba45663b5f68e7c": {
          "model_module": "@jupyter-widgets/base",
          "model_name": "LayoutModel",
          "model_module_version": "1.2.0",
          "state": {
            "_model_module": "@jupyter-widgets/base",
            "_model_module_version": "1.2.0",
            "_model_name": "LayoutModel",
            "_view_count": null,
            "_view_module": "@jupyter-widgets/base",
            "_view_module_version": "1.2.0",
            "_view_name": "LayoutView",
            "align_content": null,
            "align_items": null,
            "align_self": null,
            "border": null,
            "bottom": null,
            "display": null,
            "flex": null,
            "flex_flow": null,
            "grid_area": null,
            "grid_auto_columns": null,
            "grid_auto_flow": null,
            "grid_auto_rows": null,
            "grid_column": null,
            "grid_gap": null,
            "grid_row": null,
            "grid_template_areas": null,
            "grid_template_columns": null,
            "grid_template_rows": null,
            "height": null,
            "justify_content": null,
            "justify_items": null,
            "left": null,
            "margin": null,
            "max_height": null,
            "max_width": null,
            "min_height": null,
            "min_width": null,
            "object_fit": null,
            "object_position": null,
            "order": null,
            "overflow": null,
            "overflow_x": null,
            "overflow_y": null,
            "padding": null,
            "right": null,
            "top": null,
            "visibility": null,
            "width": null
          }
        },
        "f588be35050d41a8af4346859a5895da": {
          "model_module": "@jupyter-widgets/controls",
          "model_name": "ProgressStyleModel",
          "model_module_version": "1.5.0",
          "state": {
            "_model_module": "@jupyter-widgets/controls",
            "_model_module_version": "1.5.0",
            "_model_name": "ProgressStyleModel",
            "_view_count": null,
            "_view_module": "@jupyter-widgets/base",
            "_view_module_version": "1.2.0",
            "_view_name": "StyleView",
            "bar_color": null,
            "description_width": ""
          }
        },
        "c7a3ba2ad07e423b90fdff584adb27de": {
          "model_module": "@jupyter-widgets/base",
          "model_name": "LayoutModel",
          "model_module_version": "1.2.0",
          "state": {
            "_model_module": "@jupyter-widgets/base",
            "_model_module_version": "1.2.0",
            "_model_name": "LayoutModel",
            "_view_count": null,
            "_view_module": "@jupyter-widgets/base",
            "_view_module_version": "1.2.0",
            "_view_name": "LayoutView",
            "align_content": null,
            "align_items": null,
            "align_self": null,
            "border": null,
            "bottom": null,
            "display": null,
            "flex": null,
            "flex_flow": null,
            "grid_area": null,
            "grid_auto_columns": null,
            "grid_auto_flow": null,
            "grid_auto_rows": null,
            "grid_column": null,
            "grid_gap": null,
            "grid_row": null,
            "grid_template_areas": null,
            "grid_template_columns": null,
            "grid_template_rows": null,
            "height": null,
            "justify_content": null,
            "justify_items": null,
            "left": null,
            "margin": null,
            "max_height": null,
            "max_width": null,
            "min_height": null,
            "min_width": null,
            "object_fit": null,
            "object_position": null,
            "order": null,
            "overflow": null,
            "overflow_x": null,
            "overflow_y": null,
            "padding": null,
            "right": null,
            "top": null,
            "visibility": null,
            "width": null
          }
        },
        "7f6c82b288db44e88c80d9612eea0f9f": {
          "model_module": "@jupyter-widgets/controls",
          "model_name": "DescriptionStyleModel",
          "model_module_version": "1.5.0",
          "state": {
            "_model_module": "@jupyter-widgets/controls",
            "_model_module_version": "1.5.0",
            "_model_name": "DescriptionStyleModel",
            "_view_count": null,
            "_view_module": "@jupyter-widgets/base",
            "_view_module_version": "1.2.0",
            "_view_name": "StyleView",
            "description_width": ""
          }
        },
        "a9c5a968b09149de9895186116d11634": {
          "model_module": "@jupyter-widgets/controls",
          "model_name": "HBoxModel",
          "model_module_version": "1.5.0",
          "state": {
            "_dom_classes": [],
            "_model_module": "@jupyter-widgets/controls",
            "_model_module_version": "1.5.0",
            "_model_name": "HBoxModel",
            "_view_count": null,
            "_view_module": "@jupyter-widgets/controls",
            "_view_module_version": "1.5.0",
            "_view_name": "HBoxView",
            "box_style": "",
            "children": [
              "IPY_MODEL_939c91525c214e2eaa86933e76972133",
              "IPY_MODEL_29b7258e0ed844ce9441f90eb550fa6b",
              "IPY_MODEL_e5495b26ecb14babb40ac0ef8dff81d7"
            ],
            "layout": "IPY_MODEL_0beaf51b7e314883851cf2bf8f49afb5"
          }
        },
        "939c91525c214e2eaa86933e76972133": {
          "model_module": "@jupyter-widgets/controls",
          "model_name": "HTMLModel",
          "model_module_version": "1.5.0",
          "state": {
            "_dom_classes": [],
            "_model_module": "@jupyter-widgets/controls",
            "_model_module_version": "1.5.0",
            "_model_name": "HTMLModel",
            "_view_count": null,
            "_view_module": "@jupyter-widgets/controls",
            "_view_module_version": "1.5.0",
            "_view_name": "HTMLView",
            "description": "",
            "description_tooltip": null,
            "layout": "IPY_MODEL_c3812877fbd44d379aba1d9c46430d2d",
            "placeholder": "​",
            "style": "IPY_MODEL_c40e2dad647a4ce4b2af1d93724651a8",
            "value": "Validation Batches: 100%"
          }
        },
        "29b7258e0ed844ce9441f90eb550fa6b": {
          "model_module": "@jupyter-widgets/controls",
          "model_name": "FloatProgressModel",
          "model_module_version": "1.5.0",
          "state": {
            "_dom_classes": [],
            "_model_module": "@jupyter-widgets/controls",
            "_model_module_version": "1.5.0",
            "_model_name": "FloatProgressModel",
            "_view_count": null,
            "_view_module": "@jupyter-widgets/controls",
            "_view_module_version": "1.5.0",
            "_view_name": "ProgressView",
            "bar_style": "success",
            "description": "",
            "description_tooltip": null,
            "layout": "IPY_MODEL_f1eb65c60dea4e3ea80a770a42baef5d",
            "max": 94,
            "min": 0,
            "orientation": "horizontal",
            "style": "IPY_MODEL_73745150474d4511836214c59c40fc69",
            "value": 94
          }
        },
        "e5495b26ecb14babb40ac0ef8dff81d7": {
          "model_module": "@jupyter-widgets/controls",
          "model_name": "HTMLModel",
          "model_module_version": "1.5.0",
          "state": {
            "_dom_classes": [],
            "_model_module": "@jupyter-widgets/controls",
            "_model_module_version": "1.5.0",
            "_model_name": "HTMLModel",
            "_view_count": null,
            "_view_module": "@jupyter-widgets/controls",
            "_view_module_version": "1.5.0",
            "_view_name": "HTMLView",
            "description": "",
            "description_tooltip": null,
            "layout": "IPY_MODEL_d3c635d4bfcf40049da21f5401764599",
            "placeholder": "​",
            "style": "IPY_MODEL_c914a4ea2813405293054a286c2372cd",
            "value": " 94/94 [00:01&lt;00:00, 75.44it/s]"
          }
        },
        "0beaf51b7e314883851cf2bf8f49afb5": {
          "model_module": "@jupyter-widgets/base",
          "model_name": "LayoutModel",
          "model_module_version": "1.2.0",
          "state": {
            "_model_module": "@jupyter-widgets/base",
            "_model_module_version": "1.2.0",
            "_model_name": "LayoutModel",
            "_view_count": null,
            "_view_module": "@jupyter-widgets/base",
            "_view_module_version": "1.2.0",
            "_view_name": "LayoutView",
            "align_content": null,
            "align_items": null,
            "align_self": null,
            "border": null,
            "bottom": null,
            "display": null,
            "flex": null,
            "flex_flow": null,
            "grid_area": null,
            "grid_auto_columns": null,
            "grid_auto_flow": null,
            "grid_auto_rows": null,
            "grid_column": null,
            "grid_gap": null,
            "grid_row": null,
            "grid_template_areas": null,
            "grid_template_columns": null,
            "grid_template_rows": null,
            "height": null,
            "justify_content": null,
            "justify_items": null,
            "left": null,
            "margin": null,
            "max_height": null,
            "max_width": null,
            "min_height": null,
            "min_width": null,
            "object_fit": null,
            "object_position": null,
            "order": null,
            "overflow": null,
            "overflow_x": null,
            "overflow_y": null,
            "padding": null,
            "right": null,
            "top": null,
            "visibility": null,
            "width": null
          }
        },
        "c3812877fbd44d379aba1d9c46430d2d": {
          "model_module": "@jupyter-widgets/base",
          "model_name": "LayoutModel",
          "model_module_version": "1.2.0",
          "state": {
            "_model_module": "@jupyter-widgets/base",
            "_model_module_version": "1.2.0",
            "_model_name": "LayoutModel",
            "_view_count": null,
            "_view_module": "@jupyter-widgets/base",
            "_view_module_version": "1.2.0",
            "_view_name": "LayoutView",
            "align_content": null,
            "align_items": null,
            "align_self": null,
            "border": null,
            "bottom": null,
            "display": null,
            "flex": null,
            "flex_flow": null,
            "grid_area": null,
            "grid_auto_columns": null,
            "grid_auto_flow": null,
            "grid_auto_rows": null,
            "grid_column": null,
            "grid_gap": null,
            "grid_row": null,
            "grid_template_areas": null,
            "grid_template_columns": null,
            "grid_template_rows": null,
            "height": null,
            "justify_content": null,
            "justify_items": null,
            "left": null,
            "margin": null,
            "max_height": null,
            "max_width": null,
            "min_height": null,
            "min_width": null,
            "object_fit": null,
            "object_position": null,
            "order": null,
            "overflow": null,
            "overflow_x": null,
            "overflow_y": null,
            "padding": null,
            "right": null,
            "top": null,
            "visibility": null,
            "width": null
          }
        },
        "c40e2dad647a4ce4b2af1d93724651a8": {
          "model_module": "@jupyter-widgets/controls",
          "model_name": "DescriptionStyleModel",
          "model_module_version": "1.5.0",
          "state": {
            "_model_module": "@jupyter-widgets/controls",
            "_model_module_version": "1.5.0",
            "_model_name": "DescriptionStyleModel",
            "_view_count": null,
            "_view_module": "@jupyter-widgets/base",
            "_view_module_version": "1.2.0",
            "_view_name": "StyleView",
            "description_width": ""
          }
        },
        "f1eb65c60dea4e3ea80a770a42baef5d": {
          "model_module": "@jupyter-widgets/base",
          "model_name": "LayoutModel",
          "model_module_version": "1.2.0",
          "state": {
            "_model_module": "@jupyter-widgets/base",
            "_model_module_version": "1.2.0",
            "_model_name": "LayoutModel",
            "_view_count": null,
            "_view_module": "@jupyter-widgets/base",
            "_view_module_version": "1.2.0",
            "_view_name": "LayoutView",
            "align_content": null,
            "align_items": null,
            "align_self": null,
            "border": null,
            "bottom": null,
            "display": null,
            "flex": null,
            "flex_flow": null,
            "grid_area": null,
            "grid_auto_columns": null,
            "grid_auto_flow": null,
            "grid_auto_rows": null,
            "grid_column": null,
            "grid_gap": null,
            "grid_row": null,
            "grid_template_areas": null,
            "grid_template_columns": null,
            "grid_template_rows": null,
            "height": null,
            "justify_content": null,
            "justify_items": null,
            "left": null,
            "margin": null,
            "max_height": null,
            "max_width": null,
            "min_height": null,
            "min_width": null,
            "object_fit": null,
            "object_position": null,
            "order": null,
            "overflow": null,
            "overflow_x": null,
            "overflow_y": null,
            "padding": null,
            "right": null,
            "top": null,
            "visibility": null,
            "width": null
          }
        },
        "73745150474d4511836214c59c40fc69": {
          "model_module": "@jupyter-widgets/controls",
          "model_name": "ProgressStyleModel",
          "model_module_version": "1.5.0",
          "state": {
            "_model_module": "@jupyter-widgets/controls",
            "_model_module_version": "1.5.0",
            "_model_name": "ProgressStyleModel",
            "_view_count": null,
            "_view_module": "@jupyter-widgets/base",
            "_view_module_version": "1.2.0",
            "_view_name": "StyleView",
            "bar_color": null,
            "description_width": ""
          }
        },
        "d3c635d4bfcf40049da21f5401764599": {
          "model_module": "@jupyter-widgets/base",
          "model_name": "LayoutModel",
          "model_module_version": "1.2.0",
          "state": {
            "_model_module": "@jupyter-widgets/base",
            "_model_module_version": "1.2.0",
            "_model_name": "LayoutModel",
            "_view_count": null,
            "_view_module": "@jupyter-widgets/base",
            "_view_module_version": "1.2.0",
            "_view_name": "LayoutView",
            "align_content": null,
            "align_items": null,
            "align_self": null,
            "border": null,
            "bottom": null,
            "display": null,
            "flex": null,
            "flex_flow": null,
            "grid_area": null,
            "grid_auto_columns": null,
            "grid_auto_flow": null,
            "grid_auto_rows": null,
            "grid_column": null,
            "grid_gap": null,
            "grid_row": null,
            "grid_template_areas": null,
            "grid_template_columns": null,
            "grid_template_rows": null,
            "height": null,
            "justify_content": null,
            "justify_items": null,
            "left": null,
            "margin": null,
            "max_height": null,
            "max_width": null,
            "min_height": null,
            "min_width": null,
            "object_fit": null,
            "object_position": null,
            "order": null,
            "overflow": null,
            "overflow_x": null,
            "overflow_y": null,
            "padding": null,
            "right": null,
            "top": null,
            "visibility": null,
            "width": null
          }
        },
        "c914a4ea2813405293054a286c2372cd": {
          "model_module": "@jupyter-widgets/controls",
          "model_name": "DescriptionStyleModel",
          "model_module_version": "1.5.0",
          "state": {
            "_model_module": "@jupyter-widgets/controls",
            "_model_module_version": "1.5.0",
            "_model_name": "DescriptionStyleModel",
            "_view_count": null,
            "_view_module": "@jupyter-widgets/base",
            "_view_module_version": "1.2.0",
            "_view_name": "StyleView",
            "description_width": ""
          }
        },
        "50370992f4394748a2ec77203c97e5c5": {
          "model_module": "@jupyter-widgets/controls",
          "model_name": "HBoxModel",
          "model_module_version": "1.5.0",
          "state": {
            "_dom_classes": [],
            "_model_module": "@jupyter-widgets/controls",
            "_model_module_version": "1.5.0",
            "_model_name": "HBoxModel",
            "_view_count": null,
            "_view_module": "@jupyter-widgets/controls",
            "_view_module_version": "1.5.0",
            "_view_name": "HBoxView",
            "box_style": "",
            "children": [
              "IPY_MODEL_a452af25b12a42828f0783f94871735a",
              "IPY_MODEL_fb674fea2b6f460e8354f88adc25a619",
              "IPY_MODEL_05df9168ff7e422d864a04e365ed8356"
            ],
            "layout": "IPY_MODEL_31624d52b2f0459184eeb80e760a94dd"
          }
        },
        "a452af25b12a42828f0783f94871735a": {
          "model_module": "@jupyter-widgets/controls",
          "model_name": "HTMLModel",
          "model_module_version": "1.5.0",
          "state": {
            "_dom_classes": [],
            "_model_module": "@jupyter-widgets/controls",
            "_model_module_version": "1.5.0",
            "_model_name": "HTMLModel",
            "_view_count": null,
            "_view_module": "@jupyter-widgets/controls",
            "_view_module_version": "1.5.0",
            "_view_name": "HTMLView",
            "description": "",
            "description_tooltip": null,
            "layout": "IPY_MODEL_3bacc57f18bb4f16b90be2c701c164a4",
            "placeholder": "​",
            "style": "IPY_MODEL_c4d7c9a0b143453c8d078c97c1614800",
            "value": "Training Batches:  57%"
          }
        },
        "fb674fea2b6f460e8354f88adc25a619": {
          "model_module": "@jupyter-widgets/controls",
          "model_name": "FloatProgressModel",
          "model_module_version": "1.5.0",
          "state": {
            "_dom_classes": [],
            "_model_module": "@jupyter-widgets/controls",
            "_model_module_version": "1.5.0",
            "_model_name": "FloatProgressModel",
            "_view_count": null,
            "_view_module": "@jupyter-widgets/controls",
            "_view_module_version": "1.5.0",
            "_view_name": "ProgressView",
            "bar_style": "danger",
            "description": "",
            "description_tooltip": null,
            "layout": "IPY_MODEL_5e2fc408f9664f2fad4647ee9dc56acf",
            "max": 844,
            "min": 0,
            "orientation": "horizontal",
            "style": "IPY_MODEL_a5c69fe420934811975cf3b9f4728ace",
            "value": 477
          }
        },
        "05df9168ff7e422d864a04e365ed8356": {
          "model_module": "@jupyter-widgets/controls",
          "model_name": "HTMLModel",
          "model_module_version": "1.5.0",
          "state": {
            "_dom_classes": [],
            "_model_module": "@jupyter-widgets/controls",
            "_model_module_version": "1.5.0",
            "_model_name": "HTMLModel",
            "_view_count": null,
            "_view_module": "@jupyter-widgets/controls",
            "_view_module_version": "1.5.0",
            "_view_name": "HTMLView",
            "description": "",
            "description_tooltip": null,
            "layout": "IPY_MODEL_fa9f3ef7fb204bf8a3a36f8077f6745d",
            "placeholder": "​",
            "style": "IPY_MODEL_86d05edcd844443e864e9f64cd4347f4",
            "value": " 477/844 [00:06&lt;00:03, 98.43it/s]"
          }
        },
        "31624d52b2f0459184eeb80e760a94dd": {
          "model_module": "@jupyter-widgets/base",
          "model_name": "LayoutModel",
          "model_module_version": "1.2.0",
          "state": {
            "_model_module": "@jupyter-widgets/base",
            "_model_module_version": "1.2.0",
            "_model_name": "LayoutModel",
            "_view_count": null,
            "_view_module": "@jupyter-widgets/base",
            "_view_module_version": "1.2.0",
            "_view_name": "LayoutView",
            "align_content": null,
            "align_items": null,
            "align_self": null,
            "border": null,
            "bottom": null,
            "display": null,
            "flex": null,
            "flex_flow": null,
            "grid_area": null,
            "grid_auto_columns": null,
            "grid_auto_flow": null,
            "grid_auto_rows": null,
            "grid_column": null,
            "grid_gap": null,
            "grid_row": null,
            "grid_template_areas": null,
            "grid_template_columns": null,
            "grid_template_rows": null,
            "height": null,
            "justify_content": null,
            "justify_items": null,
            "left": null,
            "margin": null,
            "max_height": null,
            "max_width": null,
            "min_height": null,
            "min_width": null,
            "object_fit": null,
            "object_position": null,
            "order": null,
            "overflow": null,
            "overflow_x": null,
            "overflow_y": null,
            "padding": null,
            "right": null,
            "top": null,
            "visibility": null,
            "width": null
          }
        },
        "3bacc57f18bb4f16b90be2c701c164a4": {
          "model_module": "@jupyter-widgets/base",
          "model_name": "LayoutModel",
          "model_module_version": "1.2.0",
          "state": {
            "_model_module": "@jupyter-widgets/base",
            "_model_module_version": "1.2.0",
            "_model_name": "LayoutModel",
            "_view_count": null,
            "_view_module": "@jupyter-widgets/base",
            "_view_module_version": "1.2.0",
            "_view_name": "LayoutView",
            "align_content": null,
            "align_items": null,
            "align_self": null,
            "border": null,
            "bottom": null,
            "display": null,
            "flex": null,
            "flex_flow": null,
            "grid_area": null,
            "grid_auto_columns": null,
            "grid_auto_flow": null,
            "grid_auto_rows": null,
            "grid_column": null,
            "grid_gap": null,
            "grid_row": null,
            "grid_template_areas": null,
            "grid_template_columns": null,
            "grid_template_rows": null,
            "height": null,
            "justify_content": null,
            "justify_items": null,
            "left": null,
            "margin": null,
            "max_height": null,
            "max_width": null,
            "min_height": null,
            "min_width": null,
            "object_fit": null,
            "object_position": null,
            "order": null,
            "overflow": null,
            "overflow_x": null,
            "overflow_y": null,
            "padding": null,
            "right": null,
            "top": null,
            "visibility": null,
            "width": null
          }
        },
        "c4d7c9a0b143453c8d078c97c1614800": {
          "model_module": "@jupyter-widgets/controls",
          "model_name": "DescriptionStyleModel",
          "model_module_version": "1.5.0",
          "state": {
            "_model_module": "@jupyter-widgets/controls",
            "_model_module_version": "1.5.0",
            "_model_name": "DescriptionStyleModel",
            "_view_count": null,
            "_view_module": "@jupyter-widgets/base",
            "_view_module_version": "1.2.0",
            "_view_name": "StyleView",
            "description_width": ""
          }
        },
        "5e2fc408f9664f2fad4647ee9dc56acf": {
          "model_module": "@jupyter-widgets/base",
          "model_name": "LayoutModel",
          "model_module_version": "1.2.0",
          "state": {
            "_model_module": "@jupyter-widgets/base",
            "_model_module_version": "1.2.0",
            "_model_name": "LayoutModel",
            "_view_count": null,
            "_view_module": "@jupyter-widgets/base",
            "_view_module_version": "1.2.0",
            "_view_name": "LayoutView",
            "align_content": null,
            "align_items": null,
            "align_self": null,
            "border": null,
            "bottom": null,
            "display": null,
            "flex": null,
            "flex_flow": null,
            "grid_area": null,
            "grid_auto_columns": null,
            "grid_auto_flow": null,
            "grid_auto_rows": null,
            "grid_column": null,
            "grid_gap": null,
            "grid_row": null,
            "grid_template_areas": null,
            "grid_template_columns": null,
            "grid_template_rows": null,
            "height": null,
            "justify_content": null,
            "justify_items": null,
            "left": null,
            "margin": null,
            "max_height": null,
            "max_width": null,
            "min_height": null,
            "min_width": null,
            "object_fit": null,
            "object_position": null,
            "order": null,
            "overflow": null,
            "overflow_x": null,
            "overflow_y": null,
            "padding": null,
            "right": null,
            "top": null,
            "visibility": null,
            "width": null
          }
        },
        "a5c69fe420934811975cf3b9f4728ace": {
          "model_module": "@jupyter-widgets/controls",
          "model_name": "ProgressStyleModel",
          "model_module_version": "1.5.0",
          "state": {
            "_model_module": "@jupyter-widgets/controls",
            "_model_module_version": "1.5.0",
            "_model_name": "ProgressStyleModel",
            "_view_count": null,
            "_view_module": "@jupyter-widgets/base",
            "_view_module_version": "1.2.0",
            "_view_name": "StyleView",
            "bar_color": null,
            "description_width": ""
          }
        },
        "fa9f3ef7fb204bf8a3a36f8077f6745d": {
          "model_module": "@jupyter-widgets/base",
          "model_name": "LayoutModel",
          "model_module_version": "1.2.0",
          "state": {
            "_model_module": "@jupyter-widgets/base",
            "_model_module_version": "1.2.0",
            "_model_name": "LayoutModel",
            "_view_count": null,
            "_view_module": "@jupyter-widgets/base",
            "_view_module_version": "1.2.0",
            "_view_name": "LayoutView",
            "align_content": null,
            "align_items": null,
            "align_self": null,
            "border": null,
            "bottom": null,
            "display": null,
            "flex": null,
            "flex_flow": null,
            "grid_area": null,
            "grid_auto_columns": null,
            "grid_auto_flow": null,
            "grid_auto_rows": null,
            "grid_column": null,
            "grid_gap": null,
            "grid_row": null,
            "grid_template_areas": null,
            "grid_template_columns": null,
            "grid_template_rows": null,
            "height": null,
            "justify_content": null,
            "justify_items": null,
            "left": null,
            "margin": null,
            "max_height": null,
            "max_width": null,
            "min_height": null,
            "min_width": null,
            "object_fit": null,
            "object_position": null,
            "order": null,
            "overflow": null,
            "overflow_x": null,
            "overflow_y": null,
            "padding": null,
            "right": null,
            "top": null,
            "visibility": null,
            "width": null
          }
        },
        "86d05edcd844443e864e9f64cd4347f4": {
          "model_module": "@jupyter-widgets/controls",
          "model_name": "DescriptionStyleModel",
          "model_module_version": "1.5.0",
          "state": {
            "_model_module": "@jupyter-widgets/controls",
            "_model_module_version": "1.5.0",
            "_model_name": "DescriptionStyleModel",
            "_view_count": null,
            "_view_module": "@jupyter-widgets/base",
            "_view_module_version": "1.2.0",
            "_view_name": "StyleView",
            "description_width": ""
          }
        }
      }
    }
  },
  "cells": [
    {
      "cell_type": "markdown",
      "metadata": {
        "id": "Pd322ew3iMg-"
      },
      "source": [
        "# Lab 2: Convolutional Neural Networks\n",
        "\n",
        "\n",
        "Created for EIENDE9 - ECUE (Polytech Deep Learning course) by:\n",
        "\n",
        "Gaetan Bahl - NXP Semiconductors - Vision TEC\n",
        "\n",
        "gaetan.bahl@nxp.com / [LinkedIn](https://www.linkedin.com/in/gaetanbahl/)\n",
        "\n",
        "\n",
        "---\n",
        "\n",
        "\n",
        "In this second Lab, we discover a Deep Learning framework (Pytorch), which we use to create our very first CNN (LeNet) and use it to perform handwritten character recognition.\n",
        "\n",
        "This Lab assumes that you are familiar with the Python language. If you're not, please do Lab 0 first: https://colab.research.google.com/drive/16XlCqmmUQvwBD3D5u0lOy1rUFfDDZdYi\n"
      ]
    },
    {
      "cell_type": "markdown",
      "metadata": {
        "id": "9TKgqYn_izjh"
      },
      "source": [
        "# Introduction\n",
        "\n",
        "## What's a CNN?\n",
        "\n",
        "Convolutional Neural Networks are a subclass of Neural Networks that use Convolutional layers. These layers are basically sliding filters and work quite well for vision tasks.\n",
        "\n",
        "![alt text](https://miro.medium.com/max/1838/1*p-_47puSuVNmRJnOXYPQCg.png)\n",
        "\n",
        "## What's a framework and why are we using one (PyTorch)?\n",
        "\n",
        "A programming framework is a collection of functions and utilities that is ready to use. Modern Deep Learning frameworks contain everything that is needed (layers, optimizers, losses, gradient computation...) to create and use neural networks, and make that really easy.\n",
        "\n",
        "PyTorch, originally created by Facebook, is one of the most used frameworks, especially among researchers. The other most used framework are Tensorflow (created by Google) and Keras (an abstraction layer for multiple frameworks, including Tensorflow). PyTorch has gained a lot of popularity since its 1.0 release in 2018 and now surpassed Tensorflow.\n",
        "\n",
        "## Why use Google Colab and GPUs?\n",
        "\n",
        "Google Colab is a collaborative workspace based on Jupyter Notebook, that lets you use a Python environment on Google Cloud with GPUs, for FREE!\n",
        "\n",
        "GPUs (Graphical Processing Units) are powerful chips that let you train and use neural networks much faster than CPUs. Having access to a GPU is very important for Deep Learning, as it can often make training more than 100x faster. It might not seem that huge at first, but state of the art neural nets can take days to train on common datasets, even with multiple powerful GPUs. On CPUs, it would take **years**.\n",
        "\n",
        "Colab gives you access to a free Nvidia Tesla K80, P4, T4 or P100 GPU, which cost from 1000€ to 6000€ with 24GB, 8GB, 16GB or 16GB of VRAM, respectively.\n",
        "\n",
        "![alt text](data:image/png;base64,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)\n",
        "\n",
        "## /!\\ IMPORTANT: Use a GPU Runtime\n",
        "\n",
        "To use a GPU in Colab, go to Runtime -> Change Runtime Type -> Hardware Accelerator -> GPU.\n",
        "\n",
        "**Do this step before running any of the code below, otherwise you will have to run it again.**"
      ]
    },
    {
      "cell_type": "markdown",
      "metadata": {
        "id": "3B--YtiHsY_6"
      },
      "source": [
        "# Checking that you have a GPU\n",
        "\n",
        "Before going any further, let's check that we do have a GPU and which model we actually got. For this, we will use the **nvidia-smi** tool, which let's you monitor GPU usage, VRAM usage, temperature and fan speed.\n",
        "\n",
        "Colab let's you run bash commands using a \"!\"."
      ]
    },
    {
      "cell_type": "code",
      "metadata": {
        "id": "ytv-I7N1s-mt",
        "colab": {
          "base_uri": "https://localhost:8080/"
        },
        "outputId": "482dc6bc-d0d0-405f-dad5-685a9ff291c0"
      },
      "source": [
        "!nvidia-smi"
      ],
      "execution_count": null,
      "outputs": [
        {
          "output_type": "stream",
          "name": "stdout",
          "text": [
            "Wed Sep 25 14:27:45 2024       \n",
            "+---------------------------------------------------------------------------------------+\n",
            "| NVIDIA-SMI 535.104.05             Driver Version: 535.104.05   CUDA Version: 12.2     |\n",
            "|-----------------------------------------+----------------------+----------------------+\n",
            "| GPU  Name                 Persistence-M | Bus-Id        Disp.A | Volatile Uncorr. ECC |\n",
            "| Fan  Temp   Perf          Pwr:Usage/Cap |         Memory-Usage | GPU-Util  Compute M. |\n",
            "|                                         |                      |               MIG M. |\n",
            "|=========================================+======================+======================|\n",
            "|   0  Tesla T4                       Off | 00000000:00:04.0 Off |                    0 |\n",
            "| N/A   33C    P0              26W /  70W |    153MiB / 15360MiB |      0%      Default |\n",
            "|                                         |                      |                  N/A |\n",
            "+-----------------------------------------+----------------------+----------------------+\n",
            "                                                                                         \n",
            "+---------------------------------------------------------------------------------------+\n",
            "| Processes:                                                                            |\n",
            "|  GPU   GI   CI        PID   Type   Process name                            GPU Memory |\n",
            "|        ID   ID                                                             Usage      |\n",
            "|=======================================================================================|\n",
            "+---------------------------------------------------------------------------------------+\n"
          ]
        }
      ]
    },
    {
      "cell_type": "markdown",
      "metadata": {
        "id": "d_bXnm48iqBk"
      },
      "source": [
        "## Importing libraries\n",
        "\n",
        "For this lab, we only need PyTorch packages: \"torch\" and \"torchvision\".\n",
        "\n",
        "\"**torch**\" contains the Deep Learning framework itself. \"**torchvision**\" contains datasets, pre-trained models, and image manipulation functions."
      ]
    },
    {
      "cell_type": "code",
      "metadata": {
        "id": "QSr0zNgaihYV"
      },
      "source": [
        "#Import Pytorch\n",
        "import torch\n",
        "import torchvision\n",
        "\n",
        "#Little commonly used shortcut\n",
        "import torch.nn as nn\n",
        "\n",
        "#We need the display function from IPython for Jupyter Notebook/Colab\n",
        "from IPython.display import display\n",
        "\n",
        "#A package to make beautiful progress bars :)\n",
        "from tqdm.notebook import tqdm"
      ],
      "execution_count": null,
      "outputs": []
    },
    {
      "cell_type": "markdown",
      "metadata": {
        "id": "L6tgbmM_jGWl"
      },
      "source": [
        "## Downloading the data\n",
        "\n",
        "We are working with the MNIST dataset, which containts handwritten digits.\n",
        "\n",
        "We download the data using torchvision. We get the data in the form of a PyTorch \"Dataset\" object, which is a class that abstracts data loading and that can be iterated like a list."
      ]
    },
    {
      "cell_type": "code",
      "metadata": {
        "id": "9l5Z_sjQjI2W",
        "colab": {
          "base_uri": "https://localhost:8080/"
        },
        "outputId": "0ff4fee8-f031-46dc-e2b9-ec7c6814e07d"
      },
      "source": [
        "mnist_dataset = torchvision.datasets.MNIST(\".\", train=True, download=True)\n",
        "\n",
        "print(mnist_dataset[1])"
      ],
      "execution_count": null,
      "outputs": [
        {
          "output_type": "stream",
          "name": "stdout",
          "text": [
            "(<PIL.Image.Image image mode=L size=28x28 at 0x7E85D1152A70>, 0)\n"
          ]
        }
      ]
    },
    {
      "cell_type": "markdown",
      "metadata": {
        "id": "mqmrwytQoPPr"
      },
      "source": [
        "We see that each element is a tuple containing a PIL Image (Python Imaging Library) and a label (0 here).\n",
        "We can visualize PIL images in Colab using the **display** function."
      ]
    },
    {
      "cell_type": "code",
      "metadata": {
        "id": "kdOLY9ehZj_N",
        "colab": {
          "base_uri": "https://localhost:8080/",
          "height": 45
        },
        "outputId": "6df88b6d-5f4b-4346-e73b-0f850dcace8e"
      },
      "source": [
        "display(mnist_dataset[128][0])"
      ],
      "execution_count": null,
      "outputs": [
        {
          "output_type": "display_data",
          "data": {
            "text/plain": [
              "<PIL.Image.Image image mode=L size=28x28>"
            ],
            "image/png": "[encoded data removed]",
            "image/jpeg": "[encoded data removed]"
          },
          "metadata": {}
        }
      ]
    },
    {
      "cell_type": "markdown",
      "metadata": {
        "id": "msGnCP0MmWMA"
      },
      "source": [
        "# Part 1: Looking at the data\n",
        "\n",
        "In Data Science, it is very important to visualize the data we are working with, in order to understand it better and detect issues."
      ]
    },
    {
      "cell_type": "markdown",
      "metadata": {
        "id": "zGRDyNSEY7sd"
      },
      "source": [
        "## Q1: Display 10 images with their label\n",
        "\n",
        "Using a Python for loop and the **display** function, show 10 images from the dataset and their labels."
      ]
    },
    {
      "cell_type": "code",
      "metadata": {
        "id": "I45idluXomoi",
        "colab": {
          "base_uri": "https://localhost:8080/",
          "height": 471
        },
        "outputId": "f5baad35-4938-4380-b39b-c24eaf0ad5a5"
      },
      "source": [
        "for i in range(10):\n",
        "  display(mnist_dataset[i][0])\n",
        "  print(mnist_dataset[i][1])"
      ],
      "execution_count": null,
      "outputs": [
        {
          "output_type": "display_data",
          "data": {
            "text/plain": [
              "<PIL.Image.Image image mode=L size=28x28>"
            ],
            "image/png": "[encoded data removed]",
            "image/jpeg": "[encoded data removed]"
          },
          "metadata": {}
        },
        {
          "output_type": "stream",
          "name": "stdout",
          "text": [
            "5\n"
          ]
        },
        {
          "output_type": "display_data",
          "data": {
            "text/plain": [
              "<PIL.Image.Image image mode=L size=28x28>"
            ],
            "image/png": "[encoded data removed]",
            "image/jpeg": "[encoded data removed]"
          },
          "metadata": {}
        },
        {
          "output_type": "stream",
          "name": "stdout",
          "text": [
            "0\n"
          ]
        },
        {
          "output_type": "display_data",
          "data": {
            "text/plain": [
              "<PIL.Image.Image image mode=L size=28x28>"
            ],
            "image/png": "[encoded data removed]",
            "image/jpeg": "[encoded data removed]"
          },
          "metadata": {}
        },
        {
          "output_type": "stream",
          "name": "stdout",
          "text": [
            "4\n"
          ]
        },
        {
          "output_type": "display_data",
          "data": {
            "text/plain": [
              "<PIL.Image.Image image mode=L size=28x28>"
            ],
            "image/png": "[encoded data removed]",
            "image/jpeg": "[encoded data removed]"
          },
          "metadata": {}
        },
        {
          "output_type": "stream",
          "name": "stdout",
          "text": [
            "1\n"
          ]
        },
        {
          "output_type": "display_data",
          "data": {
            "text/plain": [
              "<PIL.Image.Image image mode=L size=28x28>"
            ],
            "image/png": "[encoded data removed]",
            "image/jpeg": "[encoded data removed]"
          },
          "metadata": {}
        },
        {
          "output_type": "stream",
          "name": "stdout",
          "text": [
            "9\n"
          ]
        },
        {
          "output_type": "display_data",
          "data": {
            "text/plain": [
              "<PIL.Image.Image image mode=L size=28x28>"
            ],
            "image/png": "[encoded data removed]",
            "image/jpeg": "[encoded data removed]"
          },
          "metadata": {}
        },
        {
          "output_type": "stream",
          "name": "stdout",
          "text": [
            "2\n"
          ]
        },
        {
          "output_type": "display_data",
          "data": {
            "text/plain": [
              "<PIL.Image.Image image mode=L size=28x28>"
            ],
            "image/png": "[encoded data removed]",
            "image/jpeg": "[encoded data removed]"
          },
          "metadata": {}
        },
        {
          "output_type": "stream",
          "name": "stdout",
          "text": [
            "1\n"
          ]
        },
        {
          "output_type": "display_data",
          "data": {
            "text/plain": [
              "<PIL.Image.Image image mode=L size=28x28>"
            ],
            "image/png": "[encoded data removed]",
            "image/jpeg": "[encoded data removed]"
          },
          "metadata": {}
        },
        {
          "output_type": "stream",
          "name": "stdout",
          "text": [
            "3\n"
          ]
        },
        {
          "output_type": "display_data",
          "data": {
            "text/plain": [
              "<PIL.Image.Image image mode=L size=28x28>"
            ],
            "image/png": "[encoded data removed]",
            "image/jpeg": "[encoded data removed]"
          },
          "metadata": {}
        },
        {
          "output_type": "stream",
          "name": "stdout",
          "text": [
            "1\n"
          ]
        },
        {
          "output_type": "display_data",
          "data": {
            "text/plain": [
              "<PIL.Image.Image image mode=L size=28x28>"
            ],
            "image/png": "[encoded data removed]",
            "image/jpeg": "[encoded data removed]"
          },
          "metadata": {}
        },
        {
          "output_type": "stream",
          "name": "stdout",
          "text": [
            "4\n"
          ]
        }
      ]
    },
    {
      "cell_type": "markdown",
      "metadata": {
        "id": "2G37azQkZKr9"
      },
      "source": [
        "## Q2: Display 10 images from a specific class\n",
        "\n",
        "Using a Python \"for\" loop and conditions (or list comprehensions), display 10 images from a specific class (4, for example)."
      ]
    },
    {
      "cell_type": "code",
      "metadata": {
        "id": "NbZcVa-4YPrU",
        "colab": {
          "base_uri": "https://localhost:8080/",
          "height": 471
        },
        "outputId": "f9748643-e4dc-45a6-abee-dac0b9e97791"
      },
      "source": [
        "count = 0\n",
        "for image, label in mnist_dataset:\n",
        "  if label == 4 and count < 10:\n",
        "    display(image)\n",
        "    print(label)\n",
        "    count += 1"
      ],
      "execution_count": null,
      "outputs": [
        {
          "output_type": "display_data",
          "data": {
            "text/plain": [
              "<PIL.Image.Image image mode=L size=28x28>"
            ],
            "image/png": "[encoded data removed]",
            "image/jpeg": "[encoded data removed]"
          },
          "metadata": {}
        },
        {
          "output_type": "stream",
          "name": "stdout",
          "text": [
            "4\n"
          ]
        },
        {
          "output_type": "display_data",
          "data": {
            "text/plain": [
              "<PIL.Image.Image image mode=L size=28x28>"
            ],
            "image/png": "[encoded data removed]",
            "image/jpeg": "[encoded data removed]"
          },
          "metadata": {}
        },
        {
          "output_type": "stream",
          "name": "stdout",
          "text": [
            "4\n"
          ]
        },
        {
          "output_type": "display_data",
          "data": {
            "text/plain": [
              "<PIL.Image.Image image mode=L size=28x28>"
            ],
            "image/png": "[encoded data removed]",
            "image/jpeg": "[encoded data removed]"
          },
          "metadata": {}
        },
        {
          "output_type": "stream",
          "name": "stdout",
          "text": [
            "4\n"
          ]
        },
        {
          "output_type": "display_data",
          "data": {
            "text/plain": [
              "<PIL.Image.Image image mode=L size=28x28>"
            ],
            "image/png": "[encoded data removed]",
            "image/jpeg": "[encoded data removed]"
          },
          "metadata": {}
        },
        {
          "output_type": "stream",
          "name": "stdout",
          "text": [
            "4\n"
          ]
        },
        {
          "output_type": "display_data",
          "data": {
            "text/plain": [
              "<PIL.Image.Image image mode=L size=28x28>"
            ],
            "image/png": "[encoded data removed]",
            "image/jpeg": "[encoded data removed]"
          },
          "metadata": {}
        },
        {
          "output_type": "stream",
          "name": "stdout",
          "text": [
            "4\n"
          ]
        },
        {
          "output_type": "display_data",
          "data": {
            "text/plain": [
              "<PIL.Image.Image image mode=L size=28x28>"
            ],
            "image/png": "[encoded data removed]",
            "image/jpeg": "[encoded data removed]"
          },
          "metadata": {}
        },
        {
          "output_type": "stream",
          "name": "stdout",
          "text": [
            "4\n"
          ]
        },
        {
          "output_type": "display_data",
          "data": {
            "text/plain": [
              "<PIL.Image.Image image mode=L size=28x28>"
            ],
            "image/png": "[encoded data removed]",
            "image/jpeg": "[encoded data removed]"
          },
          "metadata": {}
        },
        {
          "output_type": "stream",
          "name": "stdout",
          "text": [
            "4\n"
          ]
        },
        {
          "output_type": "display_data",
          "data": {
            "text/plain": [
              "<PIL.Image.Image image mode=L size=28x28>"
            ],
            "image/png": "[encoded data removed]",
            "image/jpeg": "[encoded data removed]"
          },
          "metadata": {}
        },
        {
          "output_type": "stream",
          "name": "stdout",
          "text": [
            "4\n"
          ]
        },
        {
          "output_type": "display_data",
          "data": {
            "text/plain": [
              "<PIL.Image.Image image mode=L size=28x28>"
            ],
            "image/png": "[encoded data removed]",
            "image/jpeg": "[encoded data removed]"
          },
          "metadata": {}
        },
        {
          "output_type": "stream",
          "name": "stdout",
          "text": [
            "4\n"
          ]
        },
        {
          "output_type": "display_data",
          "data": {
            "text/plain": [
              "<PIL.Image.Image image mode=L size=28x28>"
            ],
            "image/png": "[encoded data removed]",
            "image/jpeg": "[encoded data removed]"
          },
          "metadata": {}
        },
        {
          "output_type": "stream",
          "name": "stdout",
          "text": [
            "4\n"
          ]
        }
      ]
    },
    {
      "cell_type": "markdown",
      "metadata": {
        "id": "Db-YL3NAZ0R_"
      },
      "source": [
        "## Q3: Count the number of elements in each class\n",
        "\n",
        "Using a \"for\" loop, the \"count\" method and the \"print\" function, display the number of elements in each class of the MNIST dataset."
      ]
    },
    {
      "cell_type": "code",
      "metadata": {
        "id": "ezQnZ5erZ3ei",
        "colab": {
          "base_uri": "https://localhost:8080/"
        },
        "outputId": "3f56a143-452a-4835-d19b-6264a80b0057"
      },
      "source": [
        "for i in range(10):\n",
        "  print((mnist_dataset.targets == i).sum())"
      ],
      "execution_count": null,
      "outputs": [
        {
          "output_type": "stream",
          "name": "stdout",
          "text": [
            "tensor(5923)\n",
            "tensor(6742)\n",
            "tensor(5958)\n",
            "tensor(6131)\n",
            "tensor(5842)\n",
            "tensor(5421)\n",
            "tensor(5918)\n",
            "tensor(6265)\n",
            "tensor(5851)\n",
            "tensor(5949)\n"
          ]
        }
      ]
    },
    {
      "cell_type": "markdown",
      "metadata": {
        "id": "c6s98Vm-j_wQ"
      },
      "source": [
        "# Part 2: Creating a Neural Network with torch.nn\n",
        "\n",
        "For our first CNN, we are going to implement LeNet5, which was used for handwritten digits classification for the first time in 1989 (http://yann.lecun.com/exdb/lenet/).\n",
        "\n",
        "It is common to represent Neural Network architectures using charts such as this one:\n",
        "\n",
        "![alt text](https://miro.medium.com/fit/c/1838/551/0*H9_eGAtkQXJXtkoK)\n",
        "\n",
        "\n"
      ]
    },
    {
      "cell_type": "markdown",
      "metadata": {
        "id": "kbu0b-1Zc7o4"
      },
      "source": [
        "## Q4: Implementing the network\n",
        "\n",
        "All networks created with torch.nn are subclasses of nn.Module.\n",
        "\n",
        "To create our network, we need to define two methods: the init method (\"\\_\\_init\\_\\_\") and the **forward** propagation method.\n",
        "\n",
        "\n",
        "\n",
        "*   In the \"**init**\" function, we define the **parts** (layers) of the network we are going to use and store them as attributes\n",
        "*   In the \"**forward**\" function, we define the **order** of the layers by applying them to an input (define-by-run)\n",
        "\n",
        "\n",
        "\n",
        "\n",
        "**Fill the code below** so that it corresponds to the architecture represented above. Please note that **there is a \"ReLu\" activation after every convolutional and linear (fully connected) layer in this architecture, that is not pictured.**\n",
        "\n",
        "The torch.nn documentation will probably be useful https://pytorch.org/docs/stable/nn.html\n"
      ]
    },
    {
      "cell_type": "code",
      "metadata": {
        "id": "c9FqAeK9mhar",
        "cellView": "both",
        "colab": {
          "base_uri": "https://localhost:8080/"
        },
        "outputId": "71329bb2-4354-468c-858f-d36f45e306f0"
      },
      "source": [
        "import torch\n",
        "import torch.nn as nn\n",
        "\n",
        "class MyFirstNetwork(nn.Module):\n",
        "\n",
        "    def __init__(self):\n",
        "        super(MyFirstNetwork, self).__init__()\n",
        "\n",
        "        ## MNIST images are 28x28 but LeNet5 expects 32x32\n",
        "        ## -> we pad the images with zeroes\n",
        "        self.padding = nn.ZeroPad2d(2)\n",
        "\n",
        "        ## First convolution\n",
        "        self.conv1 = nn.Conv2d(in_channels=1, out_channels=6, kernel_size=5)\n",
        "\n",
        "        ## Second convolution\n",
        "        self.conv2 = nn.Conv2d(in_channels=6, out_channels=16, kernel_size=5)\n",
        "\n",
        "        ## Pooling (subsampling) layer\n",
        "        self.maxpool = nn.MaxPool2d(2)\n",
        "\n",
        "        ## Activation layer\n",
        "        self.relu = nn.ReLU()\n",
        "\n",
        "        ## Fully connected layers\n",
        "        self.fc1 = nn.Linear(in_features=400, out_features=120)  # 16 feature maps of size 5x5 after pooling\n",
        "        self.fc2 = nn.Linear(in_features=120, out_features=84)\n",
        "        self.output = nn.Linear(in_features=84, out_features=10)\n",
        "\n",
        "        ## Final activation layer\n",
        "        self.softmax = nn.LogSoftmax(dim=1)\n",
        "\n",
        "    def forward(self, x):\n",
        "        ## Pad the input\n",
        "        x = self.padding(x)\n",
        "\n",
        "        ## First convolution + activation\n",
        "        x = self.conv1(x)\n",
        "        x = self.relu(x)\n",
        "\n",
        "        ## First pooling\n",
        "        x = self.maxpool(x)\n",
        "\n",
        "        ## Second Convolution + activation\n",
        "        x = self.conv2(x)\n",
        "        x = self.relu(x)\n",
        "\n",
        "        ## 2nd pooling\n",
        "        x = self.maxpool(x)\n",
        "\n",
        "        ## \"Flatten\" the output to make it 1D\n",
        "        x = x.view(-1, 16 * 5 * 5)  # 16 channels of 5x5 feature maps\n",
        "\n",
        "        ## First full connection + activation\n",
        "        x = self.fc1(x)\n",
        "        x = self.relu(x)\n",
        "\n",
        "        ## Second full connection + activation\n",
        "        x = self.fc2(x)\n",
        "        x = self.relu(x)\n",
        "\n",
        "        ## Output layer\n",
        "        x = self.output(x)\n",
        "        y = self.softmax(x)\n",
        "\n",
        "        return y\n",
        "\n",
        "import torchsummary\n",
        "net = MyFirstNetwork().cuda()\n",
        "torchsummary.summary(net, (1, 28, 28))\n"
      ],
      "execution_count": null,
      "outputs": [
        {
          "output_type": "stream",
          "name": "stdout",
          "text": [
            "----------------------------------------------------------------\n",
            "        Layer (type)               Output Shape         Param #\n",
            "================================================================\n",
            "         ZeroPad2d-1            [-1, 1, 32, 32]               0\n",
            "            Conv2d-2            [-1, 6, 28, 28]             156\n",
            "              ReLU-3            [-1, 6, 28, 28]               0\n",
            "         MaxPool2d-4            [-1, 6, 14, 14]               0\n",
            "            Conv2d-5           [-1, 16, 10, 10]           2,416\n",
            "              ReLU-6           [-1, 16, 10, 10]               0\n",
            "         MaxPool2d-7             [-1, 16, 5, 5]               0\n",
            "            Linear-8                  [-1, 120]          48,120\n",
            "              ReLU-9                  [-1, 120]               0\n",
            "           Linear-10                   [-1, 84]          10,164\n",
            "             ReLU-11                   [-1, 84]               0\n",
            "           Linear-12                   [-1, 10]             850\n",
            "       LogSoftmax-13                   [-1, 10]               0\n",
            "================================================================\n",
            "Total params: 61,706\n",
            "Trainable params: 61,706\n",
            "Non-trainable params: 0\n",
            "----------------------------------------------------------------\n",
            "Input size (MB): 0.00\n",
            "Forward/backward pass size (MB): 0.12\n",
            "Params size (MB): 0.24\n",
            "Estimated Total Size (MB): 0.36\n",
            "----------------------------------------------------------------\n"
          ]
        }
      ]
    },
    {
      "cell_type": "markdown",
      "metadata": {
        "id": "u6Vo_6yRc26m"
      },
      "source": [
        "### Testing our implementation\n",
        "\n",
        "To check that the network is working and possibly correct mistakes, we apply the forward method to an image from the MNIST dataset.\n",
        "\n",
        "**Check that your network is working by running the code below.**\n",
        "\n",
        "At any point in the forward pass, you can execute Python code allowing you to debug the network. This is one of the main benefits of using PyTorch. This framework has \"eager execution\", and the architecture is \"defined-by-run\". Other frameworks, such as Tensorflow, compile the network into a fixed graph that cannot be debugged using prints.\n",
        "\n",
        "PyTorch works on objects called **Tensors**, which are N-dimensional matrices.\n",
        "\n",
        "Tensors can be displayed using the Python '**print**' function, their size can be accessed using **x.size()**, etc.\n",
        "\n",
        "See the PyTorch documentation for other operations on Tensors https://pytorch.org/docs/stable/tensors.html\n"
      ]
    },
    {
      "cell_type": "code",
      "metadata": {
        "id": "WMxl2UlBdJUl",
        "colab": {
          "base_uri": "https://localhost:8080/"
        },
        "outputId": "daa13a36-1372-4104-b26d-4a309a0e2971"
      },
      "source": [
        "## Create an instance of our network\n",
        "net = MyFirstNetwork()\n",
        "\n",
        "## Create a conversion function to convert PIL images into Tensors\n",
        "convert = torchvision.transforms.ToTensor()\n",
        "\n",
        "## Get our input image as a tensor. We add a dimension with \"unsqueeze\", because\n",
        "## PyTorch is used to working with batches.\n",
        "x = convert(mnist_dataset[0][0]).unsqueeze(0)\n",
        "\n",
        "## Apply the network to the input\n",
        "net(x)"
      ],
      "execution_count": null,
      "outputs": [
        {
          "output_type": "execute_result",
          "data": {
            "text/plain": [
              "tensor([[-2.4001, -2.2234, -2.3138, -2.3062, -2.3292, -2.3367, -2.2451, -2.2122,\n",
              "         -2.2905, -2.3870]], grad_fn=<LogSoftmaxBackward0>)"
            ]
          },
          "metadata": {},
          "execution_count": 30
        }
      ]
    },
    {
      "cell_type": "markdown",
      "metadata": {
        "id": "p3BQubKSwfJb"
      },
      "source": [
        "The result should be a 10-dimensional vector (tensor) of probabilities. If your network does not work, edit it and try again!\n",
        "\n",
        "NOTE: You can notice a \"LogSoftmaxBackward\" object. PyTorch automatically tracks which operations have been performed on Tensors, so that it can perform automatic gradient computation during training."
      ]
    },
    {
      "cell_type": "markdown",
      "metadata": {
        "id": "OKz1p2jLkEpO"
      },
      "source": [
        "#  Part 3: Training the network\n",
        "\n"
      ]
    },
    {
      "cell_type": "markdown",
      "metadata": {
        "id": "InctrLEkjcMX"
      },
      "source": [
        "## Choosing a loss function and an optimizer\n",
        "\n",
        "As a Loss, the negative log likelihood (also called cross-entropy) is well suited here, because we have an N-class classification problem.\n",
        "\n",
        "Stochastic Gradient Descent is the most basic optimization algorithm. You can try to use another one from torch.optim (https://pytorch.org/docs/stable/optim.html). You can also try to adjust the learning rate (lr parameter)."
      ]
    },
    {
      "cell_type": "code",
      "metadata": {
        "id": "_lZPjeAKjaKe"
      },
      "source": [
        "# Negative log likelihood loss\n",
        "criterion = nn.NLLLoss()\n",
        "\n",
        "# Stochastic Gradient Descent\n",
        "optimizer = torch.optim.SGD(net.parameters(), lr=0.01)"
      ],
      "execution_count": null,
      "outputs": []
    },
    {
      "cell_type": "markdown",
      "metadata": {
        "id": "lYIvxuq5zMWL"
      },
      "source": [
        "## Basic training bricks\n",
        "\n",
        "There are 4 parts to train the network on one sample of the dataset:\n",
        "\n",
        "\n",
        "\n",
        "1.   Compute the forward pass\n",
        "\n",
        "```\n",
        "    y = net(x)\n",
        "```\n",
        "\n",
        "\n",
        "2.   Compute the loss\n",
        "\n",
        "\n",
        "```\n",
        "    loss = criterion(y, label)\n",
        "```\n",
        "\n",
        "\n",
        "3.   Reset the gradients\n",
        "\n",
        "\n",
        "```\n",
        "    optimizer.zero_grad()\n",
        "```\n",
        "\n",
        "\n",
        "4.   Compute the backward pass\n",
        "\n",
        "\n",
        "\n",
        "```\n",
        "     loss.backward()\n",
        "\n",
        "```\n",
        "\n",
        "\n",
        "\n",
        "5.   Apply one optimization step\n",
        "\n",
        "\n",
        "\n",
        "```\n",
        "     optimizer.step()\n",
        "\n",
        "```\n",
        "\n",
        "\n",
        "\n"
      ]
    },
    {
      "cell_type": "markdown",
      "metadata": {
        "id": "0kvwV7HAkz1b"
      },
      "source": [
        "## Q5: Creating a basic training loop\n",
        "\n",
        "Neural Networks are trained using training loops. We go over the dataset multiple times (each time is called an \"epoch\"), using \"batches\" of data.\n",
        "\n",
        "First, we are going to create the most basic training loop possible, going over the dataset manually using a batch size of 1 (the network sees the images one by one). Every time an image goes through the network, we compute the loss and the gradients and update the network weights.\n",
        "\n",
        "**Fill the code below using the basic training bricks above to create the training loop.**"
      ]
    },
    {
      "cell_type": "code",
      "metadata": {
        "id": "F2TU7F3VXUDR",
        "colab": {
          "base_uri": "https://localhost:8080/",
          "height": 583,
          "referenced_widgets": [
            "7f48effde3b7440a92dbbe767cdf5973",
            "093e38bb71354575a40f42d0438bbabc",
            "9f157927b6824c0388d5ec92a26ae96b",
            "26e13c81aa1a409e81eba24bb6964c10",
            "a74201a67e4842dfa255ac88391852d7",
            "506e791f3eac403a915a1d5523cbb758",
            "271e00f6cc394d1d8fc6b2876feaebbd",
            "82d1c915bb7e41fcbcc31e29bfc55c00",
            "d6aa53ad4b4a4d27ac24ae8bbf5851a5",
            "5fe098d3b81c404f878cd6ac1655a33c",
            "85cb1566edd54ed7b679e561f230a50e",
            "b714d3a922904bc491c327246a7d9f17",
            "56b716aae4f94344aa0baabeafce691a",
            "592147b2f8f84f60a0bcd7a37f0bceff",
            "51bb0ffb8c3d4d18a74678713311366a",
            "af00ef02a37644d9990adea67043d0f1",
            "4c046fa31b4b48d3ba7b6850a2b86d5b",
            "37d611d4374c41068eefb6c85fcb5d2a",
            "5451f4a541ad401ea2bb56f2aee1e488",
            "0a61f6b8a4e8497bace5cb363ada6acd",
            "d6d814dd2e674f109cbb24bc45420fed",
            "ce0a1b5524b4428baed4ce884c17df8a",
            "e15146583b8b4c90b3d84eb76f4ded0b",
            "4838eb9c939c48cdbd5f7c0327a81d44",
            "e6b4f1acd3ff477b9534e7f524c34b01",
            "4e82a0e772864110816252b8813f889d",
            "a103684d30f94c92a21b3d3e784cac04",
            "928ff89566074c30aa43aa469b77ea67",
            "c1caee890c9f47298509fb2104c0ed1c",
            "087e4cec1ffa4074b439f92267715667",
            "d7fc84e7a15846df8e049c9f2f358c66",
            "9e93c25878f349ddbdafd59edf409414",
            "4882fcba7794421c9088424e525293fc",
            "6be1217012824e729a91503f9b02e190",
            "6fef85f7f2ed4fac8fd0558072689704",
            "4375b74377cd43eca9b5bb0de7dd950a",
            "4183b46b0c834ef79ac00866087d8589",
            "352050ce40c24997b9bfa20e56cb9645",
            "b3ab0272e2b544e2b33105f52d736125",
            "0fa0c0007504489ebb2189506e8ab1aa",
            "98dd29450be342c69b947c0deb62b173",
            "26c0525756ce41fdb3bf3a0bec8d15f0",
            "21884b17e8204f45b64a55c707643fb8",
            "6763ebeab76f4a62bfb08ba2f6c45723",
            "7dcc8333735447279937fa7137c1c66f",
            "3e65af200aa549999b72f7c9cf6818af",
            "ad891733a2c74138813f7abedbdbc489",
            "3e1db13d74b54ebea0a86899538a1e59",
            "9511d667bfc34442be1a6fff200ff4d4",
            "b61deccf64214d859650cb44419b0df3",
            "bd4fbe56ce4d4d78a87028021ee256c2",
            "812010f9881b41e59f940373d690ad18",
            "3defe009fb2b40d389defa992e8ab8b9",
            "548471884ba7480c8cc98a4537616791",
            "08b217ca8d444d2d88d121e286b8ccda",
            "24487f58503144f9b69d71d2c54f2218",
            "eb17840b8fd44463a5ec0f88712e9b07",
            "26c4d75d6f434962a71ea7d07fae7212",
            "efc5f201bf7c4aaab98f5734c2e89437",
            "1f3835140e444d6dbe2c1f7f2f268c97",
            "a137a59c8a5041e5857d40a559fa17f4",
            "ee6114e9c7434446a259ec93006e0468",
            "9e29e75269984e0f92ca96557214cd11",
            "40f1de3b812142fba0e2cf7cbee5cdcd",
            "2611dbcc96e94a56b37cade91a39377d",
            "74e6e418b03642b2bf40e3bdaaef794c",
            "b3a9567628154a4bae41f4379fc6c1e6",
            "56c81d1c3ea04005bb923837590a6f4c",
            "5a4b0ec7dcf24c30bf942c3bc62081ee",
            "6b7bcb1fc3594d6aa12e999d6812200d",
            "670680546eee4dcd93f8a6448f828482",
            "0f8ed99a27ac4d8f9d495e0a1b2f955a",
            "d30e6524fdcb431b97c5976234fc3ff8",
            "acb56423ad7b4a99aa68daf07ee66d51",
            "e667580420404c3daddc06875343bc4b",
            "0ce6d7015a5b48a29c98f1823c04c128",
            "f3daee0a122d4422bd38060d29be2735",
            "b9d75106d9fe4bc287267996a5b4fd09",
            "1564e7769da642c59f78e84c35fd92e7",
            "296c4563d8e24d3caa39a3ac6a44c44f",
            "c1f2929ff90442bd893469c21a0c7875",
            "8633eadb4ec046cc8b7cd0521aeca80b",
            "205c31ae93384fcdbcc7899b2f3ad5fc",
            "5230ec6c052c4025b7dd2ceddcacb7ae",
            "5cad674e50d34ff1b416798c62ed0640",
            "407429513d4342eb95bdcea5895fb924",
            "fff03a20f55d4aaeaf7d65319361f853",
            "8ebaaa5aca42461f8967218b2498c34b",
            "cca4c51b405643ea82e6ac21b410426a",
            "901898bfaaaa47e79ed743beb012e8eb",
            "1e41cfabe33540458015d1467eef2f6d",
            "81fe96b5d31b44e687873265504856c8",
            "17cbd1ee73264371a9c1a82fdeb83e86",
            "5e3cbd4152ab49ff8d484c1eab06f503",
            "583bc3ddc92c4ff08554b2f163216280",
            "cb258f65f4da433fa6dc89264b22b30c",
            "e38f169b01bd4546b59fcb44fbcfe473",
            "a11fe6819b9644cab889e43ab485135f",
            "0d8f98be792c4ce487622e00c724ef46"
          ]
        },
        "outputId": "21fa6fff-9de3-4f64-b0d3-5faba475a4f4"
      },
      "source": [
        "## MODIFY THIS LINE IF THE TRAINING TAKES TOO LONG (MAX 60000)\n",
        "SAMPLES_TO_USE = 2000\n",
        "\n",
        "## NUMBER OF EPOCHS TO TRAIN\n",
        "N_EPOCHS = 8\n",
        "\n",
        "## Put the network in training mode\n",
        "net.train()\n",
        "\n",
        "## Define the loss function and optimizer\n",
        "criterion = torch.nn.CrossEntropyLoss()\n",
        "optimizer = torch.optim.SGD(net.parameters(), lr=0.01)\n",
        "\n",
        "for e in tqdm(range(N_EPOCHS), desc='Epochs'):\n",
        "\n",
        "  running_loss = 0\n",
        "  running_accuracy = 0\n",
        "\n",
        "  for i in tqdm(range(SAMPLES_TO_USE), desc=\"Samples\"):\n",
        "\n",
        "    # Get a sample from the dataset\n",
        "    sample = mnist_dataset[i]\n",
        "    x = convert(sample[0]).unsqueeze(0)  # Input image tensor\n",
        "    label = torch.tensor([sample[1]])  # Corresponding label\n",
        "\n",
        "    # Zero the parameter gradients\n",
        "    optimizer.zero_grad()\n",
        "\n",
        "    ## Forward pass: compute network output\n",
        "    y = net(x)\n",
        "\n",
        "    ## Compute the loss\n",
        "    loss = criterion(y, label)\n",
        "\n",
        "    ## Backward pass: compute gradients\n",
        "    loss.backward()\n",
        "\n",
        "    ## Update network weights\n",
        "    optimizer.step()\n",
        "\n",
        "    ## Compute some statistics\n",
        "    with torch.no_grad():\n",
        "      running_loss += loss.item()  # Add current loss to running loss\n",
        "      running_accuracy += 1 if y.argmax(1) == label else 0  # Update accuracy count\n",
        "\n",
        "  print(f\"Training accuracy after epoch {e+1}: {running_accuracy/SAMPLES_TO_USE}\")\n",
        "  print(f\"Training loss after epoch {e+1}: {running_loss/SAMPLES_TO_USE}\")\n"
      ],
      "execution_count": null,
      "outputs": [
        {
          "output_type": "display_data",
          "data": {
            "text/plain": [
              "Epochs:   0%|          | 0/8 [00:00<?, ?it/s]"
            ],
            "application/vnd.jupyter.widget-view+json": {
              "version_major": 2,
              "version_minor": 0,
              "model_id": "7f48effde3b7440a92dbbe767cdf5973"
            }
          },
          "metadata": {}
        },
        {
          "output_type": "display_data",
          "data": {
            "text/plain": [
              "Samples:   0%|          | 0/2000 [00:00<?, ?it/s]"
            ],
            "application/vnd.jupyter.widget-view+json": {
              "version_major": 2,
              "version_minor": 0,
              "model_id": "b714d3a922904bc491c327246a7d9f17"
            }
          },
          "metadata": {}
        },
        {
          "output_type": "stream",
          "name": "stdout",
          "text": [
            "Training accuracy after epoch 1: 0.395\n",
            "Training loss after epoch 1: 1.6907217703951174\n"
          ]
        },
        {
          "output_type": "display_data",
          "data": {
            "text/plain": [
              "Samples:   0%|          | 0/2000 [00:00<?, ?it/s]"
            ],
            "application/vnd.jupyter.widget-view+json": {
              "version_major": 2,
              "version_minor": 0,
              "model_id": "e15146583b8b4c90b3d84eb76f4ded0b"
            }
          },
          "metadata": {}
        },
        {
          "output_type": "stream",
          "name": "stdout",
          "text": [
            "Training accuracy after epoch 2: 0.8735\n",
            "Training loss after epoch 2: 0.3932413166988733\n"
          ]
        },
        {
          "output_type": "display_data",
          "data": {
            "text/plain": [
              "Samples:   0%|          | 0/2000 [00:00<?, ?it/s]"
            ],
            "application/vnd.jupyter.widget-view+json": {
              "version_major": 2,
              "version_minor": 0,
              "model_id": "6be1217012824e729a91503f9b02e190"
            }
          },
          "metadata": {}
        },
        {
          "output_type": "stream",
          "name": "stdout",
          "text": [
            "Training accuracy after epoch 3: 0.9375\n",
            "Training loss after epoch 3: 0.21483337666652041\n"
          ]
        },
        {
          "output_type": "display_data",
          "data": {
            "text/plain": [
              "Samples:   0%|          | 0/2000 [00:00<?, ?it/s]"
            ],
            "application/vnd.jupyter.widget-view+json": {
              "version_major": 2,
              "version_minor": 0,
              "model_id": "7dcc8333735447279937fa7137c1c66f"
            }
          },
          "metadata": {}
        },
        {
          "output_type": "stream",
          "name": "stdout",
          "text": [
            "Training accuracy after epoch 4: 0.953\n",
            "Training loss after epoch 4: 0.14478504799821668\n"
          ]
        },
        {
          "output_type": "display_data",
          "data": {
            "text/plain": [
              "Samples:   0%|          | 0/2000 [00:00<?, ?it/s]"
            ],
            "application/vnd.jupyter.widget-view+json": {
              "version_major": 2,
              "version_minor": 0,
              "model_id": "24487f58503144f9b69d71d2c54f2218"
            }
          },
          "metadata": {}
        },
        {
          "output_type": "stream",
          "name": "stdout",
          "text": [
            "Training accuracy after epoch 5: 0.97\n",
            "Training loss after epoch 5: 0.110809091885911\n"
          ]
        },
        {
          "output_type": "display_data",
          "data": {
            "text/plain": [
              "Samples:   0%|          | 0/2000 [00:00<?, ?it/s]"
            ],
            "application/vnd.jupyter.widget-view+json": {
              "version_major": 2,
              "version_minor": 0,
              "model_id": "b3a9567628154a4bae41f4379fc6c1e6"
            }
          },
          "metadata": {}
        },
        {
          "output_type": "stream",
          "name": "stdout",
          "text": [
            "Training accuracy after epoch 6: 0.976\n",
            "Training loss after epoch 6: 0.07519900856737756\n"
          ]
        },
        {
          "output_type": "display_data",
          "data": {
            "text/plain": [
              "Samples:   0%|          | 0/2000 [00:00<?, ?it/s]"
            ],
            "application/vnd.jupyter.widget-view+json": {
              "version_major": 2,
              "version_minor": 0,
              "model_id": "b9d75106d9fe4bc287267996a5b4fd09"
            }
          },
          "metadata": {}
        },
        {
          "output_type": "stream",
          "name": "stdout",
          "text": [
            "Training accuracy after epoch 7: 0.9735\n",
            "Training loss after epoch 7: 0.09298166652604611\n"
          ]
        },
        {
          "output_type": "display_data",
          "data": {
            "text/plain": [
              "Samples:   0%|          | 0/2000 [00:00<?, ?it/s]"
            ],
            "application/vnd.jupyter.widget-view+json": {
              "version_major": 2,
              "version_minor": 0,
              "model_id": "cca4c51b405643ea82e6ac21b410426a"
            }
          },
          "metadata": {}
        },
        {
          "output_type": "stream",
          "name": "stdout",
          "text": [
            "Training accuracy after epoch 8: 0.976\n",
            "Training loss after epoch 8: 0.08168075794954273\n"
          ]
        }
      ]
    },
    {
      "cell_type": "markdown",
      "metadata": {
        "id": "AZWWnfPIsCbq"
      },
      "source": [
        "## Evaluating on a test set\n",
        "\n",
        "While performance on the training set might be good (you can reach 100% accuracy in this example), what really matters is performance on the test set. The test set is composed of images the network has never seen before.\n",
        "\n",
        "**Run the following code to evaluate your network.** Make sure that you reach at least approximately 90% test accuracy before moving on to the next part!"
      ]
    },
    {
      "cell_type": "code",
      "metadata": {
        "id": "YRelqgPssVrA",
        "colab": {
          "base_uri": "https://localhost:8080/",
          "height": 84,
          "referenced_widgets": [
            "3ba766654eaf4525ba69edc97e6d12a0",
            "7c028f6e49d044839f1d3bad215f5e39",
            "39643695eef0415ea5e6b24e2493ad60",
            "fd68ab1ac6c4496eaf28ace9ebad5b6a",
            "997b06c02a2f497ab5ed5ec9e88f4397",
            "f38492c147be47f48557a51f63bbf134",
            "09235338ad3d4c5784ff4ef5a7aa3bd0",
            "99174fe9ad97472483921dec1d7f69e6",
            "a16fdc0f656440919f424cf902d207be",
            "e2f667ce82bb4593818d0a82e311a554",
            "240cf912deb541feb67ab559c7c395d7"
          ]
        },
        "outputId": "02ebe611-03d6-4ec2-e909-42915969ddd4"
      },
      "source": [
        "#Get the MNIST test set\n",
        "mnist_test_dataset = torchvision.datasets.MNIST(\".\", train=False, transform=convert, download=True)\n",
        "\n",
        "print(\"Number of test images:\", len(mnist_test_dataset))\n",
        "\n",
        "#Put the network in eval mode\n",
        "net.eval()\n",
        "\n",
        "acc = 0\n",
        "#Disable gradient computation for this (we do not need them, this will speed up testing)\n",
        "with torch.no_grad():\n",
        "  for img, label in tqdm(mnist_test_dataset):\n",
        "\n",
        "    y = net(img.unsqueeze(0))\n",
        "\n",
        "    if y.max(1)[1] == label:\n",
        "      acc +=1\n",
        "\n",
        "  print(\"Test Accuracy:\", acc/len(mnist_test_dataset))\n"
      ],
      "execution_count": null,
      "outputs": [
        {
          "output_type": "stream",
          "name": "stdout",
          "text": [
            "Number of test images: 10000\n"
          ]
        },
        {
          "output_type": "display_data",
          "data": {
            "text/plain": [
              "  0%|          | 0/10000 [00:00<?, ?it/s]"
            ],
            "application/vnd.jupyter.widget-view+json": {
              "version_major": 2,
              "version_minor": 0,
              "model_id": "3ba766654eaf4525ba69edc97e6d12a0"
            }
          },
          "metadata": {}
        },
        {
          "output_type": "stream",
          "name": "stdout",
          "text": [
            "Test Accuracy: 0.9496\n"
          ]
        }
      ]
    },
    {
      "cell_type": "markdown",
      "metadata": {
        "id": "KPjWzrzcnNo-"
      },
      "source": [
        "## Q6: Displaying a few random results from the test set\n",
        "\n",
        "Let's look at some results, to visualize in which cases our network makes mistakes.\n",
        "\n",
        "Using Python's **random** package and your trained neural network, display 10 results from the test set.\n",
        "\n",
        "HINT: to get the network output for a sample as a number, you can use:\n",
        "\n",
        "```\n",
        "    net(convert(sample[0]).unsqueeze(0)).max(1)[1]\n",
        "```\n",
        "\n"
      ]
    },
    {
      "cell_type": "code",
      "metadata": {
        "id": "dxLkndAYnqwK",
        "colab": {
          "base_uri": "https://localhost:8080/",
          "height": 1000
        },
        "outputId": "95efd8ea-2726-49cc-a5b9-eeaee227230e"
      },
      "source": [
        "import random\n",
        "import matplotlib.pyplot as plt\n",
        "\n",
        "# Get the MNIST test set in PIL format (non-tensor format)\n",
        "mnist_test_dataset_PIL = torchvision.datasets.MNIST(\".\", train=False, download=True)\n",
        "\n",
        "net.eval()\n",
        "\n",
        "# Disable gradient computation as it is not needed during evaluation\n",
        "with torch.no_grad():\n",
        "    for i in range(10):\n",
        "        # Pick a random sample index from the test set\n",
        "        idx = random.randint(0, len(mnist_test_dataset_PIL) - 1)\n",
        "\n",
        "        # Get the image (PIL format) and label\n",
        "        sample = mnist_test_dataset_PIL[idx]\n",
        "        img, true_label = sample\n",
        "\n",
        "        # Convert the image to the correct format for the network\n",
        "        input_img = convert(img).unsqueeze(0)\n",
        "\n",
        "        # Get the network's predicted label\n",
        "        predicted_label = net(input_img).max(1)[1].item()\n",
        "\n",
        "        # Plot the image using matplotlib\n",
        "        plt.imshow(img, cmap='gray')\n",
        "        plt.title(f\"True Label: {true_label}, Predicted Label: {predicted_label}\")\n",
        "        plt.axis('off')\n",
        "        plt.show()\n"
      ],
      "execution_count": null,
      "outputs": [
        {
          "output_type": "display_data",
          "data": {
            "text/plain": [
              "<Figure size 640x480 with 1 Axes>"
            ],
            "image/png": "[encoded data removed]"
          },
          "metadata": {}
        },
        {
          "output_type": "display_data",
          "data": {
            "text/plain": [
              "<Figure size 640x480 with 1 Axes>"
            ],
            "image/png": "[encoded data removed]"
          },
          "metadata": {}
        },
        {
          "output_type": "display_data",
          "data": {
            "text/plain": [
              "<Figure size 640x480 with 1 Axes>"
            ],
            "image/png": "[encoded data removed]"
          },
          "metadata": {}
        },
        {
          "output_type": "display_data",
          "data": {
            "text/plain": [
              "<Figure size 640x480 with 1 Axes>"
            ],
            "image/png": "[encoded data removed]"
          },
          "metadata": {}
        },
        {
          "output_type": "display_data",
          "data": {
            "text/plain": [
              "<Figure size 640x480 with 1 Axes>"
            ],
            "image/png": "[encoded data removed]"
          },
          "metadata": {}
        },
        {
          "output_type": "display_data",
          "data": {
            "text/plain": [
              "<Figure size 640x480 with 1 Axes>"
            ],
            "image/png": "[encoded data removed]"
          },
          "metadata": {}
        },
        {
          "output_type": "display_data",
          "data": {
            "text/plain": [
              "<Figure size 640x480 with 1 Axes>"
            ],
            "image/png": "[encoded data removed]"
          },
          "metadata": {}
        },
        {
          "output_type": "display_data",
          "data": {
            "text/plain": [
              "<Figure size 640x480 with 1 Axes>"
            ],
            "image/png": "[encoded data removed]"
          },
          "metadata": {}
        },
        {
          "output_type": "display_data",
          "data": {
            "text/plain": [
              "<Figure size 640x480 with 1 Axes>"
            ],
            "image/png": "[encoded data removed]"
          },
          "metadata": {}
        },
        {
          "output_type": "display_data",
          "data": {
            "text/plain": [
              "<Figure size 640x480 with 1 Axes>"
            ],
            "image/png": "[encoded data removed]"
          },
          "metadata": {}
        }
      ]
    },
    {
      "cell_type": "markdown",
      "metadata": {
        "id": "on5O7Ihdwt3r"
      },
      "source": [
        "# Part 4: Creating a better training loop\n",
        "\n",
        "Our basic training method works, but as you might have noticed it is pretty slow.\n",
        "In this section, we improve it to create a \"good\" PyTorch training loop, by using batches, data loaders, validation data, and GPUs."
      ]
    },
    {
      "cell_type": "markdown",
      "metadata": {
        "id": "JQjrMBqHw20t"
      },
      "source": [
        "## Splitting between validation and training data\n",
        "\n",
        "It is common to split the training dataset into a training set and a validation set.\n",
        "\n",
        "The network is trained on the training set, and its performance is validated at each epoch using the validation set.\n",
        "\n",
        "This is used to prevent overfitting. If the training accuracy/loss improves but the validation accuracy/loss stagnate or worsen we are **overfitting** the training set.\n",
        "\n",
        "The final evaluation is still done on the test set.\n",
        "\n",
        "![Texte alternatif…](https://miro.medium.com/max/1552/1*Nv2NNALuokZEcV6hYEHdGA.png)\n",
        "\n",
        "This is very easy in PyTorch. Let's split our MNIST **Dataset** into two random **Subsets** (it's a subclass of **Dataset**)."
      ]
    },
    {
      "cell_type": "code",
      "metadata": {
        "id": "2W1GXJ09_7S0",
        "colab": {
          "base_uri": "https://localhost:8080/"
        },
        "outputId": "b8f4d5b8-5c45-43ae-d475-c0eab080e1d9"
      },
      "source": [
        "## Load Dataset\n",
        "mnist_dataset = torchvision.datasets.MNIST(\".\", train=True, transform=convert, download=True)\n",
        "\n",
        "## Percentage of validation data\n",
        "validation_split = 0.1\n",
        "\n",
        "N_val_samples = round(validation_split * len(mnist_dataset))\n",
        "\n",
        "## Split into two Subset\n",
        "train_set, val_set = torch.utils.data.random_split(mnist_dataset, [len(mnist_dataset) - N_val_samples, N_val_samples])\n",
        "\n",
        "# train and val are Subset objects\n",
        "print(train_set)\n",
        "print(val_set)\n",
        "\n",
        "# Their sizes should be correct\n",
        "len(train_set) + len(val_set) == len(mnist_dataset)"
      ],
      "execution_count": null,
      "outputs": [
        {
          "output_type": "stream",
          "name": "stdout",
          "text": [
            "<torch.utils.data.dataset.Subset object at 0x7e8533976440>\n",
            "<torch.utils.data.dataset.Subset object at 0x7e8533976ce0>\n"
          ]
        },
        {
          "output_type": "execute_result",
          "data": {
            "text/plain": [
              "True"
            ]
          },
          "metadata": {},
          "execution_count": 34
        }
      ]
    },
    {
      "cell_type": "markdown",
      "metadata": {
        "id": "uJxljKdjxkcm"
      },
      "source": [
        "## DataLoaders in PyTorch\n",
        "\n",
        "In PyTorch, **DataLoaders** are tools that load **batches** of data from a **Dataset** (or any of its subclasses).\n",
        "\n",
        "Training in batches of multiple samples (8, 32, 512...) can be a lot faster thanks to parallelism. Also, it helps with gradient descent by averaging the gradient over the whole batch.\n",
        "\n",
        "Documentation on DataLoaders is here: https://pytorch.org/docs/stable/data.html"
      ]
    },
    {
      "cell_type": "code",
      "metadata": {
        "id": "z0zPFABa8ATU",
        "colab": {
          "base_uri": "https://localhost:8080/"
        },
        "outputId": "da6a66c0-0b8d-4d35-f27f-a8ed0f3535e3"
      },
      "source": [
        "import torch\n",
        "from torch.utils.data import DataLoader\n",
        "\n",
        "# Set the batch size\n",
        "BATCH_SIZE = 64\n",
        "\n",
        "# Create a DataLoader for the training set\n",
        "# num_workers = number of CPU cores\n",
        "mnist_train_dl = torch.utils.data.DataLoader(train_set, batch_size=BATCH_SIZE, shuffle=True, num_workers=4)"
      ],
      "execution_count": null,
      "outputs": [
        {
          "output_type": "stream",
          "name": "stderr",
          "text": [
            "/usr/local/lib/python3.10/dist-packages/torch/utils/data/dataloader.py:557: UserWarning: This DataLoader will create 4 worker processes in total. Our suggested max number of worker in current system is 2, which is smaller than what this DataLoader is going to create. Please be aware that excessive worker creation might get DataLoader running slow or even freeze, lower the worker number to avoid potential slowness/freeze if necessary.\n",
            "  warnings.warn(_create_warning_msg(\n"
          ]
        }
      ]
    },
    {
      "cell_type": "markdown",
      "metadata": {
        "id": "baGmNj1l8kJ5"
      },
      "source": [
        "## Q7: Use the DataLoaders\n",
        "\n",
        "Using the DataLoader we just created, **print the number of batches it contains (you should see len(train_set)/batch_size), and print a batch from the dataset.**\n",
        "\n",
        "HINT: you can get a Python iterator from a DataLoader using the **iter** function, because a DataLoader is an **iterable** object. https://wiki.python.org/moin/Iterator\n",
        "\n",
        "You should see a number of samples and labels equal to your batch size."
      ]
    },
    {
      "cell_type": "code",
      "metadata": {
        "id": "lJT3P6B386cS",
        "colab": {
          "base_uri": "https://localhost:8080/"
        },
        "outputId": "c6441737-8226-418c-eacd-8b2d4d43848b"
      },
      "source": [
        "## Print the length of the dataloader\n",
        "\n",
        "print(len(mnist_train_dl))\n",
        "\n",
        "## Print a batch\n",
        "\n",
        "batch = next(iter(mnist_train_dl))\n",
        "print(batch[0].shape)\n",
        "print(batch[1])"
      ],
      "execution_count": null,
      "outputs": [
        {
          "output_type": "stream",
          "name": "stdout",
          "text": [
            "844\n"
          ]
        },
        {
          "output_type": "stream",
          "name": "stderr",
          "text": [
            "/usr/local/lib/python3.10/dist-packages/torch/utils/data/dataloader.py:557: UserWarning: This DataLoader will create 4 worker processes in total. Our suggested max number of worker in current system is 2, which is smaller than what this DataLoader is going to create. Please be aware that excessive worker creation might get DataLoader running slow or even freeze, lower the worker number to avoid potential slowness/freeze if necessary.\n",
            "  warnings.warn(_create_warning_msg(\n"
          ]
        },
        {
          "output_type": "stream",
          "name": "stdout",
          "text": [
            "torch.Size([64, 1, 28, 28])\n",
            "tensor([9, 0, 6, 5, 3, 4, 1, 9, 0, 5, 2, 1, 1, 5, 9, 2, 6, 9, 8, 2, 1, 9, 7, 4,\n",
            "        6, 4, 1, 6, 4, 5, 9, 8, 3, 1, 4, 2, 3, 3, 9, 0, 4, 7, 8, 2, 0, 0, 7, 7,\n",
            "        8, 0, 4, 2, 5, 7, 1, 6, 8, 5, 1, 6, 0, 8, 5, 5])\n"
          ]
        }
      ]
    },
    {
      "cell_type": "markdown",
      "metadata": {
        "id": "10sQTysRYSo8"
      },
      "source": [
        "## Q8: Create a DataLoader for the validation set\n",
        "\n",
        "In the same way, **create a DataLoader for the validation set**."
      ]
    },
    {
      "cell_type": "code",
      "metadata": {
        "id": "cnGKlOWKYQzv",
        "colab": {
          "base_uri": "https://localhost:8080/"
        },
        "outputId": "fe117aba-c5ed-4916-d5d5-551f28762a35"
      },
      "source": [
        "mnist_val_dl = torch.utils.data.DataLoader(val_set, batch_size=BATCH_SIZE, shuffle=False, num_workers=4)\n",
        "\n",
        "batch_val = next(iter(mnist_val_dl))\n",
        "\n",
        "print(batch_val[0].shape)\n",
        "print(batch_val[1])"
      ],
      "execution_count": null,
      "outputs": [
        {
          "output_type": "stream",
          "name": "stdout",
          "text": [
            "torch.Size([64, 1, 28, 28])\n",
            "tensor([5, 7, 7, 9, 1, 3, 0, 4, 9, 8, 6, 9, 6, 1, 7, 4, 9, 8, 2, 3, 4, 4, 3, 1,\n",
            "        3, 9, 7, 8, 9, 2, 0, 6, 5, 8, 6, 0, 9, 3, 1, 2, 6, 4, 5, 1, 8, 1, 7, 4,\n",
            "        7, 2, 1, 3, 3, 9, 3, 9, 4, 1, 9, 3, 5, 6, 7, 5])\n"
          ]
        }
      ]
    },
    {
      "cell_type": "markdown",
      "metadata": {
        "id": "2z0r2RSMx-Tx"
      },
      "source": [
        "## Using a GPU\n",
        "\n",
        "Using a GPU in PyTorch is very easy and will make our training A LOT faster.\n",
        "\n",
        "To perform calculations on a batch on the GPU, our batch has to be moved to the GPU.\n",
        "\n",
        "To move a Tensor to the GPU memory, use the **cuda()** method.\n",
        "\n",
        "If you do not have a GPU, you will get a cuda runtime error. To add a GPU to Colab, go to Runtime -> Change Runtime Type -> Hardware Accelerator -> GPU."
      ]
    },
    {
      "cell_type": "code",
      "metadata": {
        "id": "fJ9ICPEYZe2G",
        "colab": {
          "base_uri": "https://localhost:8080/"
        },
        "outputId": "6e664bd3-8896-46f0-e447-c32b7ca1cdb7"
      },
      "source": [
        "batch = torch.Tensor(next(iter(mnist_train_dl))[0])\n",
        "\n",
        "batch = batch.cuda()\n",
        "\n",
        "print(batch)"
      ],
      "execution_count": null,
      "outputs": [
        {
          "output_type": "stream",
          "name": "stderr",
          "text": [
            "/usr/local/lib/python3.10/dist-packages/torch/utils/data/dataloader.py:557: UserWarning: This DataLoader will create 4 worker processes in total. Our suggested max number of worker in current system is 2, which is smaller than what this DataLoader is going to create. Please be aware that excessive worker creation might get DataLoader running slow or even freeze, lower the worker number to avoid potential slowness/freeze if necessary.\n",
            "  warnings.warn(_create_warning_msg(\n"
          ]
        },
        {
          "output_type": "stream",
          "name": "stdout",
          "text": [
            "tensor([[[[0., 0., 0.,  ..., 0., 0., 0.],\n",
            "          [0., 0., 0.,  ..., 0., 0., 0.],\n",
            "          [0., 0., 0.,  ..., 0., 0., 0.],\n",
            "          ...,\n",
            "          [0., 0., 0.,  ..., 0., 0., 0.],\n",
            "          [0., 0., 0.,  ..., 0., 0., 0.],\n",
            "          [0., 0., 0.,  ..., 0., 0., 0.]]],\n",
            "\n",
            "\n",
            "        [[[0., 0., 0.,  ..., 0., 0., 0.],\n",
            "          [0., 0., 0.,  ..., 0., 0., 0.],\n",
            "          [0., 0., 0.,  ..., 0., 0., 0.],\n",
            "          ...,\n",
            "          [0., 0., 0.,  ..., 0., 0., 0.],\n",
            "          [0., 0., 0.,  ..., 0., 0., 0.],\n",
            "          [0., 0., 0.,  ..., 0., 0., 0.]]],\n",
            "\n",
            "\n",
            "        [[[0., 0., 0.,  ..., 0., 0., 0.],\n",
            "          [0., 0., 0.,  ..., 0., 0., 0.],\n",
            "          [0., 0., 0.,  ..., 0., 0., 0.],\n",
            "          ...,\n",
            "          [0., 0., 0.,  ..., 0., 0., 0.],\n",
            "          [0., 0., 0.,  ..., 0., 0., 0.],\n",
            "          [0., 0., 0.,  ..., 0., 0., 0.]]],\n",
            "\n",
            "\n",
            "        ...,\n",
            "\n",
            "\n",
            "        [[[0., 0., 0.,  ..., 0., 0., 0.],\n",
            "          [0., 0., 0.,  ..., 0., 0., 0.],\n",
            "          [0., 0., 0.,  ..., 0., 0., 0.],\n",
            "          ...,\n",
            "          [0., 0., 0.,  ..., 0., 0., 0.],\n",
            "          [0., 0., 0.,  ..., 0., 0., 0.],\n",
            "          [0., 0., 0.,  ..., 0., 0., 0.]]],\n",
            "\n",
            "\n",
            "        [[[0., 0., 0.,  ..., 0., 0., 0.],\n",
            "          [0., 0., 0.,  ..., 0., 0., 0.],\n",
            "          [0., 0., 0.,  ..., 0., 0., 0.],\n",
            "          ...,\n",
            "          [0., 0., 0.,  ..., 0., 0., 0.],\n",
            "          [0., 0., 0.,  ..., 0., 0., 0.],\n",
            "          [0., 0., 0.,  ..., 0., 0., 0.]]],\n",
            "\n",
            "\n",
            "        [[[0., 0., 0.,  ..., 0., 0., 0.],\n",
            "          [0., 0., 0.,  ..., 0., 0., 0.],\n",
            "          [0., 0., 0.,  ..., 0., 0., 0.],\n",
            "          ...,\n",
            "          [0., 0., 0.,  ..., 0., 0., 0.],\n",
            "          [0., 0., 0.,  ..., 0., 0., 0.],\n",
            "          [0., 0., 0.,  ..., 0., 0., 0.]]]], device='cuda:0')\n"
          ]
        }
      ]
    },
    {
      "cell_type": "markdown",
      "metadata": {
        "id": "QobGMoHtb7BD"
      },
      "source": [
        "You can see \"device='cuda:0'\", which means our Tensor has been moved to the first GPU in the system!\n",
        "\n",
        "Now, we also need to move our neural network to the GPU, because the computations between the network weights and the training data will happen on the GPU.\n",
        "\n",
        "For this, we also use the **cuda()** method."
      ]
    },
    {
      "cell_type": "code",
      "metadata": {
        "id": "R48V8VJTcUbM"
      },
      "source": [
        "## Create an instance of our network\n",
        "net = MyFirstNetwork()\n",
        "\n",
        "## Move it to the GPU\n",
        "net = net.cuda()"
      ],
      "execution_count": null,
      "outputs": []
    },
    {
      "cell_type": "markdown",
      "metadata": {
        "id": "bnrI3i7icmGp"
      },
      "source": [
        "Let's test this by computing an output on the GPU."
      ]
    },
    {
      "cell_type": "code",
      "metadata": {
        "id": "AaOSIDZOcrdA",
        "colab": {
          "base_uri": "https://localhost:8080/"
        },
        "outputId": "266bd554-8fd2-4993-ac11-11ef041a7de7"
      },
      "source": [
        "output = net(batch)\n",
        "\n",
        "print(output)"
      ],
      "execution_count": null,
      "outputs": [
        {
          "output_type": "stream",
          "name": "stdout",
          "text": [
            "tensor([[-2.2029, -2.2985, -2.3356, -2.3300, -2.2960, -2.3597, -2.2915, -2.3725,\n",
            "         -2.3960, -2.1672],\n",
            "        [-2.2033, -2.3027, -2.3369, -2.3309, -2.2921, -2.3655, -2.2884, -2.3682,\n",
            "         -2.3937, -2.1679],\n",
            "        [-2.2008, -2.2986, -2.3438, -2.3223, -2.2940, -2.3661, -2.2866, -2.3728,\n",
            "         -2.3888, -2.1752],\n",
            "        [-2.2034, -2.2985, -2.3402, -2.3224, -2.2921, -2.3648, -2.2874, -2.3714,\n",
            "         -2.3892, -2.1784],\n",
            "        [-2.2036, -2.2992, -2.3366, -2.3263, -2.2922, -2.3609, -2.2923, -2.3715,\n",
            "         -2.3981, -2.1689],\n",
            "        [-2.2017, -2.2994, -2.3408, -2.3267, -2.2928, -2.3630, -2.2904, -2.3671,\n",
            "         -2.3944, -2.1726],\n",
            "        [-2.1979, -2.3022, -2.3415, -2.3275, -2.2933, -2.3639, -2.2949, -2.3695,\n",
            "         -2.3873, -2.1712],\n",
            "        [-2.2001, -2.3028, -2.3382, -2.3321, -2.2922, -2.3584, -2.2895, -2.3713,\n",
            "         -2.3903, -2.1738],\n",
            "        [-2.2011, -2.3055, -2.3432, -2.3246, -2.2904, -2.3619, -2.2864, -2.3658,\n",
            "         -2.4003, -2.1707],\n",
            "        [-2.1997, -2.2980, -2.3394, -2.3281, -2.2933, -2.3627, -2.2945, -2.3721,\n",
            "         -2.3936, -2.1685],\n",
            "        [-2.1996, -2.3000, -2.3410, -2.3272, -2.2951, -2.3626, -2.2929, -2.3673,\n",
            "         -2.3911, -2.1722],\n",
            "        [-2.2012, -2.3034, -2.3406, -2.3244, -2.2909, -2.3609, -2.2910, -2.3706,\n",
            "         -2.3960, -2.1705],\n",
            "        [-2.2018, -2.3015, -2.3430, -2.3301, -2.2906, -2.3632, -2.2902, -2.3678,\n",
            "         -2.3952, -2.1668],\n",
            "        [-2.2028, -2.2973, -2.3355, -2.3279, -2.2922, -2.3642, -2.2911, -2.3748,\n",
            "         -2.3868, -2.1755],\n",
            "        [-2.1987, -2.3043, -2.3397, -2.3295, -2.2920, -2.3644, -2.2870, -2.3720,\n",
            "         -2.3914, -2.1708],\n",
            "        [-2.2015, -2.3029, -2.3503, -2.3252, -2.2855, -2.3615, -2.2882, -2.3661,\n",
            "         -2.3914, -2.1760],\n",
            "        [-2.2022, -2.3006, -2.3381, -2.3279, -2.2932, -2.3599, -2.2874, -2.3711,\n",
            "         -2.3953, -2.1733],\n",
            "        [-2.1999, -2.2975, -2.3381, -2.3300, -2.2918, -2.3597, -2.2973, -2.3711,\n",
            "         -2.3935, -2.1704],\n",
            "        [-2.2016, -2.2998, -2.3429, -2.3242, -2.2897, -2.3627, -2.2874, -2.3728,\n",
            "         -2.3898, -2.1775],\n",
            "        [-2.2067, -2.2954, -2.3354, -2.3240, -2.2926, -2.3600, -2.2934, -2.3774,\n",
            "         -2.3904, -2.1730],\n",
            "        [-2.2026, -2.3019, -2.3405, -2.3274, -2.2940, -2.3650, -2.2822, -2.3678,\n",
            "         -2.3931, -2.1744],\n",
            "        [-2.2046, -2.2975, -2.3369, -2.3236, -2.2948, -2.3629, -2.2885, -2.3734,\n",
            "         -2.3869, -2.1783],\n",
            "        [-2.2029, -2.3035, -2.3417, -2.3232, -2.2914, -2.3617, -2.2900, -2.3711,\n",
            "         -2.3905, -2.1727],\n",
            "        [-2.2118, -2.2958, -2.3404, -2.3197, -2.2913, -2.3643, -2.2842, -2.3752,\n",
            "         -2.3884, -2.1764],\n",
            "        [-2.2018, -2.3006, -2.3379, -2.3307, -2.2938, -2.3630, -2.2891, -2.3664,\n",
            "         -2.3882, -2.1763],\n",
            "        [-2.2003, -2.3017, -2.3410, -2.3274, -2.2922, -2.3572, -2.2915, -2.3695,\n",
            "         -2.3921, -2.1754],\n",
            "        [-2.2023, -2.3001, -2.3398, -2.3252, -2.2930, -2.3616, -2.2936, -2.3678,\n",
            "         -2.3913, -2.1737],\n",
            "        [-2.2076, -2.2968, -2.3371, -2.3303, -2.2864, -2.3574, -2.2973, -2.3735,\n",
            "         -2.3940, -2.1685],\n",
            "        [-2.2009, -2.3032, -2.3398, -2.3289, -2.2921, -2.3647, -2.2876, -2.3708,\n",
            "         -2.3925, -2.1693],\n",
            "        [-2.2027, -2.3024, -2.3420, -2.3322, -2.2914, -2.3619, -2.2882, -2.3652,\n",
            "         -2.3920, -2.1709],\n",
            "        [-2.2000, -2.3003, -2.3384, -2.3312, -2.2945, -2.3554, -2.2942, -2.3735,\n",
            "         -2.3898, -2.1716],\n",
            "        [-2.2015, -2.2971, -2.3329, -2.3262, -2.2937, -2.3654, -2.2913, -2.3714,\n",
            "         -2.3915, -2.1773],\n",
            "        [-2.1982, -2.3055, -2.3408, -2.3306, -2.2923, -2.3653, -2.2869, -2.3718,\n",
            "         -2.3887, -2.1698],\n",
            "        [-2.1993, -2.3012, -2.3379, -2.3333, -2.2924, -2.3643, -2.2870, -2.3662,\n",
            "         -2.3955, -2.1723],\n",
            "        [-2.2044, -2.2971, -2.3434, -2.3289, -2.2852, -2.3592, -2.2898, -2.3736,\n",
            "         -2.3926, -2.1745],\n",
            "        [-2.2001, -2.3033, -2.3433, -2.3263, -2.2930, -2.3610, -2.2917, -2.3697,\n",
            "         -2.3901, -2.1707],\n",
            "        [-2.2001, -2.3001, -2.3419, -2.3242, -2.2955, -2.3641, -2.2933, -2.3661,\n",
            "         -2.3880, -2.1749],\n",
            "        [-2.2062, -2.2955, -2.3413, -2.3235, -2.2889, -2.3626, -2.2862, -2.3745,\n",
            "         -2.3894, -2.1797],\n",
            "        [-2.2035, -2.2948, -2.3388, -2.3251, -2.2897, -2.3636, -2.2930, -2.3713,\n",
            "         -2.3979, -2.1718],\n",
            "        [-2.1974, -2.3032, -2.3422, -2.3299, -2.2927, -2.3633, -2.2901, -2.3657,\n",
            "         -2.3954, -2.1701],\n",
            "        [-2.2019, -2.3030, -2.3458, -2.3212, -2.2930, -2.3642, -2.2899, -2.3699,\n",
            "         -2.3875, -2.1724],\n",
            "        [-2.2029, -2.3017, -2.3402, -2.3246, -2.2926, -2.3603, -2.2943, -2.3721,\n",
            "         -2.3922, -2.1683],\n",
            "        [-2.2059, -2.3004, -2.3379, -2.3281, -2.2905, -2.3586, -2.2909, -2.3708,\n",
            "         -2.3927, -2.1724],\n",
            "        [-2.1996, -2.3004, -2.3430, -2.3262, -2.2909, -2.3615, -2.2916, -2.3677,\n",
            "         -2.3887, -2.1784],\n",
            "        [-2.1996, -2.3035, -2.3426, -2.3225, -2.2944, -2.3643, -2.2880, -2.3692,\n",
            "         -2.3916, -2.1734],\n",
            "        [-2.1995, -2.2990, -2.3411, -2.3303, -2.2945, -2.3628, -2.2914, -2.3672,\n",
            "         -2.3898, -2.1733],\n",
            "        [-2.2075, -2.2986, -2.3374, -2.3311, -2.2929, -2.3589, -2.2918, -2.3712,\n",
            "         -2.3918, -2.1677],\n",
            "        [-2.1999, -2.3020, -2.3414, -2.3291, -2.2932, -2.3626, -2.2878, -2.3686,\n",
            "         -2.3917, -2.1727],\n",
            "        [-2.1977, -2.3032, -2.3413, -2.3296, -2.2929, -2.3633, -2.2885, -2.3675,\n",
            "         -2.3904, -2.1746],\n",
            "        [-2.2001, -2.3001, -2.3402, -2.3293, -2.2920, -2.3574, -2.2922, -2.3707,\n",
            "         -2.3977, -2.1700],\n",
            "        [-2.2063, -2.3037, -2.3378, -2.3227, -2.2878, -2.3640, -2.2875, -2.3748,\n",
            "         -2.3972, -2.1681],\n",
            "        [-2.2034, -2.2994, -2.3365, -2.3213, -2.2964, -2.3613, -2.2901, -2.3745,\n",
            "         -2.3903, -2.1750],\n",
            "        [-2.1968, -2.3027, -2.3423, -2.3284, -2.2943, -2.3634, -2.2900, -2.3660,\n",
            "         -2.3943, -2.1715],\n",
            "        [-2.1981, -2.3016, -2.3441, -2.3256, -2.2891, -2.3607, -2.2955, -2.3713,\n",
            "         -2.3915, -2.1718],\n",
            "        [-2.2032, -2.3024, -2.3416, -2.3284, -2.2930, -2.3607, -2.2906, -2.3692,\n",
            "         -2.3941, -2.1665],\n",
            "        [-2.2006, -2.2973, -2.3408, -2.3225, -2.2949, -2.3640, -2.2881, -2.3731,\n",
            "         -2.3874, -2.1794],\n",
            "        [-2.2054, -2.2974, -2.3360, -2.3270, -2.2911, -2.3582, -2.2907, -2.3764,\n",
            "         -2.3918, -2.1744],\n",
            "        [-2.2040, -2.3006, -2.3403, -2.3294, -2.2877, -2.3613, -2.2919, -2.3666,\n",
            "         -2.3931, -2.1737],\n",
            "        [-2.2023, -2.2961, -2.3415, -2.3211, -2.2939, -2.3641, -2.2889, -2.3715,\n",
            "         -2.3896, -2.1789],\n",
            "        [-2.2018, -2.3015, -2.3379, -2.3301, -2.2932, -2.3626, -2.2882, -2.3698,\n",
            "         -2.3929, -2.1711],\n",
            "        [-2.2033, -2.3000, -2.3384, -2.3292, -2.2919, -2.3585, -2.2918, -2.3700,\n",
            "         -2.3949, -2.1710],\n",
            "        [-2.1990, -2.3010, -2.3419, -2.3279, -2.2920, -2.3615, -2.2898, -2.3678,\n",
            "         -2.3922, -2.1754],\n",
            "        [-2.2028, -2.2980, -2.3436, -2.3248, -2.2885, -2.3638, -2.2923, -2.3673,\n",
            "         -2.3911, -2.1761],\n",
            "        [-2.2037, -2.3014, -2.3381, -2.3266, -2.2917, -2.3583, -2.2921, -2.3715,\n",
            "         -2.3920, -2.1729]], device='cuda:0', grad_fn=<LogSoftmaxBackward0>)\n"
          ]
        }
      ]
    },
    {
      "cell_type": "markdown",
      "metadata": {
        "id": "iCFI_QT00uYp"
      },
      "source": [
        "## Q9: Our new training/validation loop\n",
        "\n",
        "Now, we have all the necessary bricks to build our new improved training/validation loop!\n",
        "\n",
        "We have already written the training loop for you. Complete the validation loop!\n",
        "\n",
        "You should see that your network trains very fast on the whole training set now. One epoch should take about 10 seconds, depending on your batch size, compared to about 3 minutes on the CPU."
      ]
    },
    {
      "cell_type": "code",
      "metadata": {
        "id": "WbS2h_Lmdsla"
      },
      "source": [
        "##RE-RUN THIS CODE TO GET A \"NEW\" NETWORK\n",
        "\n",
        "LEARNING_RATE = 0.001\n",
        "MOMENTUM = 0\n",
        "\n",
        "## Create an instance of our network\n",
        "net = MyFirstNetwork()\n",
        "\n",
        "## Move it to the GPU\n",
        "net = net.cuda()\n",
        "\n",
        "# Negative log likelihood loss\n",
        "criterion = nn.NLLLoss()\n",
        "\n",
        "# Stochastic Gradient Descent\n",
        "optimizer = torch.optim.SGD(net.parameters(), lr=LEARNING_RATE, momentum=MOMENTUM)"
      ],
      "execution_count": null,
      "outputs": []
    },
    {
      "cell_type": "code",
      "metadata": {
        "id": "3fRq7nKkdmmI",
        "colab": {
          "base_uri": "https://localhost:8080/",
          "height": 573,
          "referenced_widgets": [
            "78fe196f9b6b43fd8eb048f78e90d716",
            "1b94d67ec99641ab87d5cd50d5ceb30b",
            "635539665f344244b03194439af95f9f",
            "6880f53b28aa460a88cdf1519ed204b1",
            "065df5e2121244bdba44ee48f769d6fa",
            "f0708e41cda24d96be9a53f039ac2541",
            "2baa00d33f864b20984b1a06b92f1f5c",
            "51a397ae56474cfdaddf9f990b884120",
            "645dbdf81eae4e98bcbca4339e4ed10d",
            "ba11574d44b5482fbc7606638ae1a8b7",
            "86a14596fc8044dda0cf4b5e2418955e",
            "818cc9b5a2fa46648aaac6292c753b78",
            "c758a1a1cf214a0bab7c831f26b30487",
            "0051a1e61fa5417ab1f4687ec8a8bb82",
            "727533f1f3fc4b06a08317a652f36182",
            "a56589da3f7849728a77af654d7cecae",
            "c36a4ee42a8748c897b138a9e07019ce",
            "225629e977324b43a7ab57d2d0ad172c",
            "870f0200665447609ba45663b5f68e7c",
            "f588be35050d41a8af4346859a5895da",
            "c7a3ba2ad07e423b90fdff584adb27de",
            "7f6c82b288db44e88c80d9612eea0f9f",
            "a9c5a968b09149de9895186116d11634",
            "939c91525c214e2eaa86933e76972133",
            "29b7258e0ed844ce9441f90eb550fa6b",
            "e5495b26ecb14babb40ac0ef8dff81d7",
            "0beaf51b7e314883851cf2bf8f49afb5",
            "c3812877fbd44d379aba1d9c46430d2d",
            "c40e2dad647a4ce4b2af1d93724651a8",
            "f1eb65c60dea4e3ea80a770a42baef5d",
            "73745150474d4511836214c59c40fc69",
            "d3c635d4bfcf40049da21f5401764599",
            "c914a4ea2813405293054a286c2372cd",
            "50370992f4394748a2ec77203c97e5c5",
            "a452af25b12a42828f0783f94871735a",
            "fb674fea2b6f460e8354f88adc25a619",
            "05df9168ff7e422d864a04e365ed8356",
            "31624d52b2f0459184eeb80e760a94dd",
            "3bacc57f18bb4f16b90be2c701c164a4",
            "c4d7c9a0b143453c8d078c97c1614800",
            "5e2fc408f9664f2fad4647ee9dc56acf",
            "a5c69fe420934811975cf3b9f4728ace",
            "fa9f3ef7fb204bf8a3a36f8077f6745d",
            "86d05edcd844443e864e9f64cd4347f4"
          ]
        },
        "outputId": "3599294c-3169-4d1b-c23e-c88d0d9c2ed8"
      },
      "source": [
        "tqdm_notebook = tqdm\n",
        "\n",
        "## NUMBER OF EPOCHS TO TRAIN\n",
        "N_EPOCHS = 20\n",
        "\n",
        "epoch_loss, epoch_acc, epoch_val_loss, epoch_val_acc = [], [], [], []\n",
        "\n",
        "for e in tqdm_notebook(range(N_EPOCHS), desc='Epochs'):\n",
        "\n",
        "\n",
        "  ### TRAINING LOOP\n",
        "  running_loss = 0\n",
        "  running_accuracy = 0\n",
        "\n",
        "  ## Put the network in training mode\n",
        "  net.train()\n",
        "\n",
        "  for i, batch in enumerate(tqdm_notebook(mnist_train_dl, desc=\"Training Batches\")):\n",
        "\n",
        "    # Get a batch from the dataloader\n",
        "    x = batch[0]\n",
        "    labels = batch[1]\n",
        "\n",
        "    # move the batch to GPU\n",
        "    x = x.cuda()\n",
        "    labels = labels.cuda()\n",
        "\n",
        "    # Compute the network output\n",
        "    y = net(x)\n",
        "\n",
        "    # Compute the loss\n",
        "    loss = criterion(y, labels)\n",
        "\n",
        "    # Reset the gradients\n",
        "    optimizer.zero_grad()\n",
        "\n",
        "    # Compute the gradients\n",
        "    loss.backward()\n",
        "\n",
        "    # Apply one step of the descent algorithm to update the weights\n",
        "    optimizer.step()\n",
        "\n",
        "    ## Compute some statistics\n",
        "    with torch.no_grad():\n",
        "      running_loss += loss.item()\n",
        "      running_accuracy += (y.max(1)[1] == labels).sum().item()\n",
        "\n",
        "  print(\"Training accuracy:\", running_accuracy/float(len(train_set)),\n",
        "        \"Training loss:\", running_loss/float(len(train_set)))\n",
        "\n",
        "  epoch_loss.append(running_loss/len(train_set))\n",
        "  epoch_acc.append(running_accuracy/len(train_set))\n",
        "\n",
        "  ### VALIDATION LOOP\n",
        "  ## Put the network in validation mode\n",
        "  net.eval()\n",
        "\n",
        "  running_val_loss = 0\n",
        "  running_val_accuracy = 0\n",
        "\n",
        "  for i, batch in enumerate(tqdm_notebook(mnist_val_dl, desc=\"Validation Batches\")):\n",
        "\n",
        "    # Get a batch from the dataloader\n",
        "    x = batch[0]\n",
        "    labels = batch[1]\n",
        "\n",
        "    # move the batch to GPU\n",
        "    x = x.cuda()\n",
        "    labels = labels.cuda()\n",
        "\n",
        "    # Compute the network output\n",
        "    y = net(x)\n",
        "\n",
        "    ## Compute some statistics\n",
        "    with torch.no_grad():\n",
        "      running_loss += loss.item()\n",
        "      running_accuracy += (y.max(1)[1] == labels).sum().item()\n",
        "\n",
        "  epoch_val_loss.append(running_loss/len(val_set))\n",
        "  epoch_val_acc.append(running_accuracy/len(val_set))\n",
        "\n",
        "  print(\"Val accuracy:\", running_accuracy/float(len(val_set)),\n",
        "        \"Val loss:\", running_loss/float(len(val_set)))\n"
      ],
      "execution_count": null,
      "outputs": [
        {
          "output_type": "display_data",
          "data": {
            "text/plain": [
              "Epochs:   0%|          | 0/20 [00:00<?, ?it/s]"
            ],
            "application/vnd.jupyter.widget-view+json": {
              "version_major": 2,
              "version_minor": 0,
              "model_id": "78fe196f9b6b43fd8eb048f78e90d716"
            }
          },
          "metadata": {}
        },
        {
          "output_type": "display_data",
          "data": {
            "text/plain": [
              "Training Batches:   0%|          | 0/844 [00:00<?, ?it/s]"
            ],
            "application/vnd.jupyter.widget-view+json": {
              "version_major": 2,
              "version_minor": 0,
              "model_id": "818cc9b5a2fa46648aaac6292c753b78"
            }
          },
          "metadata": {}
        },
        {
          "output_type": "stream",
          "name": "stderr",
          "text": [
            "/usr/local/lib/python3.10/dist-packages/torch/utils/data/dataloader.py:557: UserWarning: This DataLoader will create 4 worker processes in total. Our suggested max number of worker in current system is 2, which is smaller than what this DataLoader is going to create. Please be aware that excessive worker creation might get DataLoader running slow or even freeze, lower the worker number to avoid potential slowness/freeze if necessary.\n",
            "  warnings.warn(_create_warning_msg(\n"
          ]
        },
        {
          "output_type": "stream",
          "name": "stdout",
          "text": [
            "Training accuracy: 0.899537037037037 Training loss: 0.005177561181838866\n"
          ]
        },
        {
          "output_type": "display_data",
          "data": {
            "text/plain": [
              "Validation Batches:   0%|          | 0/94 [00:00<?, ?it/s]"
            ],
            "application/vnd.jupyter.widget-view+json": {
              "version_major": 2,
              "version_minor": 0,
              "model_id": "a9c5a968b09149de9895186116d11634"
            }
          },
          "metadata": {}
        },
        {
          "output_type": "stream",
          "name": "stdout",
          "text": [
            "Val accuracy: 8.997666666666667 Val loss: 0.05032573619236549\n"
          ]
        },
        {
          "output_type": "display_data",
          "data": {
            "text/plain": [
              "Training Batches:   0%|          | 0/844 [00:00<?, ?it/s]"
            ],
            "application/vnd.jupyter.widget-view+json": {
              "version_major": 2,
              "version_minor": 0,
              "model_id": "50370992f4394748a2ec77203c97e5c5"
            }
          },
          "metadata": {}
        },
        {
          "output_type": "error",
          "ename": "KeyboardInterrupt",
          "evalue": "",
          "traceback": [
            "\u001b[0;31m---------------------------------------------------------------------------\u001b[0m",
            "\u001b[0;31mKeyboardInterrupt\u001b[0m                         Traceback (most recent call last)",
            "\u001b[0;32m<ipython-input-64-9597ab03ce0e>\u001b[0m in \u001b[0;36m<cell line: 8>\u001b[0;34m()\u001b[0m\n\u001b[1;32m     27\u001b[0m \u001b[0;34m\u001b[0m\u001b[0m\n\u001b[1;32m     28\u001b[0m     \u001b[0;31m# Compute the network output\u001b[0m\u001b[0;34m\u001b[0m\u001b[0;34m\u001b[0m\u001b[0m\n\u001b[0;32m---> 29\u001b[0;31m     \u001b[0my\u001b[0m \u001b[0;34m=\u001b[0m \u001b[0mnet\u001b[0m\u001b[0;34m(\u001b[0m\u001b[0mx\u001b[0m\u001b[0;34m)\u001b[0m\u001b[0;34m\u001b[0m\u001b[0;34m\u001b[0m\u001b[0m\n\u001b[0m\u001b[1;32m     30\u001b[0m \u001b[0;34m\u001b[0m\u001b[0m\n\u001b[1;32m     31\u001b[0m     \u001b[0;31m# Compute the loss\u001b[0m\u001b[0;34m\u001b[0m\u001b[0;34m\u001b[0m\u001b[0m\n",
            "\u001b[0;32m/usr/local/lib/python3.10/dist-packages/torch/nn/modules/module.py\u001b[0m in \u001b[0;36m_wrapped_call_impl\u001b[0;34m(self, *args, **kwargs)\u001b[0m\n\u001b[1;32m   1551\u001b[0m             \u001b[0;32mreturn\u001b[0m \u001b[0mself\u001b[0m\u001b[0;34m.\u001b[0m\u001b[0m_compiled_call_impl\u001b[0m\u001b[0;34m(\u001b[0m\u001b[0;34m*\u001b[0m\u001b[0margs\u001b[0m\u001b[0;34m,\u001b[0m \u001b[0;34m**\u001b[0m\u001b[0mkwargs\u001b[0m\u001b[0;34m)\u001b[0m  \u001b[0;31m# type: ignore[misc]\u001b[0m\u001b[0;34m\u001b[0m\u001b[0;34m\u001b[0m\u001b[0m\n\u001b[1;32m   1552\u001b[0m         \u001b[0;32melse\u001b[0m\u001b[0;34m:\u001b[0m\u001b[0;34m\u001b[0m\u001b[0;34m\u001b[0m\u001b[0m\n\u001b[0;32m-> 1553\u001b[0;31m             \u001b[0;32mreturn\u001b[0m \u001b[0mself\u001b[0m\u001b[0;34m.\u001b[0m\u001b[0m_call_impl\u001b[0m\u001b[0;34m(\u001b[0m\u001b[0;34m*\u001b[0m\u001b[0margs\u001b[0m\u001b[0;34m,\u001b[0m \u001b[0;34m**\u001b[0m\u001b[0mkwargs\u001b[0m\u001b[0;34m)\u001b[0m\u001b[0;34m\u001b[0m\u001b[0;34m\u001b[0m\u001b[0m\n\u001b[0m\u001b[1;32m   1554\u001b[0m \u001b[0;34m\u001b[0m\u001b[0m\n\u001b[1;32m   1555\u001b[0m     \u001b[0;32mdef\u001b[0m \u001b[0m_call_impl\u001b[0m\u001b[0;34m(\u001b[0m\u001b[0mself\u001b[0m\u001b[0;34m,\u001b[0m \u001b[0;34m*\u001b[0m\u001b[0margs\u001b[0m\u001b[0;34m,\u001b[0m \u001b[0;34m**\u001b[0m\u001b[0mkwargs\u001b[0m\u001b[0;34m)\u001b[0m\u001b[0;34m:\u001b[0m\u001b[0;34m\u001b[0m\u001b[0;34m\u001b[0m\u001b[0m\n",
            "\u001b[0;32m/usr/local/lib/python3.10/dist-packages/torch/nn/modules/module.py\u001b[0m in \u001b[0;36m_call_impl\u001b[0;34m(self, *args, **kwargs)\u001b[0m\n\u001b[1;32m   1560\u001b[0m                 \u001b[0;32mor\u001b[0m \u001b[0m_global_backward_pre_hooks\u001b[0m \u001b[0;32mor\u001b[0m \u001b[0m_global_backward_hooks\u001b[0m\u001b[0;34m\u001b[0m\u001b[0;34m\u001b[0m\u001b[0m\n\u001b[1;32m   1561\u001b[0m                 or _global_forward_hooks or _global_forward_pre_hooks):\n\u001b[0;32m-> 1562\u001b[0;31m             \u001b[0;32mreturn\u001b[0m \u001b[0mforward_call\u001b[0m\u001b[0;34m(\u001b[0m\u001b[0;34m*\u001b[0m\u001b[0margs\u001b[0m\u001b[0;34m,\u001b[0m \u001b[0;34m**\u001b[0m\u001b[0mkwargs\u001b[0m\u001b[0;34m)\u001b[0m\u001b[0;34m\u001b[0m\u001b[0;34m\u001b[0m\u001b[0m\n\u001b[0m\u001b[1;32m   1563\u001b[0m \u001b[0;34m\u001b[0m\u001b[0m\n\u001b[1;32m   1564\u001b[0m         \u001b[0;32mtry\u001b[0m\u001b[0;34m:\u001b[0m\u001b[0;34m\u001b[0m\u001b[0;34m\u001b[0m\u001b[0m\n",
            "\u001b[0;32m<ipython-input-29-64e9d0469f9a>\u001b[0m in \u001b[0;36mforward\u001b[0;34m(self, x)\u001b[0m\n\u001b[1;32m     53\u001b[0m \u001b[0;34m\u001b[0m\u001b[0m\n\u001b[1;32m     54\u001b[0m         \u001b[0;31m## First full connection + activation\u001b[0m\u001b[0;34m\u001b[0m\u001b[0;34m\u001b[0m\u001b[0m\n\u001b[0;32m---> 55\u001b[0;31m         \u001b[0mx\u001b[0m \u001b[0;34m=\u001b[0m \u001b[0mself\u001b[0m\u001b[0;34m.\u001b[0m\u001b[0mfc1\u001b[0m\u001b[0;34m(\u001b[0m\u001b[0mx\u001b[0m\u001b[0;34m)\u001b[0m\u001b[0;34m\u001b[0m\u001b[0;34m\u001b[0m\u001b[0m\n\u001b[0m\u001b[1;32m     56\u001b[0m         \u001b[0mx\u001b[0m \u001b[0;34m=\u001b[0m \u001b[0mself\u001b[0m\u001b[0;34m.\u001b[0m\u001b[0mrelu\u001b[0m\u001b[0;34m(\u001b[0m\u001b[0mx\u001b[0m\u001b[0;34m)\u001b[0m\u001b[0;34m\u001b[0m\u001b[0;34m\u001b[0m\u001b[0m\n\u001b[1;32m     57\u001b[0m \u001b[0;34m\u001b[0m\u001b[0m\n",
            "\u001b[0;32m/usr/local/lib/python3.10/dist-packages/torch/nn/modules/module.py\u001b[0m in \u001b[0;36m_wrapped_call_impl\u001b[0;34m(self, *args, **kwargs)\u001b[0m\n\u001b[1;32m   1551\u001b[0m             \u001b[0;32mreturn\u001b[0m \u001b[0mself\u001b[0m\u001b[0;34m.\u001b[0m\u001b[0m_compiled_call_impl\u001b[0m\u001b[0;34m(\u001b[0m\u001b[0;34m*\u001b[0m\u001b[0margs\u001b[0m\u001b[0;34m,\u001b[0m \u001b[0;34m**\u001b[0m\u001b[0mkwargs\u001b[0m\u001b[0;34m)\u001b[0m  \u001b[0;31m# type: ignore[misc]\u001b[0m\u001b[0;34m\u001b[0m\u001b[0;34m\u001b[0m\u001b[0m\n\u001b[1;32m   1552\u001b[0m         \u001b[0;32melse\u001b[0m\u001b[0;34m:\u001b[0m\u001b[0;34m\u001b[0m\u001b[0;34m\u001b[0m\u001b[0m\n\u001b[0;32m-> 1553\u001b[0;31m             \u001b[0;32mreturn\u001b[0m \u001b[0mself\u001b[0m\u001b[0;34m.\u001b[0m\u001b[0m_call_impl\u001b[0m\u001b[0;34m(\u001b[0m\u001b[0;34m*\u001b[0m\u001b[0margs\u001b[0m\u001b[0;34m,\u001b[0m \u001b[0;34m**\u001b[0m\u001b[0mkwargs\u001b[0m\u001b[0;34m)\u001b[0m\u001b[0;34m\u001b[0m\u001b[0;34m\u001b[0m\u001b[0m\n\u001b[0m\u001b[1;32m   1554\u001b[0m \u001b[0;34m\u001b[0m\u001b[0m\n\u001b[1;32m   1555\u001b[0m     \u001b[0;32mdef\u001b[0m \u001b[0m_call_impl\u001b[0m\u001b[0;34m(\u001b[0m\u001b[0mself\u001b[0m\u001b[0;34m,\u001b[0m \u001b[0;34m*\u001b[0m\u001b[0margs\u001b[0m\u001b[0;34m,\u001b[0m \u001b[0;34m**\u001b[0m\u001b[0mkwargs\u001b[0m\u001b[0;34m)\u001b[0m\u001b[0;34m:\u001b[0m\u001b[0;34m\u001b[0m\u001b[0;34m\u001b[0m\u001b[0m\n",
            "\u001b[0;32m/usr/local/lib/python3.10/dist-packages/torch/nn/modules/module.py\u001b[0m in \u001b[0;36m_call_impl\u001b[0;34m(self, *args, **kwargs)\u001b[0m\n\u001b[1;32m   1560\u001b[0m                 \u001b[0;32mor\u001b[0m \u001b[0m_global_backward_pre_hooks\u001b[0m \u001b[0;32mor\u001b[0m \u001b[0m_global_backward_hooks\u001b[0m\u001b[0;34m\u001b[0m\u001b[0;34m\u001b[0m\u001b[0m\n\u001b[1;32m   1561\u001b[0m                 or _global_forward_hooks or _global_forward_pre_hooks):\n\u001b[0;32m-> 1562\u001b[0;31m             \u001b[0;32mreturn\u001b[0m \u001b[0mforward_call\u001b[0m\u001b[0;34m(\u001b[0m\u001b[0;34m*\u001b[0m\u001b[0margs\u001b[0m\u001b[0;34m,\u001b[0m \u001b[0;34m**\u001b[0m\u001b[0mkwargs\u001b[0m\u001b[0;34m)\u001b[0m\u001b[0;34m\u001b[0m\u001b[0;34m\u001b[0m\u001b[0m\n\u001b[0m\u001b[1;32m   1563\u001b[0m \u001b[0;34m\u001b[0m\u001b[0m\n\u001b[1;32m   1564\u001b[0m         \u001b[0;32mtry\u001b[0m\u001b[0;34m:\u001b[0m\u001b[0;34m\u001b[0m\u001b[0;34m\u001b[0m\u001b[0m\n",
            "\u001b[0;32m/usr/local/lib/python3.10/dist-packages/torch/nn/modules/linear.py\u001b[0m in \u001b[0;36mforward\u001b[0;34m(self, input)\u001b[0m\n\u001b[1;32m    115\u001b[0m \u001b[0;34m\u001b[0m\u001b[0m\n\u001b[1;32m    116\u001b[0m     \u001b[0;32mdef\u001b[0m \u001b[0mforward\u001b[0m\u001b[0;34m(\u001b[0m\u001b[0mself\u001b[0m\u001b[0;34m,\u001b[0m \u001b[0minput\u001b[0m\u001b[0;34m:\u001b[0m \u001b[0mTensor\u001b[0m\u001b[0;34m)\u001b[0m \u001b[0;34m->\u001b[0m \u001b[0mTensor\u001b[0m\u001b[0;34m:\u001b[0m\u001b[0;34m\u001b[0m\u001b[0;34m\u001b[0m\u001b[0m\n\u001b[0;32m--> 117\u001b[0;31m         \u001b[0;32mreturn\u001b[0m \u001b[0mF\u001b[0m\u001b[0;34m.\u001b[0m\u001b[0mlinear\u001b[0m\u001b[0;34m(\u001b[0m\u001b[0minput\u001b[0m\u001b[0;34m,\u001b[0m \u001b[0mself\u001b[0m\u001b[0;34m.\u001b[0m\u001b[0mweight\u001b[0m\u001b[0;34m,\u001b[0m \u001b[0mself\u001b[0m\u001b[0;34m.\u001b[0m\u001b[0mbias\u001b[0m\u001b[0;34m)\u001b[0m\u001b[0;34m\u001b[0m\u001b[0;34m\u001b[0m\u001b[0m\n\u001b[0m\u001b[1;32m    118\u001b[0m \u001b[0;34m\u001b[0m\u001b[0m\n\u001b[1;32m    119\u001b[0m     \u001b[0;32mdef\u001b[0m \u001b[0mextra_repr\u001b[0m\u001b[0;34m(\u001b[0m\u001b[0mself\u001b[0m\u001b[0;34m)\u001b[0m \u001b[0;34m->\u001b[0m \u001b[0mstr\u001b[0m\u001b[0;34m:\u001b[0m\u001b[0;34m\u001b[0m\u001b[0;34m\u001b[0m\u001b[0m\n",
            "\u001b[0;31mKeyboardInterrupt\u001b[0m: "
          ]
        }
      ]
    },
    {
      "cell_type": "markdown",
      "metadata": {
        "id": "2PQ0skf4lvB9"
      },
      "source": [
        "## Q10: Making a graph with training/validation accuracy and loss\n",
        "\n",
        "You can visualize your losses and accuracies over time using matplotlib.\n",
        "\n",
        "Modify the training/val loop above to store the values (in a list), and display them in a graph.\n",
        "\n",
        "Can you spot the moment where we start to overfit the training set?\n",
        "\n",
        "Try adjusting the number of epochs, the batch size, the learning rate or changing the optimizer (add some momentum or try Adam) to get a better result on the validation set.\n",
        "\n",
        "Optimizers documentation: https://pytorch.org/docs/stable/optim.html#algorithms"
      ]
    },
    {
      "cell_type": "code",
      "metadata": {
        "id": "B0egYTYPoBxJ"
      },
      "source": [
        "import matplotlib.pyplot as plt\n",
        "import numpy as np\n",
        "\n",
        "### YOUR CODE HERE\n"
      ],
      "execution_count": null,
      "outputs": []
    },
    {
      "cell_type": "markdown",
      "metadata": {
        "id": "LB52Xa82lT6A"
      },
      "source": [
        "## Q11: Evaluate our network on the test set (on GPU)\n",
        "\n",
        "In the same way you wrote the validation loop, create a DataLoader on the mnist test dataset, and write a test loop!\n",
        "\n",
        "You should be able to get 90% accuracy on the test set :)\n"
      ]
    },
    {
      "cell_type": "code",
      "metadata": {
        "id": "AwPVS-iVmSnK"
      },
      "source": [
        "#Get the MNIST test set\n",
        "mnist_test_dataset = torchvision.datasets.MNIST(\".\", train=False, transform=convert, download=True)\n",
        "\n",
        "### WRITE THE TEST LOOP (HINT: it looks a lot like the validation loop)"
      ],
      "execution_count": null,
      "outputs": []
    },
    {
      "cell_type": "markdown",
      "metadata": {
        "id": "4wSgI6liyDUN"
      },
      "source": [
        "# (OPTIONAL) Part 5: Cats vs Dogs with a torchvision network\n",
        "\n",
        "To test our skills on a new dataset, we will work on the famous Dogs vs Cats Kaggle dataset.\n",
        "\n",
        "![cats dogs dataset sample images](https://storage.googleapis.com/tfds-data/visualization/fig/cats_vs_dogs-4.0.0.png)\n",
        "\n",
        "\n",
        "Kaggle is a website that hosts machine learning/data science competitions. Check it out! https://www.kaggle.com/\n",
        "\n",
        "![kaggle logo](https://miro.medium.com/max/668/1*GZrTyTz0OKMbxnO5Trhcew.png)\n",
        "\n",
        "## Downloading the data\n",
        "\n",
        "First, go to the Kaggle website and create an account.\n",
        "\n",
        "Then go to your account, click on Create New API Token - It will download kaggle.json file on your machine.\n",
        "\n",
        "Upload the kaggle.json file using this code:\n",
        "\n",
        "\n"
      ]
    },
    {
      "cell_type": "code",
      "metadata": {
        "id": "-VsH28HtyVb7"
      },
      "source": [
        "! pip install -q kaggle\n",
        "\n",
        "from google.colab import files\n",
        "\n",
        "files.upload()"
      ],
      "execution_count": null,
      "outputs": []
    },
    {
      "cell_type": "markdown",
      "metadata": {
        "id": "YYz7f5u122gG"
      },
      "source": [
        "Download the dogs vs cats dataset using this code:"
      ]
    },
    {
      "cell_type": "code",
      "metadata": {
        "id": "K1mghRYU2Pem"
      },
      "source": [
        "! mkdir ~/.kaggle\n",
        "\n",
        "! cp kaggle.json ~/.kaggle/\n",
        "\n",
        "! chmod 600 ~/.kaggle/kaggle.json\n",
        "\n",
        "! kaggle competitions download -c dogs-vs-cats"
      ],
      "execution_count": null,
      "outputs": []
    },
    {
      "cell_type": "markdown",
      "metadata": {
        "id": "7ajluLCw3F6P"
      },
      "source": [
        "Extract the archives:"
      ]
    },
    {
      "cell_type": "code",
      "metadata": {
        "id": "Y2PrEude3CLj"
      },
      "source": [
        "! rm -rf test1 train\n",
        "\n",
        "! unzip -q train.zip\n",
        "\n",
        "! unzip -q test1.zip"
      ],
      "execution_count": null,
      "outputs": []
    },
    {
      "cell_type": "markdown",
      "metadata": {
        "id": "7gHvsNGB4k9D"
      },
      "source": [
        "Put the data in separate directories:"
      ]
    },
    {
      "cell_type": "code",
      "metadata": {
        "id": "vITKFz-E3gWj"
      },
      "source": [
        "! mkdir train/cats\n",
        "! mkdir train/dogs\n",
        "! mv train/cat.* train/cats\n",
        "! mv train/dog.* train/dogs"
      ],
      "execution_count": null,
      "outputs": []
    },
    {
      "cell_type": "markdown",
      "metadata": {
        "id": "pVbeQPW63BVs"
      },
      "source": [
        "## Q12: Load the data\n",
        "\n",
        "Using ImageFolder from torchvision (https://pytorch.org/docs/stable/torchvision/datasets.html#imagefolder), load the dataset.\n",
        "\n",
        "The training set is in the \"train\" directory."
      ]
    },
    {
      "cell_type": "code",
      "metadata": {
        "id": "5zVshgAs6IvJ"
      },
      "source": [
        "### YOUR CODE HERE"
      ],
      "execution_count": null,
      "outputs": []
    },
    {
      "cell_type": "markdown",
      "metadata": {
        "id": "LRQ-PjUF52nF"
      },
      "source": [
        "## Q13: Display a few images\n",
        "\n",
        "As before, display a few images with the **display** function. You can see that these images have varying sizes."
      ]
    },
    {
      "cell_type": "code",
      "metadata": {
        "id": "mySnUqsM6R1b"
      },
      "source": [
        "### YOUR CODE HERE"
      ],
      "execution_count": null,
      "outputs": []
    },
    {
      "cell_type": "markdown",
      "metadata": {
        "id": "oOslT3Wi96LD"
      },
      "source": [
        "## Using a torchvision model\n",
        "\n",
        "torchvision has a repository of popular models ready to use for diverse computer vision tasks (classification, segmentation,...)\n",
        "\n",
        "https://pytorch.org/docs/stable/torchvision/models.html#classification\n",
        "\n"
      ]
    },
    {
      "cell_type": "code",
      "metadata": {
        "id": "NiqMbxqi-QZu"
      },
      "source": [
        "## You can change the model if you want\n",
        "net = torchvision.models.resnet18()\n",
        "\n",
        "print(net)\n",
        "\n",
        "## torchvision models are meant to be used on imagenet (1000 classes)\n",
        "## since we only have two classes, we need to modify the last layer\n",
        "\n",
        "net.fc = nn.Linear(512,2)"
      ],
      "execution_count": null,
      "outputs": []
    },
    {
      "cell_type": "markdown",
      "metadata": {
        "id": "ze1WstQs9UYo"
      },
      "source": [
        "## Q14: Resize the images on the fly using torchvision transforms\n",
        "\n",
        "We can see from the documentation that torchvision models expect at least 244x244 images.\n",
        "\n",
        "1. Using torchvision.transforms, create a new ImageFolder dataset with on-the-fly resizing of images.\n",
        "\n",
        "2. Split this Dataset into training and validation sets, as before.\n",
        "\n",
        "3. Create a DataLoader for each set as well, just like before."
      ]
    },
    {
      "cell_type": "code",
      "metadata": {
        "id": "dXpwostGj_FX"
      },
      "source": [
        "### YOUR CODE HERE"
      ],
      "execution_count": null,
      "outputs": []
    },
    {
      "cell_type": "markdown",
      "metadata": {
        "id": "eftQGadO_P0v"
      },
      "source": [
        "## Q15: Training the model\n",
        "\n",
        "Write the training loop. You should be able to pretty much copy-paste the one from Q9."
      ]
    },
    {
      "cell_type": "code",
      "metadata": {
        "id": "NRdlDL92-ubE"
      },
      "source": [
        "LEARNING_RATE = 0.001\n",
        "\n",
        "## Move model to the GPU\n",
        "net = net.cuda()\n",
        "\n",
        "# Negative log likelihood loss\n",
        "criterion = nn.NLLLoss()\n",
        "\n",
        "# Stochastic Gradient Descent\n",
        "optimizer = torch.optim.Adam(net.parameters(), lr=LEARNING_RATE)"
      ],
      "execution_count": null,
      "outputs": []
    },
    {
      "cell_type": "code",
      "metadata": {
        "id": "Px5tj6lz9RKY"
      },
      "source": [
        "### YOUR CODE HERE"
      ],
      "execution_count": null,
      "outputs": []
    },
    {
      "cell_type": "markdown",
      "metadata": {
        "id": "3ukodeM5BJ9T"
      },
      "source": [
        "## Q16: Test the network\n",
        "\n",
        "Compute some predictions on the test set."
      ]
    },
    {
      "cell_type": "code",
      "metadata": {
        "id": "u6lYqRB0HOFG"
      },
      "source": [
        "### YOUR CODE HERE"
      ],
      "execution_count": null,
      "outputs": []
    },
    {
      "cell_type": "markdown",
      "metadata": {
        "id": "a4olRMdTBWyb"
      },
      "source": [
        "## Q17: Going further\n",
        "\n",
        "Try different networks from torchvision, and different parameters. The winner of the competition got more than 98% accuracy. How much can you get?\n",
        "\n",
        "Data augmentation (modifying your input data to make \"more\" of it) is a huge thing in deep learning. Try some techniques such as random cropping and rotation using torchvision transforms in your Dataset objects!\n",
        "\n",
        "PyTorch has a lot of tutorials to get you started: https://pytorch.org/tutorials/index.html\n",
        "\n",
        "Have fun!\n",
        "\n"
      ]
    }
  ]
}